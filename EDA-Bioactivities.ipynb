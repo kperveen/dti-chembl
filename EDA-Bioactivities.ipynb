{
 "cells": [
  {
   "cell_type": "code",
   "execution_count": 1,
   "metadata": {},
   "outputs": [],
   "source": [
    "import pandas as pd\n",
    "import matplotlib.pyplot as plt\n",
    "import seaborn as sns\n",
    "from pandas.plotting import table\n",
    "from collections import Counter\n",
    "import numpy as np\n",
    "import scipy as sp\n",
    "%matplotlib inline"
   ]
  },
  {
   "cell_type": "markdown",
   "metadata": {},
   "source": [
    "## Read Data"
   ]
  },
  {
   "cell_type": "code",
   "execution_count": 2,
   "metadata": {},
   "outputs": [],
   "source": [
    "raw_data = pd.read_csv(\"ic50.csv\", sep=\";\", usecols=[\"Molecule ChEMBL ID\", \"Smiles\", \"Standard Value\", \n",
    "                                                                \"Standard Units\", \"Target ChEMBL ID\", \n",
    "                                                                \"Standard Relation\", \"Target Name\"])\n",
    "targets = pd.read_csv(\"targets-list.csv\", usecols=[\"CHEMBLID\"])"
   ]
  },
  {
   "cell_type": "code",
   "execution_count": 3,
   "metadata": {},
   "outputs": [
    {
     "data": {
      "text/html": [
       "<div>\n",
       "<style scoped>\n",
       "    .dataframe tbody tr th:only-of-type {\n",
       "        vertical-align: middle;\n",
       "    }\n",
       "\n",
       "    .dataframe tbody tr th {\n",
       "        vertical-align: top;\n",
       "    }\n",
       "\n",
       "    .dataframe thead th {\n",
       "        text-align: right;\n",
       "    }\n",
       "</style>\n",
       "<table border=\"1\" class=\"dataframe\">\n",
       "  <thead>\n",
       "    <tr style=\"text-align: right;\">\n",
       "      <th></th>\n",
       "      <th>Molecule ChEMBL ID</th>\n",
       "      <th>Smiles</th>\n",
       "      <th>Standard Relation</th>\n",
       "      <th>Standard Value</th>\n",
       "      <th>Standard Units</th>\n",
       "      <th>Target ChEMBL ID</th>\n",
       "      <th>Target Name</th>\n",
       "    </tr>\n",
       "  </thead>\n",
       "  <tbody>\n",
       "    <tr>\n",
       "      <th>0</th>\n",
       "      <td>CHEMBL104846</td>\n",
       "      <td>O=C(O)CC[C@H](NC(=O)c1ccc(N(CCF)Cc2ccc3nc(CO)[...</td>\n",
       "      <td>'='</td>\n",
       "      <td>20000.00</td>\n",
       "      <td>nM</td>\n",
       "      <td>CHEMBL386</td>\n",
       "      <td>L1210</td>\n",
       "    </tr>\n",
       "    <tr>\n",
       "      <th>1</th>\n",
       "      <td>CHEMBL421247</td>\n",
       "      <td>N=C(N)NCCC[C@H]1NC(=O)[C@@H]2CCCN2C(=O)[C@@H](...</td>\n",
       "      <td>'='</td>\n",
       "      <td>17700.00</td>\n",
       "      <td>nM</td>\n",
       "      <td>CHEMBL2093869</td>\n",
       "      <td>Integrin alpha-IIb/beta-3</td>\n",
       "    </tr>\n",
       "    <tr>\n",
       "      <th>2</th>\n",
       "      <td>CHEMBL3142695</td>\n",
       "      <td>CC(C)(C)OC(=O)N[C@@H](Cc1c[nH]c2ccccc12)C(=O)N...</td>\n",
       "      <td>'='</td>\n",
       "      <td>3.60</td>\n",
       "      <td>nM</td>\n",
       "      <td>CHEMBL3501</td>\n",
       "      <td>Cholecystokinin A receptor</td>\n",
       "    </tr>\n",
       "    <tr>\n",
       "      <th>3</th>\n",
       "      <td>CHEMBL501539</td>\n",
       "      <td>C[C@H]1[C@H]2[C@H](C[C@H]3[C@@H]4CC[C@H]5C[C@@...</td>\n",
       "      <td>'='</td>\n",
       "      <td>4.02</td>\n",
       "      <td>ug.mL-1</td>\n",
       "      <td>CHEMBL399</td>\n",
       "      <td>HeLa</td>\n",
       "    </tr>\n",
       "    <tr>\n",
       "      <th>4</th>\n",
       "      <td>CHEMBL240954</td>\n",
       "      <td>CC(=O)O[C@H]1[C@H](C)O[C@@H](Oc2c(-c3ccc(O)cc3...</td>\n",
       "      <td>'='</td>\n",
       "      <td>20600.00</td>\n",
       "      <td>nM</td>\n",
       "      <td>CHEMBL340</td>\n",
       "      <td>Cytochrome P450 3A4</td>\n",
       "    </tr>\n",
       "  </tbody>\n",
       "</table>\n",
       "</div>"
      ],
      "text/plain": [
       "  Molecule ChEMBL ID                                             Smiles  \\\n",
       "0       CHEMBL104846  O=C(O)CC[C@H](NC(=O)c1ccc(N(CCF)Cc2ccc3nc(CO)[...   \n",
       "1       CHEMBL421247  N=C(N)NCCC[C@H]1NC(=O)[C@@H]2CCCN2C(=O)[C@@H](...   \n",
       "2      CHEMBL3142695  CC(C)(C)OC(=O)N[C@@H](Cc1c[nH]c2ccccc12)C(=O)N...   \n",
       "3       CHEMBL501539  C[C@H]1[C@H]2[C@H](C[C@H]3[C@@H]4CC[C@H]5C[C@@...   \n",
       "4       CHEMBL240954  CC(=O)O[C@H]1[C@H](C)O[C@@H](Oc2c(-c3ccc(O)cc3...   \n",
       "\n",
       "  Standard Relation  Standard Value Standard Units Target ChEMBL ID  \\\n",
       "0               '='        20000.00             nM        CHEMBL386   \n",
       "1               '='        17700.00             nM    CHEMBL2093869   \n",
       "2               '='            3.60             nM       CHEMBL3501   \n",
       "3               '='            4.02        ug.mL-1        CHEMBL399   \n",
       "4               '='        20600.00             nM        CHEMBL340   \n",
       "\n",
       "                  Target Name  \n",
       "0                       L1210  \n",
       "1   Integrin alpha-IIb/beta-3  \n",
       "2  Cholecystokinin A receptor  \n",
       "3                        HeLa  \n",
       "4         Cytochrome P450 3A4  "
      ]
     },
     "execution_count": 3,
     "metadata": {},
     "output_type": "execute_result"
    }
   ],
   "source": [
    "raw_data.head()"
   ]
  },
  {
   "cell_type": "code",
   "execution_count": 5,
   "metadata": {},
   "outputs": [
    {
     "data": {
      "text/plain": [
       "(2176720, 7)"
      ]
     },
     "execution_count": 5,
     "metadata": {},
     "output_type": "execute_result"
    }
   ],
   "source": [
    "raw_data.shape"
   ]
  },
  {
   "cell_type": "code",
   "execution_count": 6,
   "metadata": {},
   "outputs": [
    {
     "data": {
      "text/html": [
       "<div>\n",
       "<style scoped>\n",
       "    .dataframe tbody tr th:only-of-type {\n",
       "        vertical-align: middle;\n",
       "    }\n",
       "\n",
       "    .dataframe tbody tr th {\n",
       "        vertical-align: top;\n",
       "    }\n",
       "\n",
       "    .dataframe thead th {\n",
       "        text-align: right;\n",
       "    }\n",
       "</style>\n",
       "<table border=\"1\" class=\"dataframe\">\n",
       "  <thead>\n",
       "    <tr style=\"text-align: right;\">\n",
       "      <th></th>\n",
       "      <th>CHEMBLID</th>\n",
       "    </tr>\n",
       "  </thead>\n",
       "  <tbody>\n",
       "    <tr>\n",
       "      <th>0</th>\n",
       "      <td>CHEMBL203</td>\n",
       "    </tr>\n",
       "    <tr>\n",
       "      <th>1</th>\n",
       "      <td>CHEMBL1957</td>\n",
       "    </tr>\n",
       "    <tr>\n",
       "      <th>2</th>\n",
       "      <td>CHEMBL4026</td>\n",
       "    </tr>\n",
       "    <tr>\n",
       "      <th>3</th>\n",
       "      <td>CHEMBL2842</td>\n",
       "    </tr>\n",
       "    <tr>\n",
       "      <th>4</th>\n",
       "      <td>CHEMBL2364164</td>\n",
       "    </tr>\n",
       "    <tr>\n",
       "      <th>5</th>\n",
       "      <td>CHEMBL1910</td>\n",
       "    </tr>\n",
       "    <tr>\n",
       "      <th>6</th>\n",
       "      <td>CHEMBL203</td>\n",
       "    </tr>\n",
       "    <tr>\n",
       "      <th>7</th>\n",
       "      <td>CHEMBL1955</td>\n",
       "    </tr>\n",
       "    <tr>\n",
       "      <th>8</th>\n",
       "      <td>CHEMBL3474</td>\n",
       "    </tr>\n",
       "    <tr>\n",
       "      <th>9</th>\n",
       "      <td>CHEMBL614725</td>\n",
       "    </tr>\n",
       "    <tr>\n",
       "      <th>10</th>\n",
       "      <td>CHEMBL209</td>\n",
       "    </tr>\n",
       "    <tr>\n",
       "      <th>11</th>\n",
       "      <td>CHEMBL3988635</td>\n",
       "    </tr>\n",
       "    <tr>\n",
       "      <th>12</th>\n",
       "      <td>CHEMBL4026</td>\n",
       "    </tr>\n",
       "    <tr>\n",
       "      <th>13</th>\n",
       "      <td>CHEMBL1145521</td>\n",
       "    </tr>\n",
       "    <tr>\n",
       "      <th>14</th>\n",
       "      <td>CHEMBL1957</td>\n",
       "    </tr>\n",
       "    <tr>\n",
       "      <th>15</th>\n",
       "      <td>CHEMBL3712878</td>\n",
       "    </tr>\n",
       "    <tr>\n",
       "      <th>16</th>\n",
       "      <td>CHEMBL3580494</td>\n",
       "    </tr>\n",
       "    <tr>\n",
       "      <th>17</th>\n",
       "      <td>CHEMBL3331</td>\n",
       "    </tr>\n",
       "    <tr>\n",
       "      <th>18</th>\n",
       "      <td>CHEMBL2189121</td>\n",
       "    </tr>\n",
       "  </tbody>\n",
       "</table>\n",
       "</div>"
      ],
      "text/plain": [
       "         CHEMBLID\n",
       "0       CHEMBL203\n",
       "1      CHEMBL1957\n",
       "2      CHEMBL4026\n",
       "3      CHEMBL2842\n",
       "4   CHEMBL2364164\n",
       "5      CHEMBL1910\n",
       "6       CHEMBL203\n",
       "7      CHEMBL1955\n",
       "8      CHEMBL3474\n",
       "9    CHEMBL614725\n",
       "10      CHEMBL209\n",
       "11  CHEMBL3988635\n",
       "12     CHEMBL4026\n",
       "13  CHEMBL1145521\n",
       "14     CHEMBL1957\n",
       "15  CHEMBL3712878\n",
       "16  CHEMBL3580494\n",
       "17     CHEMBL3331\n",
       "18  CHEMBL2189121"
      ]
     },
     "execution_count": 6,
     "metadata": {},
     "output_type": "execute_result"
    }
   ],
   "source": [
    "targets"
   ]
  },
  {
   "cell_type": "markdown",
   "metadata": {},
   "source": [
    "### Update data to only contain targets listed above"
   ]
  },
  {
   "cell_type": "code",
   "execution_count": 7,
   "metadata": {},
   "outputs": [],
   "source": [
    "targets_ids = targets[\"CHEMBLID\"].tolist()"
   ]
  },
  {
   "cell_type": "code",
   "execution_count": 9,
   "metadata": {},
   "outputs": [],
   "source": [
    "cancer_data = raw_data.loc[raw_data['Target ChEMBL ID'].isin(targets_ids)]"
   ]
  },
  {
   "cell_type": "code",
   "execution_count": 10,
   "metadata": {},
   "outputs": [
    {
     "name": "stdout",
     "output_type": "stream",
     "text": [
      "Targets found = 11\n"
     ]
    }
   ],
   "source": [
    "num_of_targets_found = len(set(cancer_data[\"Target Name\"].tolist()))\n",
    "print(\"Targets found = {}\".format(num_of_targets_found))"
   ]
  },
  {
   "cell_type": "markdown",
   "metadata": {},
   "source": [
    "## Describing Data"
   ]
  },
  {
   "cell_type": "code",
   "execution_count": 11,
   "metadata": {},
   "outputs": [
    {
     "name": "stdout",
     "output_type": "stream",
     "text": [
      "Refactored data has 26266 rows and 7 columns.\n"
     ]
    }
   ],
   "source": [
    "print(\"Refactored data has {} rows and {} columns.\".format(cancer_data.shape[0], cancer_data.shape[1]))"
   ]
  },
  {
   "cell_type": "code",
   "execution_count": 12,
   "metadata": {},
   "outputs": [
    {
     "name": "stdout",
     "output_type": "stream",
     "text": [
      "Columns which have empty values: \n",
      "\n",
      "Molecule ChEMBL ID       0\n",
      "Smiles                  33\n",
      "Standard Relation     1490\n",
      "Standard Value        1495\n",
      "Standard Units        1495\n",
      "Target ChEMBL ID         0\n",
      "Target Name              0\n",
      "dtype: int64 \n"
     ]
    }
   ],
   "source": [
    "# Nan values\n",
    "print(\"Columns which have empty values: \\n\\n{} \".format(cancer_data.isna().sum()))"
   ]
  },
  {
   "cell_type": "markdown",
   "metadata": {},
   "source": [
    "### 1. Explore column Standard Value"
   ]
  },
  {
   "cell_type": "code",
   "execution_count": 13,
   "metadata": {},
   "outputs": [
    {
     "data": {
      "text/html": [
       "<div>\n",
       "<style scoped>\n",
       "    .dataframe tbody tr th:only-of-type {\n",
       "        vertical-align: middle;\n",
       "    }\n",
       "\n",
       "    .dataframe tbody tr th {\n",
       "        vertical-align: top;\n",
       "    }\n",
       "\n",
       "    .dataframe thead th {\n",
       "        text-align: right;\n",
       "    }\n",
       "</style>\n",
       "<table border=\"1\" class=\"dataframe\">\n",
       "  <thead>\n",
       "    <tr style=\"text-align: right;\">\n",
       "      <th></th>\n",
       "      <th>Standard Value</th>\n",
       "    </tr>\n",
       "  </thead>\n",
       "  <tbody>\n",
       "    <tr>\n",
       "      <th>count</th>\n",
       "      <td>2.477100e+04</td>\n",
       "    </tr>\n",
       "    <tr>\n",
       "      <th>mean</th>\n",
       "      <td>4.051821e+04</td>\n",
       "    </tr>\n",
       "    <tr>\n",
       "      <th>std</th>\n",
       "      <td>1.018157e+06</td>\n",
       "    </tr>\n",
       "    <tr>\n",
       "      <th>min</th>\n",
       "      <td>1.300000e-03</td>\n",
       "    </tr>\n",
       "    <tr>\n",
       "      <th>25%</th>\n",
       "      <td>2.900000e+01</td>\n",
       "    </tr>\n",
       "    <tr>\n",
       "      <th>50%</th>\n",
       "      <td>2.900000e+02</td>\n",
       "    </tr>\n",
       "    <tr>\n",
       "      <th>75%</th>\n",
       "      <td>6.000000e+03</td>\n",
       "    </tr>\n",
       "    <tr>\n",
       "      <th>max</th>\n",
       "      <td>1.000000e+08</td>\n",
       "    </tr>\n",
       "  </tbody>\n",
       "</table>\n",
       "</div>"
      ],
      "text/plain": [
       "       Standard Value\n",
       "count    2.477100e+04\n",
       "mean     4.051821e+04\n",
       "std      1.018157e+06\n",
       "min      1.300000e-03\n",
       "25%      2.900000e+01\n",
       "50%      2.900000e+02\n",
       "75%      6.000000e+03\n",
       "max      1.000000e+08"
      ]
     },
     "execution_count": 13,
     "metadata": {},
     "output_type": "execute_result"
    }
   ],
   "source": [
    "cancer_data.describe()"
   ]
  },
  {
   "cell_type": "code",
   "execution_count": 14,
   "metadata": {},
   "outputs": [
    {
     "data": {
      "text/plain": [
       "<matplotlib.axes._subplots.AxesSubplot at 0x11f52ff90>"
      ]
     },
     "execution_count": 14,
     "metadata": {},
     "output_type": "execute_result"
    },
    {
     "data": {
      "image/png": "[encoded data removed]",
      "text/plain": [
       "<Figure size 432x288 with 1 Axes>"
      ]
     },
     "metadata": {
      "needs_background": "light"
     },
     "output_type": "display_data"
    }
   ],
   "source": [
    "## Distribution of Standard Value by using kernal density estimation\n",
    "\n",
    "(cancer_data[\"Standard Value\"]).plot.kde(bw_method=15)"
   ]
  },
  {
   "cell_type": "markdown",
   "metadata": {},
   "source": [
    "### 2. Explore column Standard Units"
   ]
  },
  {
   "cell_type": "code",
   "execution_count": 15,
   "metadata": {},
   "outputs": [
    {
     "name": "stdout",
     "output_type": "stream",
     "text": [
      "All standard value units, {nan, 'nM', 'ug/g', \"10'7nM\", '/uM', 'ug.mL-1'}\n"
     ]
    }
   ],
   "source": [
    "#List the standard units used in the dataset\n",
    "\n",
    "sv_units = set(cancer_data[\"Standard Units\"].tolist())\n",
    "print(\"All standard value units, {}\".format(sv_units))\n",
    "\n",
    "### Comment: We will convert the values to have the same units and remove activities with units = nan"
   ]
  },
  {
   "cell_type": "markdown",
   "metadata": {},
   "source": [
    "### 3. Explore column Target CHEMBL ID"
   ]
  },
  {
   "cell_type": "code",
   "execution_count": 16,
   "metadata": {},
   "outputs": [
    {
     "data": {
      "text/plain": [
       "CHEMBL203        12496\n",
       "CHEMBL2842        4596\n",
       "CHEMBL1957        4354\n",
       "CHEMBL614725      2046\n",
       "CHEMBL4026         919\n",
       "CHEMBL3474         604\n",
       "CHEMBL209          600\n",
       "CHEMBL1955         519\n",
       "CHEMBL2189121       93\n",
       "CHEMBL3331          30\n",
       "CHEMBL1910           9\n",
       "Name: Target ChEMBL ID, dtype: int64"
      ]
     },
     "execution_count": 16,
     "metadata": {},
     "output_type": "execute_result"
    }
   ],
   "source": [
    "cancer_data['Target ChEMBL ID'].value_counts()"
   ]
  },
  {
   "cell_type": "code",
   "execution_count": 17,
   "metadata": {},
   "outputs": [
    {
     "data": {
      "image/png": "[encoded data removed]",
      "text/plain": [
       "<Figure size 432x288 with 1 Axes>"
      ]
     },
     "metadata": {
      "needs_background": "light"
     },
     "output_type": "display_data"
    }
   ],
   "source": [
    "# Graph of targets value counts, will help in removing targets with less information\n",
    "\n",
    "cancer_data['Target ChEMBL ID'].value_counts().plot(kind='bar');"
   ]
  },
  {
   "cell_type": "markdown",
   "metadata": {},
   "source": [
    "### 4. Explore column Molecule CHEMBL ID"
   ]
  },
  {
   "cell_type": "code",
   "execution_count": 18,
   "metadata": {},
   "outputs": [],
   "source": [
    "compounds_vc = cancer_data['Molecule ChEMBL ID'].value_counts()"
   ]
  },
  {
   "cell_type": "code",
   "execution_count": 19,
   "metadata": {},
   "outputs": [
    {
     "data": {
      "text/plain": [
       "CHEMBL939        126\n",
       "CHEMBL553         89\n",
       "CHEMBL3353410     61\n",
       "CHEMBL554         43\n",
       "CHEMBL388978      41\n",
       "                ... \n",
       "CHEMBL3670165      1\n",
       "CHEMBL523122       1\n",
       "CHEMBL3912514      1\n",
       "CHEMBL1095627      1\n",
       "CHEMBL1367683      1\n",
       "Name: Molecule ChEMBL ID, Length: 19417, dtype: int64"
      ]
     },
     "execution_count": 19,
     "metadata": {},
     "output_type": "execute_result"
    }
   ],
   "source": [
    "compounds_vc"
   ]
  },
  {
   "cell_type": "markdown",
   "metadata": {},
   "source": [
    "#### Total 19417 compounds"
   ]
  },
  {
   "cell_type": "markdown",
   "metadata": {},
   "source": [
    "#### Graph of compounds value count"
   ]
  },
  {
   "cell_type": "code",
   "execution_count": 21,
   "metadata": {},
   "outputs": [
    {
     "data": {
      "text/plain": [
       "<matplotlib.axes._subplots.AxesSubplot at 0x1a22ba02d0>"
      ]
     },
     "execution_count": 21,
     "metadata": {},
     "output_type": "execute_result"
    },
    {
     "data": {
      "image/png": "[encoded data removed]",
      "text/plain": [
       "<Figure size 432x288 with 1 Axes>"
      ]
     },
     "metadata": {
      "needs_background": "light"
     },
     "output_type": "display_data"
    }
   ],
   "source": [
    "compounds_vc.value_counts().sort_index().plot(kind='bar')"
   ]
  },
  {
   "cell_type": "code",
   "execution_count": 22,
   "metadata": {},
   "outputs": [
    {
     "data": {
      "text/plain": [
       "<Figure size 720x360 with 0 Axes>"
      ]
     },
     "metadata": {},
     "output_type": "display_data"
    },
    {
     "data": {
      "image/png": "[encoded data removed]",
      "text/plain": [
       "<Figure size 640x480 with 1 Axes>"
      ]
     },
     "metadata": {},
     "output_type": "display_data"
    }
   ],
   "source": [
    "compounds_count = compounds_vc.value_counts().sort_index().index.tolist()\n",
    "activities_count = compounds_vc.value_counts().sort_index().values.tolist()\n",
    "fig = plt.figure(figsize = (10, 5)) \n",
    "  \n",
    "\n",
    "plt.rcdefaults()\n",
    "fig, ax = plt.subplots()\n",
    "\n",
    "y_pos = np.arange(len(activities_count))\n",
    "error = np.random.rand(len(activities_count))\n",
    "\n",
    "ax.barh(y_pos, compounds_count, xerr=error, align='center')\n",
    "ax.set_yticks(y_pos)\n",
    "ax.set_yticklabels(activities_count)\n",
    "ax.invert_yaxis()  # labels read top-to-bottom\n",
    "ax.set_xlabel('Compounds')\n",
    "ax.set_ylabel('Activities')\n",
    "ax.set_title('Compounds Counts')\n",
    "\n",
    "plt.show()"
   ]
  },
  {
   "cell_type": "markdown",
   "metadata": {},
   "source": [
    "### 5. Explore Standard Relation"
   ]
  },
  {
   "cell_type": "code",
   "execution_count": 23,
   "metadata": {},
   "outputs": [
    {
     "name": "stdout",
     "output_type": "stream",
     "text": [
      "All standard relation values, {nan, \"'>='\", \"'<'\", \"'='\", \"'<='\", \"'~'\", \"'>'\", \"'>>'\"}\n"
     ]
    }
   ],
   "source": [
    "# Look for values used in Standard Relation\n",
    "sr_values = set(cancer_data[\"Standard Relation\"].tolist())\n",
    "print(\"All standard relation values, {}\".format(sr_values))"
   ]
  },
  {
   "cell_type": "markdown",
   "metadata": {},
   "source": [
    "### 6. Explore Molecule and Target Interactions"
   ]
  },
  {
   "cell_type": "code",
   "execution_count": 27,
   "metadata": {},
   "outputs": [
    {
     "name": "stderr",
     "output_type": "stream",
     "text": [
      "/Users/Shared/anaconda3/lib/python3.7/site-packages/ipykernel_launcher.py:1: SettingWithCopyWarning: \n",
      "A value is trying to be set on a copy of a slice from a DataFrame.\n",
      "Try using .loc[row_indexer,col_indexer] = value instead\n",
      "\n",
      "See the caveats in the documentation: https://pandas.pydata.org/pandas-docs/stable/user_guide/indexing.html#returning-a-view-versus-a-copy\n",
      "  \"\"\"Entry point for launching an IPython kernel.\n"
     ]
    }
   ],
   "source": [
    "cancer_data['COUNTER'] =1 \n",
    "group_data = cancer_data.groupby(['Molecule ChEMBL ID','Target ChEMBL ID'])['COUNTER'].sum()\n",
    "interaction_count = group_data.value_counts().sort_index().index.tolist()\n",
    "interaction_vals = group_data.value_counts().sort_index().values.tolist()\n",
    "\n"
   ]
  },
  {
   "cell_type": "code",
   "execution_count": 28,
   "metadata": {},
   "outputs": [
    {
     "data": {
      "text/plain": [
       "<Figure size 1000x500 with 0 Axes>"
      ]
     },
     "metadata": {},
     "output_type": "display_data"
    },
    {
     "data": {
      "image/png": "[encoded data removed]",
      "text/plain": [
       "<Figure size 640x480 with 1 Axes>"
      ]
     },
     "metadata": {},
     "output_type": "display_data"
    }
   ],
   "source": [
    "fig = plt.figure(figsize = (10, 5)) \n",
    "  \n",
    "\n",
    "plt.rcdefaults()\n",
    "fig, ax = plt.subplots()\n",
    "\n",
    "y_pos = np.arange(len(interaction_vals))\n",
    "error = np.random.rand(len(interaction_vals))\n",
    "\n",
    "ax.barh(y_pos, interaction_count, xerr=error, align='center')\n",
    "ax.set_yticks(y_pos)\n",
    "ax.set_yticklabels(interaction_vals)\n",
    "ax.invert_yaxis()  # labels read top-to-bottom\n",
    "ax.set_xlabel('Interactions Count')\n",
    "ax.set_ylabel('Compound and Target')\n",
    "ax.set_title('Compound/Target Interactions Count')\n",
    "\n",
    "plt.show()"
   ]
  },
  {
   "cell_type": "markdown",
   "metadata": {},
   "source": [
    "#### Find out targets with interaction count more than 20"
   ]
  },
  {
   "cell_type": "code",
   "execution_count": 29,
   "metadata": {},
   "outputs": [
    {
     "name": "stdout",
     "output_type": "stream",
     "text": [
      "Targets with greater than 7 interactions are \n",
      "\n",
      "['CHEMBL203', 'CHEMBL4026', 'CHEMBL1955', 'CHEMBL614725', 'CHEMBL1957', 'CHEMBL2842', 'CHEMBL3474'] \n"
     ]
    }
   ],
   "source": [
    "target_mol_inter = group_data.to_frame()\n",
    "counter_values = target_mol_inter[target_mol_inter['COUNTER'] >= 7]\n",
    "list_interactions = list(set(counter_values.index)) \n",
    "a_list = [a_tuple[1:] for a_tuple in list_interactions]\n",
    "\n",
    "targets = []\n",
    "\n",
    "for t in set(a_list):\n",
    "    targets.append(t[0])\n",
    "\n",
    "print('Targets with greater than 7 interactions are \\n\\n{} '.format(targets))"
   ]
  },
  {
   "cell_type": "code",
   "execution_count": 34,
   "metadata": {},
   "outputs": [
    {
     "data": {
      "text/html": [
       "<div>\n",
       "<style scoped>\n",
       "    .dataframe tbody tr th:only-of-type {\n",
       "        vertical-align: middle;\n",
       "    }\n",
       "\n",
       "    .dataframe tbody tr th {\n",
       "        vertical-align: top;\n",
       "    }\n",
       "\n",
       "    .dataframe thead th {\n",
       "        text-align: right;\n",
       "    }\n",
       "</style>\n",
       "<table border=\"1\" class=\"dataframe\">\n",
       "  <thead>\n",
       "    <tr style=\"text-align: right;\">\n",
       "      <th></th>\n",
       "      <th>Molecule ChEMBL ID</th>\n",
       "      <th>Smiles</th>\n",
       "      <th>Standard Relation</th>\n",
       "      <th>Standard Value</th>\n",
       "      <th>Standard Units</th>\n",
       "      <th>Target ChEMBL ID</th>\n",
       "      <th>Target Name</th>\n",
       "      <th>COUNTER</th>\n",
       "    </tr>\n",
       "  </thead>\n",
       "  <tbody>\n",
       "    <tr>\n",
       "      <th>27</th>\n",
       "      <td>CHEMBL77814</td>\n",
       "      <td>N#CC(C#N)=CNc1ccc(O)cc1</td>\n",
       "      <td>'='</td>\n",
       "      <td>350000.00</td>\n",
       "      <td>nM</td>\n",
       "      <td>CHEMBL203</td>\n",
       "      <td>Epidermal growth factor receptor erbB1</td>\n",
       "      <td>1</td>\n",
       "    </tr>\n",
       "    <tr>\n",
       "      <th>552</th>\n",
       "      <td>CHEMBL113356</td>\n",
       "      <td>Cn1c(=O)c(-c2c(Cl)cccc2Cl)cc2cnc(NCc3ccccc3)nc21</td>\n",
       "      <td>'&gt;'</td>\n",
       "      <td>50000.00</td>\n",
       "      <td>nM</td>\n",
       "      <td>CHEMBL203</td>\n",
       "      <td>Epidermal growth factor receptor erbB1</td>\n",
       "      <td>1</td>\n",
       "    </tr>\n",
       "    <tr>\n",
       "      <th>619</th>\n",
       "      <td>CHEMBL60200</td>\n",
       "      <td>Cc1ccc2c(c1)c(C(=O)Nc1ccccc1)c(SSc1c(C(=O)Nc3c...</td>\n",
       "      <td>'&gt;'</td>\n",
       "      <td>100000.00</td>\n",
       "      <td>nM</td>\n",
       "      <td>CHEMBL203</td>\n",
       "      <td>Epidermal growth factor receptor erbB1</td>\n",
       "      <td>1</td>\n",
       "    </tr>\n",
       "    <tr>\n",
       "      <th>722</th>\n",
       "      <td>CHEMBL540096</td>\n",
       "      <td>CCOC(=O)c1ccc(OC(=O)c2ccc(NC(=N)N)cc2)cc1.Cl</td>\n",
       "      <td>'='</td>\n",
       "      <td>1.60</td>\n",
       "      <td>nM</td>\n",
       "      <td>CHEMBL209</td>\n",
       "      <td>Trypsin I</td>\n",
       "      <td>1</td>\n",
       "    </tr>\n",
       "    <tr>\n",
       "      <th>911</th>\n",
       "      <td>CHEMBL53463</td>\n",
       "      <td>COc1cccc2c1C(=O)c1c(O)c3c(c(O)c1C2=O)C[C@@](O)...</td>\n",
       "      <td>'='</td>\n",
       "      <td>316.23</td>\n",
       "      <td>nM</td>\n",
       "      <td>CHEMBL614725</td>\n",
       "      <td>MIA PaCa-2</td>\n",
       "      <td>1</td>\n",
       "    </tr>\n",
       "  </tbody>\n",
       "</table>\n",
       "</div>"
      ],
      "text/plain": [
       "    Molecule ChEMBL ID                                             Smiles  \\\n",
       "27         CHEMBL77814                            N#CC(C#N)=CNc1ccc(O)cc1   \n",
       "552       CHEMBL113356   Cn1c(=O)c(-c2c(Cl)cccc2Cl)cc2cnc(NCc3ccccc3)nc21   \n",
       "619        CHEMBL60200  Cc1ccc2c(c1)c(C(=O)Nc1ccccc1)c(SSc1c(C(=O)Nc3c...   \n",
       "722       CHEMBL540096       CCOC(=O)c1ccc(OC(=O)c2ccc(NC(=N)N)cc2)cc1.Cl   \n",
       "911        CHEMBL53463  COc1cccc2c1C(=O)c1c(O)c3c(c(O)c1C2=O)C[C@@](O)...   \n",
       "\n",
       "    Standard Relation  Standard Value Standard Units Target ChEMBL ID  \\\n",
       "27                '='       350000.00             nM        CHEMBL203   \n",
       "552               '>'        50000.00             nM        CHEMBL203   \n",
       "619               '>'       100000.00             nM        CHEMBL203   \n",
       "722               '='            1.60             nM        CHEMBL209   \n",
       "911               '='          316.23             nM     CHEMBL614725   \n",
       "\n",
       "                                Target Name  COUNTER  \n",
       "27   Epidermal growth factor receptor erbB1        1  \n",
       "552  Epidermal growth factor receptor erbB1        1  \n",
       "619  Epidermal growth factor receptor erbB1        1  \n",
       "722                               Trypsin I        1  \n",
       "911                              MIA PaCa-2        1  "
      ]
     },
     "execution_count": 34,
     "metadata": {},
     "output_type": "execute_result"
    }
   ],
   "source": [
    "cancer_data.head()"
   ]
  },
  {
   "cell_type": "code",
   "execution_count": 35,
   "metadata": {},
   "outputs": [],
   "source": [
    "cancer_data.to_csv(\"data_eda.csv\")"
   ]
  },
  {
   "cell_type": "code",
   "execution_count": null,
   "metadata": {},
   "outputs": [],
   "source": []
  }
 ],
 "metadata": {
  "kernelspec": {
   "display_name": "Python 3",
   "language": "python",
   "name": "python3"
  },
  "language_info": {
   "codemirror_mode": {
    "name": "ipython",
    "version": 3
   },
   "file_extension": ".py",
   "mimetype": "text/x-python",
   "name": "python",
   "nbconvert_exporter": "python",
   "pygments_lexer": "ipython3",
   "version": "3.7.6"
  }
 },
 "nbformat": 4,
 "nbformat_minor": 4
}
