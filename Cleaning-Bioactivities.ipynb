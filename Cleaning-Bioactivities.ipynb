{
 "cells": [
  {
   "cell_type": "code",
   "execution_count": 87,
   "metadata": {},
   "outputs": [],
   "source": [
    "import pandas as pd\n",
    "import matplotlib.pyplot as plt\n",
    "import seaborn as sns\n",
    "from pandas.plotting import table\n",
    "from collections import Counter\n",
    "import numpy as np\n",
    "import scipy as sp\n",
    "%matplotlib inline"
   ]
  },
  {
   "cell_type": "code",
   "execution_count": 166,
   "metadata": {},
   "outputs": [],
   "source": [
    "data = pd.read_csv(\"data_eda.csv\", usecols = [\"Molecule ChEMBL ID\", \"Smiles\", \"Standard Value\", \n",
    "                                                                \"Standard Units\", \"Target ChEMBL ID\", \n",
    "                                                                \"Standard Relation\", \"Target Name\"])"
   ]
  },
  {
   "cell_type": "code",
   "execution_count": 167,
   "metadata": {},
   "outputs": [
    {
     "data": {
      "text/html": [
       "<div>\n",
       "<style scoped>\n",
       "    .dataframe tbody tr th:only-of-type {\n",
       "        vertical-align: middle;\n",
       "    }\n",
       "\n",
       "    .dataframe tbody tr th {\n",
       "        vertical-align: top;\n",
       "    }\n",
       "\n",
       "    .dataframe thead th {\n",
       "        text-align: right;\n",
       "    }\n",
       "</style>\n",
       "<table border=\"1\" class=\"dataframe\">\n",
       "  <thead>\n",
       "    <tr style=\"text-align: right;\">\n",
       "      <th></th>\n",
       "      <th>Molecule ChEMBL ID</th>\n",
       "      <th>Smiles</th>\n",
       "      <th>Standard Relation</th>\n",
       "      <th>Standard Value</th>\n",
       "      <th>Standard Units</th>\n",
       "      <th>Target ChEMBL ID</th>\n",
       "      <th>Target Name</th>\n",
       "    </tr>\n",
       "  </thead>\n",
       "  <tbody>\n",
       "    <tr>\n",
       "      <th>0</th>\n",
       "      <td>CHEMBL77814</td>\n",
       "      <td>N#CC(C#N)=CNc1ccc(O)cc1</td>\n",
       "      <td>'='</td>\n",
       "      <td>350000.00</td>\n",
       "      <td>nM</td>\n",
       "      <td>CHEMBL203</td>\n",
       "      <td>Epidermal growth factor receptor erbB1</td>\n",
       "    </tr>\n",
       "    <tr>\n",
       "      <th>1</th>\n",
       "      <td>CHEMBL113356</td>\n",
       "      <td>Cn1c(=O)c(-c2c(Cl)cccc2Cl)cc2cnc(NCc3ccccc3)nc21</td>\n",
       "      <td>'&gt;'</td>\n",
       "      <td>50000.00</td>\n",
       "      <td>nM</td>\n",
       "      <td>CHEMBL203</td>\n",
       "      <td>Epidermal growth factor receptor erbB1</td>\n",
       "    </tr>\n",
       "    <tr>\n",
       "      <th>2</th>\n",
       "      <td>CHEMBL60200</td>\n",
       "      <td>Cc1ccc2c(c1)c(C(=O)Nc1ccccc1)c(SSc1c(C(=O)Nc3c...</td>\n",
       "      <td>'&gt;'</td>\n",
       "      <td>100000.00</td>\n",
       "      <td>nM</td>\n",
       "      <td>CHEMBL203</td>\n",
       "      <td>Epidermal growth factor receptor erbB1</td>\n",
       "    </tr>\n",
       "    <tr>\n",
       "      <th>3</th>\n",
       "      <td>CHEMBL540096</td>\n",
       "      <td>CCOC(=O)c1ccc(OC(=O)c2ccc(NC(=N)N)cc2)cc1.Cl</td>\n",
       "      <td>'='</td>\n",
       "      <td>1.60</td>\n",
       "      <td>nM</td>\n",
       "      <td>CHEMBL209</td>\n",
       "      <td>Trypsin I</td>\n",
       "    </tr>\n",
       "    <tr>\n",
       "      <th>4</th>\n",
       "      <td>CHEMBL53463</td>\n",
       "      <td>COc1cccc2c1C(=O)c1c(O)c3c(c(O)c1C2=O)C[C@@](O)...</td>\n",
       "      <td>'='</td>\n",
       "      <td>316.23</td>\n",
       "      <td>nM</td>\n",
       "      <td>CHEMBL614725</td>\n",
       "      <td>MIA PaCa-2</td>\n",
       "    </tr>\n",
       "  </tbody>\n",
       "</table>\n",
       "</div>"
      ],
      "text/plain": [
       "  Molecule ChEMBL ID                                             Smiles  \\\n",
       "0        CHEMBL77814                            N#CC(C#N)=CNc1ccc(O)cc1   \n",
       "1       CHEMBL113356   Cn1c(=O)c(-c2c(Cl)cccc2Cl)cc2cnc(NCc3ccccc3)nc21   \n",
       "2        CHEMBL60200  Cc1ccc2c(c1)c(C(=O)Nc1ccccc1)c(SSc1c(C(=O)Nc3c...   \n",
       "3       CHEMBL540096       CCOC(=O)c1ccc(OC(=O)c2ccc(NC(=N)N)cc2)cc1.Cl   \n",
       "4        CHEMBL53463  COc1cccc2c1C(=O)c1c(O)c3c(c(O)c1C2=O)C[C@@](O)...   \n",
       "\n",
       "  Standard Relation  Standard Value Standard Units Target ChEMBL ID  \\\n",
       "0               '='       350000.00             nM        CHEMBL203   \n",
       "1               '>'        50000.00             nM        CHEMBL203   \n",
       "2               '>'       100000.00             nM        CHEMBL203   \n",
       "3               '='            1.60             nM        CHEMBL209   \n",
       "4               '='          316.23             nM     CHEMBL614725   \n",
       "\n",
       "                              Target Name  \n",
       "0  Epidermal growth factor receptor erbB1  \n",
       "1  Epidermal growth factor receptor erbB1  \n",
       "2  Epidermal growth factor receptor erbB1  \n",
       "3                               Trypsin I  \n",
       "4                              MIA PaCa-2  "
      ]
     },
     "execution_count": 167,
     "metadata": {},
     "output_type": "execute_result"
    }
   ],
   "source": [
    "data.head()"
   ]
  },
  {
   "cell_type": "code",
   "execution_count": 168,
   "metadata": {},
   "outputs": [
    {
     "data": {
      "text/plain": [
       "(26266, 7)"
      ]
     },
     "execution_count": 168,
     "metadata": {},
     "output_type": "execute_result"
    }
   ],
   "source": [
    "data.shape"
   ]
  },
  {
   "cell_type": "markdown",
   "metadata": {},
   "source": [
    "### Drop NA rows"
   ]
  },
  {
   "cell_type": "code",
   "execution_count": 169,
   "metadata": {},
   "outputs": [],
   "source": [
    "data.dropna(inplace=True)"
   ]
  },
  {
   "cell_type": "code",
   "execution_count": 170,
   "metadata": {},
   "outputs": [
    {
     "name": "stdout",
     "output_type": "stream",
     "text": [
      "Columns which have empty values: \n",
      "\n",
      "Molecule ChEMBL ID    0\n",
      "Smiles                0\n",
      "Standard Relation     0\n",
      "Standard Value        0\n",
      "Standard Units        0\n",
      "Target ChEMBL ID      0\n",
      "Target Name           0\n",
      "dtype: int64 \n"
     ]
    }
   ],
   "source": [
    "# Na values\n",
    "print(\"Columns which have empty values: \\n\\n{} \".format(data.isna().sum()))"
   ]
  },
  {
   "cell_type": "code",
   "execution_count": 171,
   "metadata": {},
   "outputs": [
    {
     "data": {
      "text/plain": [
       "(24763, 7)"
      ]
     },
     "execution_count": 171,
     "metadata": {},
     "output_type": "execute_result"
    }
   ],
   "source": [
    "data.shape"
   ]
  },
  {
   "cell_type": "markdown",
   "metadata": {},
   "source": [
    "## Clean by Standard Value and Standard Units"
   ]
  },
  {
   "cell_type": "code",
   "execution_count": 172,
   "metadata": {},
   "outputs": [],
   "source": [
    "def print_units(df):\n",
    "    # List Standard units used\n",
    "    sv_units = set(df[\"Standard Units\"].tolist())\n",
    "    print(\"All standard value units, {}\".format(str(sv_units)))\n",
    "\n"
   ]
  },
  {
   "cell_type": "code",
   "execution_count": 173,
   "metadata": {},
   "outputs": [
    {
     "name": "stdout",
     "output_type": "stream",
     "text": [
      "All standard value units, {'/uM', 'ug/g', 'ug.mL-1', 'nM', \"10'7nM\"}\n"
     ]
    }
   ],
   "source": [
    "print_units(data)"
   ]
  },
  {
   "cell_type": "code",
   "execution_count": 174,
   "metadata": {},
   "outputs": [
    {
     "name": "stdout",
     "output_type": "stream",
     "text": [
      "All standard value units, {'/uM', 'nM'}\n"
     ]
    }
   ],
   "source": [
    "sv_data =  data[data['Standard Units'].isin([\"/uM\", \"nM\"])]\n",
    "\n",
    "\n",
    "# Check units again\n",
    "print_units(sv_data)"
   ]
  },
  {
   "cell_type": "code",
   "execution_count": 175,
   "metadata": {},
   "outputs": [],
   "source": [
    "def convert_to_nm(r):\n",
    "    unit = r[\"Standard Units\"]\n",
    "    factor = conversion[unit]\n",
    "    r[\"Standard Value\"] = r[\"Standard Value\"] * factor\n",
    "    r[\"Standard Units\"] = \"nM\"\n",
    "\n",
    "    return r\n"
   ]
  },
  {
   "cell_type": "code",
   "execution_count": 176,
   "metadata": {},
   "outputs": [],
   "source": [
    "conversion = {\"/uM\": 1000, \"nM\": 1}\n",
    "sv_data = sv_data.apply(convert_to_nm, axis=1)"
   ]
  },
  {
   "cell_type": "code",
   "execution_count": 177,
   "metadata": {},
   "outputs": [
    {
     "name": "stdout",
     "output_type": "stream",
     "text": [
      "All standard value units, {'nM'}\n"
     ]
    }
   ],
   "source": [
    "print_units(sv_data)"
   ]
  },
  {
   "cell_type": "code",
   "execution_count": 178,
   "metadata": {},
   "outputs": [
    {
     "data": {
      "text/plain": [
       "(24559, 7)"
      ]
     },
     "execution_count": 178,
     "metadata": {},
     "output_type": "execute_result"
    }
   ],
   "source": [
    "sv_data.shape"
   ]
  },
  {
   "cell_type": "markdown",
   "metadata": {},
   "source": [
    "## Clean by Compounds"
   ]
  },
  {
   "cell_type": "code",
   "execution_count": 179,
   "metadata": {},
   "outputs": [
    {
     "data": {
      "text/plain": [
       "['CHEMBL939',\n",
       " 'CHEMBL553',\n",
       " 'CHEMBL3353410',\n",
       " 'CHEMBL554',\n",
       " 'CHEMBL388978',\n",
       " 'CHEMBL29197',\n",
       " 'CHEMBL3545308',\n",
       " 'CHEMBL1229592',\n",
       " 'CHEMBL285063',\n",
       " 'CHEMBL1173655',\n",
       " 'CHEMBL53463',\n",
       " 'CHEMBL2011291',\n",
       " 'CHEMBL607707',\n",
       " 'CHEMBL1879463',\n",
       " 'CHEMBL573339',\n",
       " 'CHEMBL24828',\n",
       " 'CHEMBL52765',\n",
       " 'CHEMBL535',\n",
       " 'CHEMBL1094195',\n",
       " 'CHEMBL31965',\n",
       " 'CHEMBL1098120',\n",
       " 'CHEMBL1091644',\n",
       " 'CHEMBL1873475',\n",
       " 'CHEMBL401930',\n",
       " 'CHEMBL276711',\n",
       " 'CHEMBL301018',\n",
       " 'CHEMBL296407',\n",
       " 'CHEMBL201511',\n",
       " 'CHEMBL180022',\n",
       " 'CHEMBL343352',\n",
       " 'CHEMBL98350',\n",
       " 'CHEMBL56543',\n",
       " 'CHEMBL2178352',\n",
       " 'CHEMBL56393',\n",
       " 'CHEMBL1762178',\n",
       " 'CHEMBL3126485',\n",
       " 'CHEMBL1336',\n",
       " 'CHEMBL601719',\n",
       " 'CHEMBL53753',\n",
       " 'CHEMBL1614712',\n",
       " 'CHEMBL53711',\n",
       " 'CHEMBL1421',\n",
       " 'CHEMBL502835',\n",
       " 'CHEMBL2172463',\n",
       " 'CHEMBL1201179',\n",
       " 'CHEMBL328216',\n",
       " 'CHEMBL1762148',\n",
       " 'CHEMBL30973',\n",
       " 'CHEMBL439259',\n",
       " 'CHEMBL148674',\n",
       " 'CHEMBL413',\n",
       " 'CHEMBL521851',\n",
       " 'CHEMBL3699588',\n",
       " 'CHEMBL545315',\n",
       " 'CHEMBL39337',\n",
       " 'CHEMBL281300',\n",
       " 'CHEMBL91867',\n",
       " 'CHEMBL283682',\n",
       " 'CHEMBL98',\n",
       " 'CHEMBL1230609',\n",
       " 'CHEMBL1801204',\n",
       " 'CHEMBL4095447',\n",
       " 'CHEMBL4082840',\n",
       " 'CHEMBL507625',\n",
       " 'CHEMBL56731',\n",
       " 'CHEMBL146186',\n",
       " 'CHEMBL52076',\n",
       " 'CHEMBL597402',\n",
       " 'CHEMBL2347958',\n",
       " 'CHEMBL94061',\n",
       " 'CHEMBL4088200',\n",
       " 'CHEMBL51853',\n",
       " 'CHEMBL319620',\n",
       " 'CHEMBL4090601',\n",
       " 'CHEMBL507714',\n",
       " 'CHEMBL185',\n",
       " 'CHEMBL2110732',\n",
       " 'CHEMBL3787614',\n",
       " 'CHEMBL2403108',\n",
       " 'CHEMBL888',\n",
       " 'CHEMBL466397',\n",
       " 'CHEMBL53898',\n",
       " 'CHEMBL3787112',\n",
       " 'CHEMBL3674150',\n",
       " 'CHEMBL40734',\n",
       " 'CHEMBL4094959',\n",
       " 'CHEMBL502473',\n",
       " 'CHEMBL44',\n",
       " 'CHEMBL300217',\n",
       " 'CHEMBL463914',\n",
       " 'CHEMBL3786098',\n",
       " 'CHEMBL55979',\n",
       " 'CHEMBL3545154',\n",
       " 'CHEMBL3218346',\n",
       " 'CHEMBL3785951',\n",
       " 'CHEMBL53156',\n",
       " 'CHEMBL3961202',\n",
       " 'CHEMBL56879',\n",
       " 'CHEMBL449110',\n",
       " 'CHEMBL448929',\n",
       " 'CHEMBL1256432',\n",
       " 'CHEMBL1081312',\n",
       " 'CHEMBL53796',\n",
       " 'CHEMBL440298',\n",
       " 'CHEMBL3608429',\n",
       " 'CHEMBL7917',\n",
       " 'CHEMBL3953921',\n",
       " 'CHEMBL114392',\n",
       " 'CHEMBL54400',\n",
       " 'CHEMBL453438',\n",
       " 'CHEMBL118000',\n",
       " 'CHEMBL153843',\n",
       " 'CHEMBL3959632',\n",
       " 'CHEMBL598797',\n",
       " 'CHEMBL3953221',\n",
       " 'CHEMBL448668',\n",
       " 'CHEMBL2325697',\n",
       " 'CHEMBL54471',\n",
       " 'CHEMBL502652',\n",
       " 'CHEMBL101253',\n",
       " 'CHEMBL1983268',\n",
       " 'CHEMBL53428',\n",
       " 'CHEMBL461876',\n",
       " 'CHEMBL1257998',\n",
       " 'CHEMBL103667',\n",
       " 'CHEMBL3901943',\n",
       " 'CHEMBL56132',\n",
       " 'CHEMBL3608432',\n",
       " 'CHEMBL293749',\n",
       " 'CHEMBL116595',\n",
       " 'CHEMBL447639',\n",
       " 'CHEMBL114593',\n",
       " 'CHEMBL326811',\n",
       " 'CHEMBL3218347',\n",
       " 'CHEMBL55204',\n",
       " 'CHEMBL3966111',\n",
       " 'CHEMBL502198',\n",
       " 'CHEMBL4173696',\n",
       " 'CHEMBL131653',\n",
       " 'CHEMBL327023',\n",
       " 'CHEMBL3973973',\n",
       " 'CHEMBL290096',\n",
       " 'CHEMBL506862',\n",
       " 'CHEMBL575448',\n",
       " 'CHEMBL77030',\n",
       " 'CHEMBL116438',\n",
       " 'CHEMBL508627',\n",
       " 'CHEMBL89363',\n",
       " 'CHEMBL454796',\n",
       " 'CHEMBL323630',\n",
       " 'CHEMBL115440',\n",
       " 'CHEMBL428647',\n",
       " 'CHEMBL38927',\n",
       " 'CHEMBL551264',\n",
       " 'CHEMBL249295']"
      ]
     },
     "execution_count": 179,
     "metadata": {},
     "output_type": "execute_result"
    }
   ],
   "source": [
    "## Keep compounds with atleast 5 data points\n",
    "vc_mol = sv_data['Molecule ChEMBL ID'].value_counts().rename_axis('unique_values').reset_index(name='counts')\n",
    "\n",
    "vc_mol = vc_mol[vc_mol[\"counts\"] >= 5]\n",
    "compound_ids = vc_mol[\"unique_values\"].tolist()\n",
    "compound_ids"
   ]
  },
  {
   "cell_type": "code",
   "execution_count": 180,
   "metadata": {},
   "outputs": [
    {
     "data": {
      "text/plain": [
       "(1460, 7)"
      ]
     },
     "execution_count": 180,
     "metadata": {},
     "output_type": "execute_result"
    }
   ],
   "source": [
    "mol_data =  sv_data[sv_data['Molecule ChEMBL ID'].isin(compound_ids)]\n",
    "mol_data.shape"
   ]
  },
  {
   "cell_type": "markdown",
   "metadata": {},
   "source": [
    "## Clean by Targets"
   ]
  },
  {
   "cell_type": "code",
   "execution_count": 181,
   "metadata": {},
   "outputs": [
    {
     "data": {
      "text/plain": [
       "['CHEMBL203', 'CHEMBL1957', 'CHEMBL2842', 'CHEMBL614725', 'CHEMBL1955']"
      ]
     },
     "execution_count": 181,
     "metadata": {},
     "output_type": "execute_result"
    }
   ],
   "source": [
    "# Select targets with more than 30 values\n",
    "vc_targets = mol_data['Target ChEMBL ID'].value_counts().rename_axis('unique_values').reset_index(name='counts')\n",
    "vc_targets = vc_targets[vc_targets[\"counts\"] >= 30]\n",
    "target_ids = vc_targets[\"unique_values\"].tolist()\n",
    "target_ids"
   ]
  },
  {
   "cell_type": "code",
   "execution_count": 182,
   "metadata": {},
   "outputs": [
    {
     "data": {
      "text/plain": [
       "(1419, 7)"
      ]
     },
     "execution_count": 182,
     "metadata": {},
     "output_type": "execute_result"
    }
   ],
   "source": [
    "target_data =  mol_data[mol_data['Target ChEMBL ID'].isin(target_ids)]\n",
    "target_data.shape"
   ]
  },
  {
   "cell_type": "markdown",
   "metadata": {},
   "source": [
    "## Clean by Targets and Compounds interactions"
   ]
  },
  {
   "cell_type": "code",
   "execution_count": 183,
   "metadata": {},
   "outputs": [
    {
     "name": "stderr",
     "output_type": "stream",
     "text": [
      "/Users/Shared/anaconda3/lib/python3.7/site-packages/ipykernel_launcher.py:1: SettingWithCopyWarning: \n",
      "A value is trying to be set on a copy of a slice from a DataFrame.\n",
      "Try using .loc[row_indexer,col_indexer] = value instead\n",
      "\n",
      "See the caveats in the documentation: https://pandas.pydata.org/pandas-docs/stable/user_guide/indexing.html#returning-a-view-versus-a-copy\n",
      "  \"\"\"Entry point for launching an IPython kernel.\n"
     ]
    },
    {
     "data": {
      "text/plain": [
       "[44,\n",
       " 23,\n",
       " 11,\n",
       " 29,\n",
       " 47,\n",
       " 21,\n",
       " 17,\n",
       " 4,\n",
       " 3,\n",
       " 4,\n",
       " 3,\n",
       " 2,\n",
       " 3,\n",
       " 1,\n",
       " 1,\n",
       " 1,\n",
       " 2,\n",
       " 1,\n",
       " 1,\n",
       " 1,\n",
       " 1,\n",
       " 1,\n",
       " 1,\n",
       " 1,\n",
       " 1]"
      ]
     },
     "execution_count": 183,
     "metadata": {},
     "output_type": "execute_result"
    }
   ],
   "source": [
    "target_data['COUNTER_INT'] =1 \n",
    "group_data = target_data.groupby(['Molecule ChEMBL ID','Target ChEMBL ID'])['COUNTER_INT'].sum()\n",
    "interaction_count = group_data.value_counts().sort_index().index.tolist()\n",
    "interaction_vals = group_data.value_counts().sort_index().values.tolist()\n",
    "\n",
    "interaction_vals"
   ]
  },
  {
   "cell_type": "code",
   "execution_count": null,
   "metadata": {},
   "outputs": [],
   "source": []
  },
  {
   "cell_type": "code",
   "execution_count": 184,
   "metadata": {},
   "outputs": [
    {
     "name": "stdout",
     "output_type": "stream",
     "text": [
      "Targets with greater than 10 interactions are \n",
      "\n",
      "['CHEMBL203', 'CHEMBL614725', 'CHEMBL2842', 'CHEMBL1957'] \n"
     ]
    }
   ],
   "source": [
    "target_mol_inter = group_data.to_frame()\n",
    "counter_values = target_mol_inter[target_mol_inter['COUNTER_INT'] >= 10]\n",
    "list_interactions = list(set(counter_values.index)) \n",
    "a_list = [a_tuple[1:] for a_tuple in list_interactions]\n",
    "\n",
    "targets = []\n",
    "\n",
    "for t in set(a_list):\n",
    "    targets.append(t[0])\n",
    "\n",
    "print('Targets with greater than 10 interactions are \\n\\n{} '.format(targets))"
   ]
  },
  {
   "cell_type": "code",
   "execution_count": 185,
   "metadata": {},
   "outputs": [
    {
     "data": {
      "text/plain": [
       "(1381, 8)"
      ]
     },
     "execution_count": 185,
     "metadata": {},
     "output_type": "execute_result"
    }
   ],
   "source": [
    "target_mol_data =  target_data[target_data['Target ChEMBL ID'].isin(targets)]\n",
    "target_mol_data.shape"
   ]
  }
 ],
 "metadata": {
  "kernelspec": {
   "display_name": "Python 3",
   "language": "python",
   "name": "python3"
  },
  "language_info": {
   "codemirror_mode": {
    "name": "ipython",
    "version": 3
   },
   "file_extension": ".py",
   "mimetype": "text/x-python",
   "name": "python",
   "nbconvert_exporter": "python",
   "pygments_lexer": "ipython3",
   "version": "3.7.6"
  }
 },
 "nbformat": 4,
 "nbformat_minor": 4
}
