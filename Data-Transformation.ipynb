{
 "cells": [
  {
   "cell_type": "code",
   "execution_count": 1,
   "metadata": {},
   "outputs": [],
   "source": [
    "import pandas as pd\n",
    "import matplotlib.pyplot as plt\n",
    "import seaborn as sns\n",
    "from pandas.plotting import table\n",
    "from collections import Counter\n",
    "import numpy as np\n",
    "import scipy as sp\n",
    "%matplotlib inline"
   ]
  },
  {
   "cell_type": "code",
   "execution_count": 4,
   "metadata": {},
   "outputs": [],
   "source": [
    "data = pd.read_csv(\"Cleaned-data.csv\", usecols = [\"Molecule ChEMBL ID\", \"Smiles\", \"Standard Value\", \n",
    "                                                                \"Standard Units\", \"Target ChEMBL ID\", \n",
    "                                                                \"Standard Relation\", \"Target Name\", \"Active\"])"
   ]
  },
  {
   "cell_type": "code",
   "execution_count": 5,
   "metadata": {},
   "outputs": [
    {
     "data": {
      "text/plain": [
       "(5723, 8)"
      ]
     },
     "execution_count": 5,
     "metadata": {},
     "output_type": "execute_result"
    }
   ],
   "source": [
    "data.shape"
   ]
  },
  {
   "cell_type": "code",
   "execution_count": 6,
   "metadata": {},
   "outputs": [
    {
     "data": {
      "text/html": [
       "<div>\n",
       "<style scoped>\n",
       "    .dataframe tbody tr th:only-of-type {\n",
       "        vertical-align: middle;\n",
       "    }\n",
       "\n",
       "    .dataframe tbody tr th {\n",
       "        vertical-align: top;\n",
       "    }\n",
       "\n",
       "    .dataframe thead th {\n",
       "        text-align: right;\n",
       "    }\n",
       "</style>\n",
       "<table border=\"1\" class=\"dataframe\">\n",
       "  <thead>\n",
       "    <tr style=\"text-align: right;\">\n",
       "      <th></th>\n",
       "      <th>Molecule ChEMBL ID</th>\n",
       "      <th>Smiles</th>\n",
       "      <th>Standard Relation</th>\n",
       "      <th>Standard Value</th>\n",
       "      <th>Standard Units</th>\n",
       "      <th>Target ChEMBL ID</th>\n",
       "      <th>Target Name</th>\n",
       "      <th>Active</th>\n",
       "    </tr>\n",
       "  </thead>\n",
       "  <tbody>\n",
       "    <tr>\n",
       "      <th>0</th>\n",
       "      <td>CHEMBL3645910</td>\n",
       "      <td>CCc1ncnc(-c2cc(F)c(C(=O)N3CCN4CCC[C@H]4C3)c(Cl...</td>\n",
       "      <td>'='</td>\n",
       "      <td>0.07</td>\n",
       "      <td>nM</td>\n",
       "      <td>CHEMBL2842</td>\n",
       "      <td>Serine/threonine-protein kinase mTOR</td>\n",
       "      <td>1</td>\n",
       "    </tr>\n",
       "    <tr>\n",
       "      <th>1</th>\n",
       "      <td>CHEMBL3693444</td>\n",
       "      <td>COc1ccc(-c2ccc3c(N4CCOC[C@@H]4C)nc(N4CCOC[C@@H...</td>\n",
       "      <td>'='</td>\n",
       "      <td>0.15</td>\n",
       "      <td>nM</td>\n",
       "      <td>CHEMBL2842</td>\n",
       "      <td>Serine/threonine-protein kinase mTOR</td>\n",
       "      <td>1</td>\n",
       "    </tr>\n",
       "    <tr>\n",
       "      <th>2</th>\n",
       "      <td>CHEMBL574680</td>\n",
       "      <td>O=C(Nc1ccc(-c2nc(N3CCOCC3)c3cnn(CC(F)(F)F)c3n2...</td>\n",
       "      <td>'='</td>\n",
       "      <td>0.20</td>\n",
       "      <td>nM</td>\n",
       "      <td>CHEMBL2842</td>\n",
       "      <td>Serine/threonine-protein kinase mTOR</td>\n",
       "      <td>1</td>\n",
       "    </tr>\n",
       "    <tr>\n",
       "      <th>3</th>\n",
       "      <td>CHEMBL1765602</td>\n",
       "      <td>Nc1ccc(-c2ccc3ncc4ccc(=O)n(-c5cccc(C(F)(F)F)c5...</td>\n",
       "      <td>'='</td>\n",
       "      <td>0.25</td>\n",
       "      <td>nM</td>\n",
       "      <td>CHEMBL2842</td>\n",
       "      <td>Serine/threonine-protein kinase mTOR</td>\n",
       "      <td>1</td>\n",
       "    </tr>\n",
       "    <tr>\n",
       "      <th>4</th>\n",
       "      <td>CHEMBL1092389</td>\n",
       "      <td>C[C@@H]1COCCN1c1nc(-c2ccc(NC(=O)Nc3ccc(C(=O)N4...</td>\n",
       "      <td>'='</td>\n",
       "      <td>0.25</td>\n",
       "      <td>nM</td>\n",
       "      <td>CHEMBL2842</td>\n",
       "      <td>Serine/threonine-protein kinase mTOR</td>\n",
       "      <td>1</td>\n",
       "    </tr>\n",
       "  </tbody>\n",
       "</table>\n",
       "</div>"
      ],
      "text/plain": [
       "  Molecule ChEMBL ID                                             Smiles  \\\n",
       "0      CHEMBL3645910  CCc1ncnc(-c2cc(F)c(C(=O)N3CCN4CCC[C@H]4C3)c(Cl...   \n",
       "1      CHEMBL3693444  COc1ccc(-c2ccc3c(N4CCOC[C@@H]4C)nc(N4CCOC[C@@H...   \n",
       "2       CHEMBL574680  O=C(Nc1ccc(-c2nc(N3CCOCC3)c3cnn(CC(F)(F)F)c3n2...   \n",
       "3      CHEMBL1765602  Nc1ccc(-c2ccc3ncc4ccc(=O)n(-c5cccc(C(F)(F)F)c5...   \n",
       "4      CHEMBL1092389  C[C@@H]1COCCN1c1nc(-c2ccc(NC(=O)Nc3ccc(C(=O)N4...   \n",
       "\n",
       "  Standard Relation  Standard Value Standard Units Target ChEMBL ID  \\\n",
       "0               '='            0.07             nM       CHEMBL2842   \n",
       "1               '='            0.15             nM       CHEMBL2842   \n",
       "2               '='            0.20             nM       CHEMBL2842   \n",
       "3               '='            0.25             nM       CHEMBL2842   \n",
       "4               '='            0.25             nM       CHEMBL2842   \n",
       "\n",
       "                            Target Name  Active  \n",
       "0  Serine/threonine-protein kinase mTOR       1  \n",
       "1  Serine/threonine-protein kinase mTOR       1  \n",
       "2  Serine/threonine-protein kinase mTOR       1  \n",
       "3  Serine/threonine-protein kinase mTOR       1  \n",
       "4  Serine/threonine-protein kinase mTOR       1  "
      ]
     },
     "execution_count": 6,
     "metadata": {},
     "output_type": "execute_result"
    }
   ],
   "source": [
    "data.head()"
   ]
  },
  {
   "cell_type": "code",
   "execution_count": 7,
   "metadata": {},
   "outputs": [],
   "source": [
    "new_data = data"
   ]
  },
  {
   "cell_type": "code",
   "execution_count": 8,
   "metadata": {},
   "outputs": [
    {
     "data": {
      "text/html": [
       "<div>\n",
       "<style scoped>\n",
       "    .dataframe tbody tr th:only-of-type {\n",
       "        vertical-align: middle;\n",
       "    }\n",
       "\n",
       "    .dataframe tbody tr th {\n",
       "        vertical-align: top;\n",
       "    }\n",
       "\n",
       "    .dataframe thead th {\n",
       "        text-align: right;\n",
       "    }\n",
       "</style>\n",
       "<table border=\"1\" class=\"dataframe\">\n",
       "  <thead>\n",
       "    <tr style=\"text-align: right;\">\n",
       "      <th></th>\n",
       "      <th>Molecule ChEMBL ID</th>\n",
       "      <th>Smiles</th>\n",
       "      <th>Target ChEMBL ID</th>\n",
       "      <th>Active</th>\n",
       "    </tr>\n",
       "  </thead>\n",
       "  <tbody>\n",
       "    <tr>\n",
       "      <th>0</th>\n",
       "      <td>CHEMBL3645910</td>\n",
       "      <td>CCc1ncnc(-c2cc(F)c(C(=O)N3CCN4CCC[C@H]4C3)c(Cl...</td>\n",
       "      <td>CHEMBL2842</td>\n",
       "      <td>1</td>\n",
       "    </tr>\n",
       "    <tr>\n",
       "      <th>1</th>\n",
       "      <td>CHEMBL3693444</td>\n",
       "      <td>COc1ccc(-c2ccc3c(N4CCOC[C@@H]4C)nc(N4CCOC[C@@H...</td>\n",
       "      <td>CHEMBL2842</td>\n",
       "      <td>1</td>\n",
       "    </tr>\n",
       "    <tr>\n",
       "      <th>2</th>\n",
       "      <td>CHEMBL574680</td>\n",
       "      <td>O=C(Nc1ccc(-c2nc(N3CCOCC3)c3cnn(CC(F)(F)F)c3n2...</td>\n",
       "      <td>CHEMBL2842</td>\n",
       "      <td>1</td>\n",
       "    </tr>\n",
       "    <tr>\n",
       "      <th>3</th>\n",
       "      <td>CHEMBL1765602</td>\n",
       "      <td>Nc1ccc(-c2ccc3ncc4ccc(=O)n(-c5cccc(C(F)(F)F)c5...</td>\n",
       "      <td>CHEMBL2842</td>\n",
       "      <td>1</td>\n",
       "    </tr>\n",
       "    <tr>\n",
       "      <th>4</th>\n",
       "      <td>CHEMBL1092389</td>\n",
       "      <td>C[C@@H]1COCCN1c1nc(-c2ccc(NC(=O)Nc3ccc(C(=O)N4...</td>\n",
       "      <td>CHEMBL2842</td>\n",
       "      <td>1</td>\n",
       "    </tr>\n",
       "    <tr>\n",
       "      <th>...</th>\n",
       "      <td>...</td>\n",
       "      <td>...</td>\n",
       "      <td>...</td>\n",
       "      <td>...</td>\n",
       "    </tr>\n",
       "    <tr>\n",
       "      <th>5718</th>\n",
       "      <td>CHEMBL4216200</td>\n",
       "      <td>COc1ccc(CNc2ccnc3oc4ccc(N)cc4c23)cc1</td>\n",
       "      <td>CHEMBL1957</td>\n",
       "      <td>0</td>\n",
       "    </tr>\n",
       "    <tr>\n",
       "      <th>5719</th>\n",
       "      <td>CHEMBL4213021</td>\n",
       "      <td>Nc1ccc2oc3nccc(NCc4cccc(Br)c4)c3c2c1</td>\n",
       "      <td>CHEMBL1957</td>\n",
       "      <td>0</td>\n",
       "    </tr>\n",
       "    <tr>\n",
       "      <th>5720</th>\n",
       "      <td>CHEMBL3353410</td>\n",
       "      <td>C=CC(=O)Nc1cc(Nc2nccc(-c3cn(C)c4ccccc34)n2)c(O...</td>\n",
       "      <td>CHEMBL1957</td>\n",
       "      <td>0</td>\n",
       "    </tr>\n",
       "    <tr>\n",
       "      <th>5721</th>\n",
       "      <td>CHEMBL1956069</td>\n",
       "      <td>COc1cccc(C(=O)c2sc(Nc3ccc(N4CCN(C(C)C)CC4)cc3)...</td>\n",
       "      <td>CHEMBL1957</td>\n",
       "      <td>0</td>\n",
       "    </tr>\n",
       "    <tr>\n",
       "      <th>5722</th>\n",
       "      <td>CHEMBL1956070</td>\n",
       "      <td>CN1CCN(c2ccc(Nc3nc(N)c(C(=O)c4ccc5c(c4)OCCO5)s...</td>\n",
       "      <td>CHEMBL1957</td>\n",
       "      <td>0</td>\n",
       "    </tr>\n",
       "  </tbody>\n",
       "</table>\n",
       "<p>5723 rows × 4 columns</p>\n",
       "</div>"
      ],
      "text/plain": [
       "     Molecule ChEMBL ID                                             Smiles  \\\n",
       "0         CHEMBL3645910  CCc1ncnc(-c2cc(F)c(C(=O)N3CCN4CCC[C@H]4C3)c(Cl...   \n",
       "1         CHEMBL3693444  COc1ccc(-c2ccc3c(N4CCOC[C@@H]4C)nc(N4CCOC[C@@H...   \n",
       "2          CHEMBL574680  O=C(Nc1ccc(-c2nc(N3CCOCC3)c3cnn(CC(F)(F)F)c3n2...   \n",
       "3         CHEMBL1765602  Nc1ccc(-c2ccc3ncc4ccc(=O)n(-c5cccc(C(F)(F)F)c5...   \n",
       "4         CHEMBL1092389  C[C@@H]1COCCN1c1nc(-c2ccc(NC(=O)Nc3ccc(C(=O)N4...   \n",
       "...                 ...                                                ...   \n",
       "5718      CHEMBL4216200               COc1ccc(CNc2ccnc3oc4ccc(N)cc4c23)cc1   \n",
       "5719      CHEMBL4213021               Nc1ccc2oc3nccc(NCc4cccc(Br)c4)c3c2c1   \n",
       "5720      CHEMBL3353410  C=CC(=O)Nc1cc(Nc2nccc(-c3cn(C)c4ccccc34)n2)c(O...   \n",
       "5721      CHEMBL1956069  COc1cccc(C(=O)c2sc(Nc3ccc(N4CCN(C(C)C)CC4)cc3)...   \n",
       "5722      CHEMBL1956070  CN1CCN(c2ccc(Nc3nc(N)c(C(=O)c4ccc5c(c4)OCCO5)s...   \n",
       "\n",
       "     Target ChEMBL ID  Active  \n",
       "0          CHEMBL2842       1  \n",
       "1          CHEMBL2842       1  \n",
       "2          CHEMBL2842       1  \n",
       "3          CHEMBL2842       1  \n",
       "4          CHEMBL2842       1  \n",
       "...               ...     ...  \n",
       "5718       CHEMBL1957       0  \n",
       "5719       CHEMBL1957       0  \n",
       "5720       CHEMBL1957       0  \n",
       "5721       CHEMBL1957       0  \n",
       "5722       CHEMBL1957       0  \n",
       "\n",
       "[5723 rows x 4 columns]"
      ]
     },
     "execution_count": 8,
     "metadata": {},
     "output_type": "execute_result"
    }
   ],
   "source": [
    "new_data.drop(columns=['Standard Relation', 'Standard Value', 'Standard Units', 'Target Name'])"
   ]
  },
  {
   "cell_type": "code",
   "execution_count": 9,
   "metadata": {},
   "outputs": [
    {
     "data": {
      "text/plain": [
       "CHEMBL1945559    3\n",
       "CHEMBL1421       3\n",
       "CHEMBL3263869    3\n",
       "CHEMBL3651966    3\n",
       "CHEMBL4438748    3\n",
       "                ..\n",
       "CHEMBL446019     1\n",
       "CHEMBL487533     1\n",
       "CHEMBL3357655    1\n",
       "CHEMBL4451792    1\n",
       "CHEMBL3655751    1\n",
       "Name: Molecule ChEMBL ID, Length: 5494, dtype: int64"
      ]
     },
     "execution_count": 9,
     "metadata": {},
     "output_type": "execute_result"
    }
   ],
   "source": [
    "new_data[\"Molecule ChEMBL ID\"].value_counts()"
   ]
  },
  {
   "cell_type": "code",
   "execution_count": 10,
   "metadata": {},
   "outputs": [
    {
     "data": {
      "text/html": [
       "<div>\n",
       "<style scoped>\n",
       "    .dataframe tbody tr th:only-of-type {\n",
       "        vertical-align: middle;\n",
       "    }\n",
       "\n",
       "    .dataframe tbody tr th {\n",
       "        vertical-align: top;\n",
       "    }\n",
       "\n",
       "    .dataframe thead th {\n",
       "        text-align: right;\n",
       "    }\n",
       "</style>\n",
       "<table border=\"1\" class=\"dataframe\">\n",
       "  <thead>\n",
       "    <tr style=\"text-align: right;\">\n",
       "      <th></th>\n",
       "      <th>Molecule ChEMBL ID</th>\n",
       "      <th>Smiles</th>\n",
       "      <th>Standard Relation</th>\n",
       "      <th>Standard Value</th>\n",
       "      <th>Standard Units</th>\n",
       "      <th>Target ChEMBL ID</th>\n",
       "      <th>Target Name</th>\n",
       "      <th>Active</th>\n",
       "    </tr>\n",
       "  </thead>\n",
       "  <tbody>\n",
       "    <tr>\n",
       "      <th>4147</th>\n",
       "      <td>CHEMBL2321905</td>\n",
       "      <td>COC(=O)c1cc(-c2ccc(NC(=O)c3cc(NC(=O)CCCOc4cc5c...</td>\n",
       "      <td>'='</td>\n",
       "      <td>0.0013</td>\n",
       "      <td>nM</td>\n",
       "      <td>CHEMBL614725</td>\n",
       "      <td>MIA PaCa-2</td>\n",
       "      <td>1</td>\n",
       "    </tr>\n",
       "  </tbody>\n",
       "</table>\n",
       "</div>"
      ],
      "text/plain": [
       "     Molecule ChEMBL ID                                             Smiles  \\\n",
       "4147      CHEMBL2321905  COC(=O)c1cc(-c2ccc(NC(=O)c3cc(NC(=O)CCCOc4cc5c...   \n",
       "\n",
       "     Standard Relation  Standard Value Standard Units Target ChEMBL ID  \\\n",
       "4147               '='          0.0013             nM     CHEMBL614725   \n",
       "\n",
       "     Target Name  Active  \n",
       "4147  MIA PaCa-2       1  "
      ]
     },
     "execution_count": 10,
     "metadata": {},
     "output_type": "execute_result"
    }
   ],
   "source": [
    "new_data[new_data[\"Molecule ChEMBL ID\"] == \"CHEMBL2321905\"]"
   ]
  },
  {
   "cell_type": "code",
   "execution_count": 11,
   "metadata": {},
   "outputs": [
    {
     "data": {
      "text/plain": [
       "['CHEMBL1957', 'CHEMBL2842', 'CHEMBL614725', 'CHEMBL203']"
      ]
     },
     "execution_count": 11,
     "metadata": {},
     "output_type": "execute_result"
    }
   ],
   "source": [
    "target_ids = new_data[\"Target ChEMBL ID\"].tolist()\n",
    "targets = list(set(target_ids))\n",
    "targets"
   ]
  },
  {
   "cell_type": "code",
   "execution_count": 12,
   "metadata": {},
   "outputs": [
    {
     "data": {
      "text/plain": [
       "['Molecule_id',\n",
       " 'Smiles',\n",
       " 'CHEMBL1957',\n",
       " 'CHEMBL2842',\n",
       " 'CHEMBL614725',\n",
       " 'CHEMBL203']"
      ]
     },
     "execution_count": 12,
     "metadata": {},
     "output_type": "execute_result"
    }
   ],
   "source": [
    "columns = [\"Molecule_id\", \"Smiles\"]\n",
    "columns = columns + targets\n",
    "columns"
   ]
  },
  {
   "cell_type": "code",
   "execution_count": 13,
   "metadata": {},
   "outputs": [
    {
     "data": {
      "text/html": [
       "<div>\n",
       "<style scoped>\n",
       "    .dataframe tbody tr th:only-of-type {\n",
       "        vertical-align: middle;\n",
       "    }\n",
       "\n",
       "    .dataframe tbody tr th {\n",
       "        vertical-align: top;\n",
       "    }\n",
       "\n",
       "    .dataframe thead th {\n",
       "        text-align: right;\n",
       "    }\n",
       "</style>\n",
       "<table border=\"1\" class=\"dataframe\">\n",
       "  <thead>\n",
       "    <tr style=\"text-align: right;\">\n",
       "      <th></th>\n",
       "      <th>Molecule ChEMBL ID</th>\n",
       "      <th>Smiles</th>\n",
       "      <th>CHEMBL1957</th>\n",
       "      <th>CHEMBL2842</th>\n",
       "      <th>CHEMBL614725</th>\n",
       "      <th>CHEMBL203</th>\n",
       "    </tr>\n",
       "  </thead>\n",
       "  <tbody>\n",
       "    <tr>\n",
       "      <th>0</th>\n",
       "      <td>CHEMBL3645910</td>\n",
       "      <td>CCc1ncnc(-c2cc(F)c(C(=O)N3CCN4CCC[C@H]4C3)c(Cl...</td>\n",
       "      <td>0</td>\n",
       "      <td>0</td>\n",
       "      <td>0</td>\n",
       "      <td>0</td>\n",
       "    </tr>\n",
       "    <tr>\n",
       "      <th>1</th>\n",
       "      <td>CHEMBL3693444</td>\n",
       "      <td>COc1ccc(-c2ccc3c(N4CCOC[C@@H]4C)nc(N4CCOC[C@@H...</td>\n",
       "      <td>0</td>\n",
       "      <td>0</td>\n",
       "      <td>0</td>\n",
       "      <td>0</td>\n",
       "    </tr>\n",
       "    <tr>\n",
       "      <th>2</th>\n",
       "      <td>CHEMBL574680</td>\n",
       "      <td>O=C(Nc1ccc(-c2nc(N3CCOCC3)c3cnn(CC(F)(F)F)c3n2...</td>\n",
       "      <td>0</td>\n",
       "      <td>0</td>\n",
       "      <td>0</td>\n",
       "      <td>0</td>\n",
       "    </tr>\n",
       "    <tr>\n",
       "      <th>3</th>\n",
       "      <td>CHEMBL1765602</td>\n",
       "      <td>Nc1ccc(-c2ccc3ncc4ccc(=O)n(-c5cccc(C(F)(F)F)c5...</td>\n",
       "      <td>0</td>\n",
       "      <td>0</td>\n",
       "      <td>0</td>\n",
       "      <td>0</td>\n",
       "    </tr>\n",
       "    <tr>\n",
       "      <th>4</th>\n",
       "      <td>CHEMBL1092389</td>\n",
       "      <td>C[C@@H]1COCCN1c1nc(-c2ccc(NC(=O)Nc3ccc(C(=O)N4...</td>\n",
       "      <td>0</td>\n",
       "      <td>0</td>\n",
       "      <td>0</td>\n",
       "      <td>0</td>\n",
       "    </tr>\n",
       "  </tbody>\n",
       "</table>\n",
       "</div>"
      ],
      "text/plain": [
       "  Molecule ChEMBL ID                                             Smiles  \\\n",
       "0      CHEMBL3645910  CCc1ncnc(-c2cc(F)c(C(=O)N3CCN4CCC[C@H]4C3)c(Cl...   \n",
       "1      CHEMBL3693444  COc1ccc(-c2ccc3c(N4CCOC[C@@H]4C)nc(N4CCOC[C@@H...   \n",
       "2       CHEMBL574680  O=C(Nc1ccc(-c2nc(N3CCOCC3)c3cnn(CC(F)(F)F)c3n2...   \n",
       "3      CHEMBL1765602  Nc1ccc(-c2ccc3ncc4ccc(=O)n(-c5cccc(C(F)(F)F)c5...   \n",
       "4      CHEMBL1092389  C[C@@H]1COCCN1c1nc(-c2ccc(NC(=O)Nc3ccc(C(=O)N4...   \n",
       "\n",
       "   CHEMBL1957  CHEMBL2842  CHEMBL614725  CHEMBL203  \n",
       "0           0           0             0          0  \n",
       "1           0           0             0          0  \n",
       "2           0           0             0          0  \n",
       "3           0           0             0          0  \n",
       "4           0           0             0          0  "
      ]
     },
     "execution_count": 13,
     "metadata": {},
     "output_type": "execute_result"
    }
   ],
   "source": [
    "transformed_data = new_data[[\"Molecule ChEMBL ID\", \"Smiles\"]]\n",
    "transformed_data = transformed_data.drop_duplicates(subset=[\"Molecule ChEMBL ID\", \"Smiles\"])\n",
    "for target in targets:\n",
    "    transformed_data[target] = 0\n",
    "transformed_data.head()"
   ]
  },
  {
   "cell_type": "code",
   "execution_count": 14,
   "metadata": {},
   "outputs": [
    {
     "data": {
      "text/plain": [
       "1190    Brc1cccc(Nc2ncnc3cc4ccccc4cc23)c1\n",
       "Name: Smiles, dtype: object"
      ]
     },
     "execution_count": 14,
     "metadata": {},
     "output_type": "execute_result"
    }
   ],
   "source": [
    "transformed_data[transformed_data[\"Molecule ChEMBL ID\"] == \"CHEMBL63786\"][\"Smiles\"]"
   ]
  },
  {
   "cell_type": "code",
   "execution_count": 15,
   "metadata": {},
   "outputs": [
    {
     "data": {
      "text/plain": [
       "1190    Brc1cccc(Nc2ncnc3cc4ccccc4cc23)c1\n",
       "Name: Smiles, dtype: object"
      ]
     },
     "execution_count": 15,
     "metadata": {},
     "output_type": "execute_result"
    }
   ],
   "source": [
    "data[data[\"Molecule ChEMBL ID\"] == \"CHEMBL63786\"][\"Smiles\"]"
   ]
  },
  {
   "cell_type": "code",
   "execution_count": 16,
   "metadata": {},
   "outputs": [
    {
     "name": "stdout",
     "output_type": "stream",
     "text": [
      "CHEMBL2842\n"
     ]
    }
   ],
   "source": [
    "df = new_data[new_data[\"Molecule ChEMBL ID\"] == \"CHEMBL1684800\"]\n",
    "\n",
    "for index, row in df.iterrows():\n",
    "    print(row[\"Target ChEMBL ID\"])"
   ]
  },
  {
   "cell_type": "code",
   "execution_count": 17,
   "metadata": {},
   "outputs": [
    {
     "data": {
      "text/plain": [
       "Molecule ChEMBL ID     object\n",
       "Smiles                 object\n",
       "Standard Relation      object\n",
       "Standard Value        float64\n",
       "Standard Units         object\n",
       "Target ChEMBL ID       object\n",
       "Target Name            object\n",
       "Active                  int64\n",
       "dtype: object"
      ]
     },
     "execution_count": 17,
     "metadata": {},
     "output_type": "execute_result"
    }
   ],
   "source": [
    "new_data.dtypes"
   ]
  },
  {
   "cell_type": "code",
   "execution_count": 18,
   "metadata": {},
   "outputs": [],
   "source": [
    "def get_target_list():\n",
    "    target_list = {}\n",
    "    for t in targets:\n",
    "        target_list[t] = 0\n",
    "    return target_list"
   ]
  },
  {
   "cell_type": "code",
   "execution_count": 19,
   "metadata": {},
   "outputs": [],
   "source": [
    "def add_values(row):\n",
    "    mol = row[\"Molecule ChEMBL ID\"]\n",
    "    mol_data = new_data[new_data[\"Molecule ChEMBL ID\"] == mol]\n",
    "    for index, r in mol_data.iterrows():\n",
    "        row[r[\"Target ChEMBL ID\"]] = 1\n",
    "    return row"
   ]
  },
  {
   "cell_type": "code",
   "execution_count": 20,
   "metadata": {},
   "outputs": [],
   "source": [
    "transformed_data = transformed_data.apply(add_values, axis = 1)"
   ]
  },
  {
   "cell_type": "code",
   "execution_count": 21,
   "metadata": {
    "scrolled": true
   },
   "outputs": [
    {
     "data": {
      "text/html": [
       "<div>\n",
       "<style scoped>\n",
       "    .dataframe tbody tr th:only-of-type {\n",
       "        vertical-align: middle;\n",
       "    }\n",
       "\n",
       "    .dataframe tbody tr th {\n",
       "        vertical-align: top;\n",
       "    }\n",
       "\n",
       "    .dataframe thead th {\n",
       "        text-align: right;\n",
       "    }\n",
       "</style>\n",
       "<table border=\"1\" class=\"dataframe\">\n",
       "  <thead>\n",
       "    <tr style=\"text-align: right;\">\n",
       "      <th></th>\n",
       "      <th>Molecule ChEMBL ID</th>\n",
       "      <th>Smiles</th>\n",
       "      <th>CHEMBL1957</th>\n",
       "      <th>CHEMBL2842</th>\n",
       "      <th>CHEMBL614725</th>\n",
       "      <th>CHEMBL203</th>\n",
       "    </tr>\n",
       "  </thead>\n",
       "  <tbody>\n",
       "    <tr>\n",
       "      <th>0</th>\n",
       "      <td>CHEMBL3645910</td>\n",
       "      <td>CCc1ncnc(-c2cc(F)c(C(=O)N3CCN4CCC[C@H]4C3)c(Cl...</td>\n",
       "      <td>0</td>\n",
       "      <td>1</td>\n",
       "      <td>0</td>\n",
       "      <td>0</td>\n",
       "    </tr>\n",
       "    <tr>\n",
       "      <th>1</th>\n",
       "      <td>CHEMBL3693444</td>\n",
       "      <td>COc1ccc(-c2ccc3c(N4CCOC[C@@H]4C)nc(N4CCOC[C@@H...</td>\n",
       "      <td>0</td>\n",
       "      <td>1</td>\n",
       "      <td>0</td>\n",
       "      <td>0</td>\n",
       "    </tr>\n",
       "    <tr>\n",
       "      <th>2</th>\n",
       "      <td>CHEMBL574680</td>\n",
       "      <td>O=C(Nc1ccc(-c2nc(N3CCOCC3)c3cnn(CC(F)(F)F)c3n2...</td>\n",
       "      <td>0</td>\n",
       "      <td>1</td>\n",
       "      <td>0</td>\n",
       "      <td>0</td>\n",
       "    </tr>\n",
       "    <tr>\n",
       "      <th>3</th>\n",
       "      <td>CHEMBL1765602</td>\n",
       "      <td>Nc1ccc(-c2ccc3ncc4ccc(=O)n(-c5cccc(C(F)(F)F)c5...</td>\n",
       "      <td>0</td>\n",
       "      <td>1</td>\n",
       "      <td>0</td>\n",
       "      <td>0</td>\n",
       "    </tr>\n",
       "    <tr>\n",
       "      <th>4</th>\n",
       "      <td>CHEMBL1092389</td>\n",
       "      <td>C[C@@H]1COCCN1c1nc(-c2ccc(NC(=O)Nc3ccc(C(=O)N4...</td>\n",
       "      <td>0</td>\n",
       "      <td>1</td>\n",
       "      <td>0</td>\n",
       "      <td>0</td>\n",
       "    </tr>\n",
       "  </tbody>\n",
       "</table>\n",
       "</div>"
      ],
      "text/plain": [
       "  Molecule ChEMBL ID                                             Smiles  \\\n",
       "0      CHEMBL3645910  CCc1ncnc(-c2cc(F)c(C(=O)N3CCN4CCC[C@H]4C3)c(Cl...   \n",
       "1      CHEMBL3693444  COc1ccc(-c2ccc3c(N4CCOC[C@@H]4C)nc(N4CCOC[C@@H...   \n",
       "2       CHEMBL574680  O=C(Nc1ccc(-c2nc(N3CCOCC3)c3cnn(CC(F)(F)F)c3n2...   \n",
       "3      CHEMBL1765602  Nc1ccc(-c2ccc3ncc4ccc(=O)n(-c5cccc(C(F)(F)F)c5...   \n",
       "4      CHEMBL1092389  C[C@@H]1COCCN1c1nc(-c2ccc(NC(=O)Nc3ccc(C(=O)N4...   \n",
       "\n",
       "   CHEMBL1957  CHEMBL2842  CHEMBL614725  CHEMBL203  \n",
       "0           0           1             0          0  \n",
       "1           0           1             0          0  \n",
       "2           0           1             0          0  \n",
       "3           0           1             0          0  \n",
       "4           0           1             0          0  "
      ]
     },
     "execution_count": 21,
     "metadata": {},
     "output_type": "execute_result"
    }
   ],
   "source": [
    "transformed_data.head()"
   ]
  },
  {
   "cell_type": "code",
   "execution_count": 22,
   "metadata": {},
   "outputs": [],
   "source": [
    "set1 = set(new_data[new_data[\"Target ChEMBL ID\"] == \"CHEMBL614725\"][\"Molecule ChEMBL ID\"].tolist())"
   ]
  },
  {
   "cell_type": "code",
   "execution_count": 23,
   "metadata": {},
   "outputs": [],
   "source": [
    "set2 = set(transformed_data[transformed_data[\"CHEMBL614725\"] == 1][\"Molecule ChEMBL ID\"].tolist())"
   ]
  },
  {
   "cell_type": "code",
   "execution_count": 24,
   "metadata": {},
   "outputs": [
    {
     "data": {
      "text/plain": [
       "True"
      ]
     },
     "execution_count": 24,
     "metadata": {},
     "output_type": "execute_result"
    }
   ],
   "source": [
    "set1 == set2"
   ]
  },
  {
   "cell_type": "code",
   "execution_count": 25,
   "metadata": {},
   "outputs": [
    {
     "data": {
      "text/html": [
       "<div>\n",
       "<style scoped>\n",
       "    .dataframe tbody tr th:only-of-type {\n",
       "        vertical-align: middle;\n",
       "    }\n",
       "\n",
       "    .dataframe tbody tr th {\n",
       "        vertical-align: top;\n",
       "    }\n",
       "\n",
       "    .dataframe thead th {\n",
       "        text-align: right;\n",
       "    }\n",
       "</style>\n",
       "<table border=\"1\" class=\"dataframe\">\n",
       "  <thead>\n",
       "    <tr style=\"text-align: right;\">\n",
       "      <th></th>\n",
       "      <th>Smiles</th>\n",
       "      <th>CHEMBL1957</th>\n",
       "      <th>CHEMBL2842</th>\n",
       "      <th>CHEMBL614725</th>\n",
       "      <th>CHEMBL203</th>\n",
       "    </tr>\n",
       "  </thead>\n",
       "  <tbody>\n",
       "    <tr>\n",
       "      <th>0</th>\n",
       "      <td>CCc1ncnc(-c2cc(F)c(C(=O)N3CCN4CCC[C@H]4C3)c(Cl...</td>\n",
       "      <td>0</td>\n",
       "      <td>1</td>\n",
       "      <td>0</td>\n",
       "      <td>0</td>\n",
       "    </tr>\n",
       "    <tr>\n",
       "      <th>1</th>\n",
       "      <td>COc1ccc(-c2ccc3c(N4CCOC[C@@H]4C)nc(N4CCOC[C@@H...</td>\n",
       "      <td>0</td>\n",
       "      <td>1</td>\n",
       "      <td>0</td>\n",
       "      <td>0</td>\n",
       "    </tr>\n",
       "    <tr>\n",
       "      <th>2</th>\n",
       "      <td>O=C(Nc1ccc(-c2nc(N3CCOCC3)c3cnn(CC(F)(F)F)c3n2...</td>\n",
       "      <td>0</td>\n",
       "      <td>1</td>\n",
       "      <td>0</td>\n",
       "      <td>0</td>\n",
       "    </tr>\n",
       "    <tr>\n",
       "      <th>3</th>\n",
       "      <td>Nc1ccc(-c2ccc3ncc4ccc(=O)n(-c5cccc(C(F)(F)F)c5...</td>\n",
       "      <td>0</td>\n",
       "      <td>1</td>\n",
       "      <td>0</td>\n",
       "      <td>0</td>\n",
       "    </tr>\n",
       "    <tr>\n",
       "      <th>4</th>\n",
       "      <td>C[C@@H]1COCCN1c1nc(-c2ccc(NC(=O)Nc3ccc(C(=O)N4...</td>\n",
       "      <td>0</td>\n",
       "      <td>1</td>\n",
       "      <td>0</td>\n",
       "      <td>0</td>\n",
       "    </tr>\n",
       "    <tr>\n",
       "      <th>...</th>\n",
       "      <td>...</td>\n",
       "      <td>...</td>\n",
       "      <td>...</td>\n",
       "      <td>...</td>\n",
       "      <td>...</td>\n",
       "    </tr>\n",
       "    <tr>\n",
       "      <th>5716</th>\n",
       "      <td>O=C1Nc2ccccc2/C1=C1/Nc2ccccc2C1=O</td>\n",
       "      <td>1</td>\n",
       "      <td>0</td>\n",
       "      <td>0</td>\n",
       "      <td>0</td>\n",
       "    </tr>\n",
       "    <tr>\n",
       "      <th>5719</th>\n",
       "      <td>Nc1ccc2oc3nccc(NCc4cccc(Br)c4)c3c2c1</td>\n",
       "      <td>1</td>\n",
       "      <td>0</td>\n",
       "      <td>0</td>\n",
       "      <td>0</td>\n",
       "    </tr>\n",
       "    <tr>\n",
       "      <th>5720</th>\n",
       "      <td>C=CC(=O)Nc1cc(Nc2nccc(-c3cn(C)c4ccccc34)n2)c(O...</td>\n",
       "      <td>1</td>\n",
       "      <td>0</td>\n",
       "      <td>0</td>\n",
       "      <td>0</td>\n",
       "    </tr>\n",
       "    <tr>\n",
       "      <th>5721</th>\n",
       "      <td>COc1cccc(C(=O)c2sc(Nc3ccc(N4CCN(C(C)C)CC4)cc3)...</td>\n",
       "      <td>1</td>\n",
       "      <td>0</td>\n",
       "      <td>0</td>\n",
       "      <td>0</td>\n",
       "    </tr>\n",
       "    <tr>\n",
       "      <th>5722</th>\n",
       "      <td>CN1CCN(c2ccc(Nc3nc(N)c(C(=O)c4ccc5c(c4)OCCO5)s...</td>\n",
       "      <td>1</td>\n",
       "      <td>0</td>\n",
       "      <td>0</td>\n",
       "      <td>0</td>\n",
       "    </tr>\n",
       "  </tbody>\n",
       "</table>\n",
       "<p>5494 rows × 5 columns</p>\n",
       "</div>"
      ],
      "text/plain": [
       "                                                 Smiles  CHEMBL1957  \\\n",
       "0     CCc1ncnc(-c2cc(F)c(C(=O)N3CCN4CCC[C@H]4C3)c(Cl...           0   \n",
       "1     COc1ccc(-c2ccc3c(N4CCOC[C@@H]4C)nc(N4CCOC[C@@H...           0   \n",
       "2     O=C(Nc1ccc(-c2nc(N3CCOCC3)c3cnn(CC(F)(F)F)c3n2...           0   \n",
       "3     Nc1ccc(-c2ccc3ncc4ccc(=O)n(-c5cccc(C(F)(F)F)c5...           0   \n",
       "4     C[C@@H]1COCCN1c1nc(-c2ccc(NC(=O)Nc3ccc(C(=O)N4...           0   \n",
       "...                                                 ...         ...   \n",
       "5716                  O=C1Nc2ccccc2/C1=C1/Nc2ccccc2C1=O           1   \n",
       "5719               Nc1ccc2oc3nccc(NCc4cccc(Br)c4)c3c2c1           1   \n",
       "5720  C=CC(=O)Nc1cc(Nc2nccc(-c3cn(C)c4ccccc34)n2)c(O...           1   \n",
       "5721  COc1cccc(C(=O)c2sc(Nc3ccc(N4CCN(C(C)C)CC4)cc3)...           1   \n",
       "5722  CN1CCN(c2ccc(Nc3nc(N)c(C(=O)c4ccc5c(c4)OCCO5)s...           1   \n",
       "\n",
       "      CHEMBL2842  CHEMBL614725  CHEMBL203  \n",
       "0              1             0          0  \n",
       "1              1             0          0  \n",
       "2              1             0          0  \n",
       "3              1             0          0  \n",
       "4              1             0          0  \n",
       "...          ...           ...        ...  \n",
       "5716           0             0          0  \n",
       "5719           0             0          0  \n",
       "5720           0             0          0  \n",
       "5721           0             0          0  \n",
       "5722           0             0          0  \n",
       "\n",
       "[5494 rows x 5 columns]"
      ]
     },
     "execution_count": 25,
     "metadata": {},
     "output_type": "execute_result"
    }
   ],
   "source": [
    "transformed_data = transformed_data.drop(columns = [\"Molecule ChEMBL ID\"], axis = 1)\n",
    "transformed_data"
   ]
  },
  {
   "cell_type": "code",
   "execution_count": 28,
   "metadata": {},
   "outputs": [],
   "source": [
    "transformed_data.to_csv(\"Training-Data.csv\")"
   ]
  },
  {
   "cell_type": "code",
   "execution_count": null,
   "metadata": {},
   "outputs": [],
   "source": []
  }
 ],
 "metadata": {
  "kernelspec": {
   "display_name": "Python 3",
   "language": "python",
   "name": "python3"
  },
  "language_info": {
   "codemirror_mode": {
    "name": "ipython",
    "version": 3
   },
   "file_extension": ".py",
   "mimetype": "text/x-python",
   "name": "python",
   "nbconvert_exporter": "python",
   "pygments_lexer": "ipython3",
   "version": "3.7.9"
  }
 },
 "nbformat": 4,
 "nbformat_minor": 4
}
