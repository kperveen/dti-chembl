{
 "cells": [
  {
   "cell_type": "code",
   "execution_count": 3,
   "metadata": {},
   "outputs": [],
   "source": [
    "import pandas as pd\n",
    "import matplotlib.pyplot as plt\n",
    "import seaborn as sns\n",
    "from pandas.plotting import table\n",
    "from collections import Counter\n",
    "import numpy as np\n",
    "import scipy as sp\n",
    "from padelpy import from_smiles\n",
    "%matplotlib inline"
   ]
  },
  {
   "cell_type": "code",
   "execution_count": 4,
   "metadata": {},
   "outputs": [],
   "source": [
    "data = pd.read_csv(\"cleaned-data.csv\", usecols = [\"Molecule ChEMBL ID\", \"Smiles\", \"Standard Value\", \n",
    "                                                                \"Standard Units\", \"Target ChEMBL ID\", \n",
    "                                                                \"Standard Relation\", \"Target Name\"])"
   ]
  },
  {
   "cell_type": "code",
   "execution_count": 5,
   "metadata": {},
   "outputs": [
    {
     "data": {
      "text/plain": [
       "(18050, 7)"
      ]
     },
     "execution_count": 5,
     "metadata": {},
     "output_type": "execute_result"
    }
   ],
   "source": [
    "data.shape"
   ]
  },
  {
   "cell_type": "code",
   "execution_count": 6,
   "metadata": {},
   "outputs": [
    {
     "data": {
      "text/html": [
       "<div>\n",
       "<style scoped>\n",
       "    .dataframe tbody tr th:only-of-type {\n",
       "        vertical-align: middle;\n",
       "    }\n",
       "\n",
       "    .dataframe tbody tr th {\n",
       "        vertical-align: top;\n",
       "    }\n",
       "\n",
       "    .dataframe thead th {\n",
       "        text-align: right;\n",
       "    }\n",
       "</style>\n",
       "<table border=\"1\" class=\"dataframe\">\n",
       "  <thead>\n",
       "    <tr style=\"text-align: right;\">\n",
       "      <th></th>\n",
       "      <th>Molecule ChEMBL ID</th>\n",
       "      <th>Smiles</th>\n",
       "      <th>Standard Relation</th>\n",
       "      <th>Standard Value</th>\n",
       "      <th>Standard Units</th>\n",
       "      <th>Target ChEMBL ID</th>\n",
       "      <th>Target Name</th>\n",
       "    </tr>\n",
       "  </thead>\n",
       "  <tbody>\n",
       "    <tr>\n",
       "      <th>0</th>\n",
       "      <td>CHEMBL2321905</td>\n",
       "      <td>COC(=O)c1cc(-c2ccc(NC(=O)c3cc(NC(=O)CCCOc4cc5c...</td>\n",
       "      <td>'='</td>\n",
       "      <td>0.0013</td>\n",
       "      <td>nM</td>\n",
       "      <td>CHEMBL614725</td>\n",
       "      <td>MIA PaCa-2</td>\n",
       "    </tr>\n",
       "    <tr>\n",
       "      <th>1</th>\n",
       "      <td>CHEMBL2324630</td>\n",
       "      <td>COC(=O)c1cc(-c2ccc(NC(=O)c3nc(NC(=O)CCCOc4cc5c...</td>\n",
       "      <td>'='</td>\n",
       "      <td>0.0021</td>\n",
       "      <td>nM</td>\n",
       "      <td>CHEMBL614725</td>\n",
       "      <td>MIA PaCa-2</td>\n",
       "    </tr>\n",
       "    <tr>\n",
       "      <th>2</th>\n",
       "      <td>CHEMBL63786</td>\n",
       "      <td>Brc1cccc(Nc2ncnc3cc4ccccc4cc23)c1</td>\n",
       "      <td>'='</td>\n",
       "      <td>0.0030</td>\n",
       "      <td>nM</td>\n",
       "      <td>CHEMBL203</td>\n",
       "      <td>Epidermal growth factor receptor erbB1</td>\n",
       "    </tr>\n",
       "    <tr>\n",
       "      <th>3</th>\n",
       "      <td>CHEMBL53711</td>\n",
       "      <td>CN(C)c1cc2c(Nc3cccc(Br)c3)ncnc2cn1</td>\n",
       "      <td>'='</td>\n",
       "      <td>0.0060</td>\n",
       "      <td>nM</td>\n",
       "      <td>CHEMBL203</td>\n",
       "      <td>Epidermal growth factor receptor erbB1</td>\n",
       "    </tr>\n",
       "    <tr>\n",
       "      <th>4</th>\n",
       "      <td>CHEMBL35820</td>\n",
       "      <td>CCOc1cc2ncnc(Nc3cccc(Br)c3)c2cc1OCC</td>\n",
       "      <td>'='</td>\n",
       "      <td>0.0060</td>\n",
       "      <td>nM</td>\n",
       "      <td>CHEMBL203</td>\n",
       "      <td>Epidermal growth factor receptor erbB1</td>\n",
       "    </tr>\n",
       "  </tbody>\n",
       "</table>\n",
       "</div>"
      ],
      "text/plain": [
       "  Molecule ChEMBL ID                                             Smiles  \\\n",
       "0      CHEMBL2321905  COC(=O)c1cc(-c2ccc(NC(=O)c3cc(NC(=O)CCCOc4cc5c...   \n",
       "1      CHEMBL2324630  COC(=O)c1cc(-c2ccc(NC(=O)c3nc(NC(=O)CCCOc4cc5c...   \n",
       "2        CHEMBL63786                  Brc1cccc(Nc2ncnc3cc4ccccc4cc23)c1   \n",
       "3        CHEMBL53711                 CN(C)c1cc2c(Nc3cccc(Br)c3)ncnc2cn1   \n",
       "4        CHEMBL35820                CCOc1cc2ncnc(Nc3cccc(Br)c3)c2cc1OCC   \n",
       "\n",
       "  Standard Relation  Standard Value Standard Units Target ChEMBL ID  \\\n",
       "0               '='          0.0013             nM     CHEMBL614725   \n",
       "1               '='          0.0021             nM     CHEMBL614725   \n",
       "2               '='          0.0030             nM        CHEMBL203   \n",
       "3               '='          0.0060             nM        CHEMBL203   \n",
       "4               '='          0.0060             nM        CHEMBL203   \n",
       "\n",
       "                              Target Name  \n",
       "0                              MIA PaCa-2  \n",
       "1                              MIA PaCa-2  \n",
       "2  Epidermal growth factor receptor erbB1  \n",
       "3  Epidermal growth factor receptor erbB1  \n",
       "4  Epidermal growth factor receptor erbB1  "
      ]
     },
     "execution_count": 6,
     "metadata": {},
     "output_type": "execute_result"
    }
   ],
   "source": [
    "data.head()"
   ]
  },
  {
   "cell_type": "code",
   "execution_count": 7,
   "metadata": {},
   "outputs": [],
   "source": [
    "def add_active(row):\n",
    "    sv = row[\"Standard Value\"]\n",
    "    sr = row[\"Standard Relation\"]\n",
    "    if int(sv) < 1000 and sr != '>':\n",
    "        return 1\n",
    "    else:\n",
    "        return 0"
   ]
  },
  {
   "cell_type": "code",
   "execution_count": 8,
   "metadata": {},
   "outputs": [],
   "source": [
    "data['Active'] = data.apply(add_active, axis=1)"
   ]
  },
  {
   "cell_type": "code",
   "execution_count": 9,
   "metadata": {},
   "outputs": [
    {
     "data": {
      "text/plain": [
       "1    10451\n",
       "0     7599\n",
       "Name: Active, dtype: int64"
      ]
     },
     "execution_count": 9,
     "metadata": {},
     "output_type": "execute_result"
    }
   ],
   "source": [
    "data[\"Active\"].value_counts()"
   ]
  },
  {
   "cell_type": "code",
   "execution_count": 10,
   "metadata": {},
   "outputs": [],
   "source": [
    "new_data = data"
   ]
  },
  {
   "cell_type": "code",
   "execution_count": 11,
   "metadata": {},
   "outputs": [
    {
     "data": {
      "text/html": [
       "<div>\n",
       "<style scoped>\n",
       "    .dataframe tbody tr th:only-of-type {\n",
       "        vertical-align: middle;\n",
       "    }\n",
       "\n",
       "    .dataframe tbody tr th {\n",
       "        vertical-align: top;\n",
       "    }\n",
       "\n",
       "    .dataframe thead th {\n",
       "        text-align: right;\n",
       "    }\n",
       "</style>\n",
       "<table border=\"1\" class=\"dataframe\">\n",
       "  <thead>\n",
       "    <tr style=\"text-align: right;\">\n",
       "      <th></th>\n",
       "      <th>Molecule ChEMBL ID</th>\n",
       "      <th>Smiles</th>\n",
       "      <th>Target ChEMBL ID</th>\n",
       "      <th>Active</th>\n",
       "    </tr>\n",
       "  </thead>\n",
       "  <tbody>\n",
       "    <tr>\n",
       "      <th>0</th>\n",
       "      <td>CHEMBL2321905</td>\n",
       "      <td>COC(=O)c1cc(-c2ccc(NC(=O)c3cc(NC(=O)CCCOc4cc5c...</td>\n",
       "      <td>CHEMBL614725</td>\n",
       "      <td>1</td>\n",
       "    </tr>\n",
       "    <tr>\n",
       "      <th>1</th>\n",
       "      <td>CHEMBL2324630</td>\n",
       "      <td>COC(=O)c1cc(-c2ccc(NC(=O)c3nc(NC(=O)CCCOc4cc5c...</td>\n",
       "      <td>CHEMBL614725</td>\n",
       "      <td>1</td>\n",
       "    </tr>\n",
       "    <tr>\n",
       "      <th>2</th>\n",
       "      <td>CHEMBL63786</td>\n",
       "      <td>Brc1cccc(Nc2ncnc3cc4ccccc4cc23)c1</td>\n",
       "      <td>CHEMBL203</td>\n",
       "      <td>1</td>\n",
       "    </tr>\n",
       "    <tr>\n",
       "      <th>3</th>\n",
       "      <td>CHEMBL53711</td>\n",
       "      <td>CN(C)c1cc2c(Nc3cccc(Br)c3)ncnc2cn1</td>\n",
       "      <td>CHEMBL203</td>\n",
       "      <td>1</td>\n",
       "    </tr>\n",
       "    <tr>\n",
       "      <th>4</th>\n",
       "      <td>CHEMBL35820</td>\n",
       "      <td>CCOc1cc2ncnc(Nc3cccc(Br)c3)c2cc1OCC</td>\n",
       "      <td>CHEMBL203</td>\n",
       "      <td>1</td>\n",
       "    </tr>\n",
       "    <tr>\n",
       "      <th>...</th>\n",
       "      <td>...</td>\n",
       "      <td>...</td>\n",
       "      <td>...</td>\n",
       "      <td>...</td>\n",
       "    </tr>\n",
       "    <tr>\n",
       "      <th>18045</th>\n",
       "      <td>CHEMBL1956069</td>\n",
       "      <td>COc1cccc(C(=O)c2sc(Nc3ccc(N4CCN(C(C)C)CC4)cc3)...</td>\n",
       "      <td>CHEMBL1957</td>\n",
       "      <td>0</td>\n",
       "    </tr>\n",
       "    <tr>\n",
       "      <th>18046</th>\n",
       "      <td>CHEMBL1956070</td>\n",
       "      <td>CN1CCN(c2ccc(Nc3nc(N)c(C(=O)c4ccc5c(c4)OCCO5)s...</td>\n",
       "      <td>CHEMBL1957</td>\n",
       "      <td>0</td>\n",
       "    </tr>\n",
       "    <tr>\n",
       "      <th>18047</th>\n",
       "      <td>CHEMBL1431</td>\n",
       "      <td>CN(C)C(=N)NC(=N)N</td>\n",
       "      <td>CHEMBL614725</td>\n",
       "      <td>0</td>\n",
       "    </tr>\n",
       "    <tr>\n",
       "      <th>18048</th>\n",
       "      <td>CHEMBL45068</td>\n",
       "      <td>O=C(CCc1ccc(O)cc1)c1c(O)cc(O)cc1O</td>\n",
       "      <td>CHEMBL203</td>\n",
       "      <td>0</td>\n",
       "    </tr>\n",
       "    <tr>\n",
       "      <th>18049</th>\n",
       "      <td>CHEMBL6</td>\n",
       "      <td>COc1ccc2c(c1)c(CC(=O)O)c(C)n2C(=O)c1ccc(Cl)cc1</td>\n",
       "      <td>CHEMBL614725</td>\n",
       "      <td>0</td>\n",
       "    </tr>\n",
       "  </tbody>\n",
       "</table>\n",
       "<p>18050 rows × 4 columns</p>\n",
       "</div>"
      ],
      "text/plain": [
       "      Molecule ChEMBL ID                                             Smiles  \\\n",
       "0          CHEMBL2321905  COC(=O)c1cc(-c2ccc(NC(=O)c3cc(NC(=O)CCCOc4cc5c...   \n",
       "1          CHEMBL2324630  COC(=O)c1cc(-c2ccc(NC(=O)c3nc(NC(=O)CCCOc4cc5c...   \n",
       "2            CHEMBL63786                  Brc1cccc(Nc2ncnc3cc4ccccc4cc23)c1   \n",
       "3            CHEMBL53711                 CN(C)c1cc2c(Nc3cccc(Br)c3)ncnc2cn1   \n",
       "4            CHEMBL35820                CCOc1cc2ncnc(Nc3cccc(Br)c3)c2cc1OCC   \n",
       "...                  ...                                                ...   \n",
       "18045      CHEMBL1956069  COc1cccc(C(=O)c2sc(Nc3ccc(N4CCN(C(C)C)CC4)cc3)...   \n",
       "18046      CHEMBL1956070  CN1CCN(c2ccc(Nc3nc(N)c(C(=O)c4ccc5c(c4)OCCO5)s...   \n",
       "18047         CHEMBL1431                                  CN(C)C(=N)NC(=N)N   \n",
       "18048        CHEMBL45068                  O=C(CCc1ccc(O)cc1)c1c(O)cc(O)cc1O   \n",
       "18049            CHEMBL6     COc1ccc2c(c1)c(CC(=O)O)c(C)n2C(=O)c1ccc(Cl)cc1   \n",
       "\n",
       "      Target ChEMBL ID  Active  \n",
       "0         CHEMBL614725       1  \n",
       "1         CHEMBL614725       1  \n",
       "2            CHEMBL203       1  \n",
       "3            CHEMBL203       1  \n",
       "4            CHEMBL203       1  \n",
       "...                ...     ...  \n",
       "18045       CHEMBL1957       0  \n",
       "18046       CHEMBL1957       0  \n",
       "18047     CHEMBL614725       0  \n",
       "18048        CHEMBL203       0  \n",
       "18049     CHEMBL614725       0  \n",
       "\n",
       "[18050 rows x 4 columns]"
      ]
     },
     "execution_count": 11,
     "metadata": {},
     "output_type": "execute_result"
    }
   ],
   "source": [
    "new_data.drop(columns=['Standard Relation', 'Standard Value', 'Standard Units', 'Target Name'])"
   ]
  },
  {
   "cell_type": "code",
   "execution_count": 12,
   "metadata": {},
   "outputs": [
    {
     "data": {
      "text/plain": [
       "CHEMBL4160854    3\n",
       "CHEMBL553        3\n",
       "CHEMBL1336       3\n",
       "CHEMBL1684800    3\n",
       "CHEMBL1834657    3\n",
       "                ..\n",
       "CHEMBL3355475    1\n",
       "CHEMBL3639542    1\n",
       "CHEMBL1910278    1\n",
       "CHEMBL3947072    1\n",
       "CHEMBL73820      1\n",
       "Name: Molecule ChEMBL ID, Length: 17230, dtype: int64"
      ]
     },
     "execution_count": 12,
     "metadata": {},
     "output_type": "execute_result"
    }
   ],
   "source": [
    "new_data[\"Molecule ChEMBL ID\"].value_counts()"
   ]
  },
  {
   "cell_type": "code",
   "execution_count": 13,
   "metadata": {},
   "outputs": [
    {
     "data": {
      "text/html": [
       "<div>\n",
       "<style scoped>\n",
       "    .dataframe tbody tr th:only-of-type {\n",
       "        vertical-align: middle;\n",
       "    }\n",
       "\n",
       "    .dataframe tbody tr th {\n",
       "        vertical-align: top;\n",
       "    }\n",
       "\n",
       "    .dataframe thead th {\n",
       "        text-align: right;\n",
       "    }\n",
       "</style>\n",
       "<table border=\"1\" class=\"dataframe\">\n",
       "  <thead>\n",
       "    <tr style=\"text-align: right;\">\n",
       "      <th></th>\n",
       "      <th>Molecule ChEMBL ID</th>\n",
       "      <th>Smiles</th>\n",
       "      <th>Standard Relation</th>\n",
       "      <th>Standard Value</th>\n",
       "      <th>Standard Units</th>\n",
       "      <th>Target ChEMBL ID</th>\n",
       "      <th>Target Name</th>\n",
       "      <th>Active</th>\n",
       "    </tr>\n",
       "  </thead>\n",
       "  <tbody>\n",
       "    <tr>\n",
       "      <th>0</th>\n",
       "      <td>CHEMBL2321905</td>\n",
       "      <td>COC(=O)c1cc(-c2ccc(NC(=O)c3cc(NC(=O)CCCOc4cc5c...</td>\n",
       "      <td>'='</td>\n",
       "      <td>0.0013</td>\n",
       "      <td>nM</td>\n",
       "      <td>CHEMBL614725</td>\n",
       "      <td>MIA PaCa-2</td>\n",
       "      <td>1</td>\n",
       "    </tr>\n",
       "  </tbody>\n",
       "</table>\n",
       "</div>"
      ],
      "text/plain": [
       "  Molecule ChEMBL ID                                             Smiles  \\\n",
       "0      CHEMBL2321905  COC(=O)c1cc(-c2ccc(NC(=O)c3cc(NC(=O)CCCOc4cc5c...   \n",
       "\n",
       "  Standard Relation  Standard Value Standard Units Target ChEMBL ID  \\\n",
       "0               '='          0.0013             nM     CHEMBL614725   \n",
       "\n",
       "  Target Name  Active  \n",
       "0  MIA PaCa-2       1  "
      ]
     },
     "execution_count": 13,
     "metadata": {},
     "output_type": "execute_result"
    }
   ],
   "source": [
    "new_data[new_data[\"Molecule ChEMBL ID\"] == \"CHEMBL2321905\"]"
   ]
  },
  {
   "cell_type": "code",
   "execution_count": 14,
   "metadata": {},
   "outputs": [
    {
     "data": {
      "text/plain": [
       "['CHEMBL1957',\n",
       " 'CHEMBL4026',\n",
       " 'CHEMBL209',\n",
       " 'CHEMBL203',\n",
       " 'CHEMBL2842',\n",
       " 'CHEMBL614725']"
      ]
     },
     "execution_count": 14,
     "metadata": {},
     "output_type": "execute_result"
    }
   ],
   "source": [
    "target_ids = new_data[\"Target ChEMBL ID\"].tolist()\n",
    "targets = list(set(target_ids))\n",
    "targets"
   ]
  },
  {
   "cell_type": "code",
   "execution_count": 15,
   "metadata": {},
   "outputs": [
    {
     "data": {
      "text/plain": [
       "['Molecule_id',\n",
       " 'Smiles',\n",
       " 'CHEMBL1957',\n",
       " 'CHEMBL4026',\n",
       " 'CHEMBL209',\n",
       " 'CHEMBL203',\n",
       " 'CHEMBL2842',\n",
       " 'CHEMBL614725']"
      ]
     },
     "execution_count": 15,
     "metadata": {},
     "output_type": "execute_result"
    }
   ],
   "source": [
    "columns = [\"Molecule_id\", \"Smiles\"]\n",
    "columns = columns + targets\n",
    "columns"
   ]
  },
  {
   "cell_type": "code",
   "execution_count": 16,
   "metadata": {},
   "outputs": [
    {
     "data": {
      "text/html": [
       "<div>\n",
       "<style scoped>\n",
       "    .dataframe tbody tr th:only-of-type {\n",
       "        vertical-align: middle;\n",
       "    }\n",
       "\n",
       "    .dataframe tbody tr th {\n",
       "        vertical-align: top;\n",
       "    }\n",
       "\n",
       "    .dataframe thead th {\n",
       "        text-align: right;\n",
       "    }\n",
       "</style>\n",
       "<table border=\"1\" class=\"dataframe\">\n",
       "  <thead>\n",
       "    <tr style=\"text-align: right;\">\n",
       "      <th></th>\n",
       "      <th>Molecule ChEMBL ID</th>\n",
       "      <th>Smiles</th>\n",
       "      <th>CHEMBL1957</th>\n",
       "      <th>CHEMBL4026</th>\n",
       "      <th>CHEMBL209</th>\n",
       "      <th>CHEMBL203</th>\n",
       "      <th>CHEMBL2842</th>\n",
       "      <th>CHEMBL614725</th>\n",
       "    </tr>\n",
       "  </thead>\n",
       "  <tbody>\n",
       "    <tr>\n",
       "      <th>0</th>\n",
       "      <td>CHEMBL2321905</td>\n",
       "      <td>COC(=O)c1cc(-c2ccc(NC(=O)c3cc(NC(=O)CCCOc4cc5c...</td>\n",
       "      <td>0</td>\n",
       "      <td>0</td>\n",
       "      <td>0</td>\n",
       "      <td>0</td>\n",
       "      <td>0</td>\n",
       "      <td>0</td>\n",
       "    </tr>\n",
       "    <tr>\n",
       "      <th>1</th>\n",
       "      <td>CHEMBL2324630</td>\n",
       "      <td>COC(=O)c1cc(-c2ccc(NC(=O)c3nc(NC(=O)CCCOc4cc5c...</td>\n",
       "      <td>0</td>\n",
       "      <td>0</td>\n",
       "      <td>0</td>\n",
       "      <td>0</td>\n",
       "      <td>0</td>\n",
       "      <td>0</td>\n",
       "    </tr>\n",
       "    <tr>\n",
       "      <th>2</th>\n",
       "      <td>CHEMBL63786</td>\n",
       "      <td>Brc1cccc(Nc2ncnc3cc4ccccc4cc23)c1</td>\n",
       "      <td>0</td>\n",
       "      <td>0</td>\n",
       "      <td>0</td>\n",
       "      <td>0</td>\n",
       "      <td>0</td>\n",
       "      <td>0</td>\n",
       "    </tr>\n",
       "    <tr>\n",
       "      <th>3</th>\n",
       "      <td>CHEMBL53711</td>\n",
       "      <td>CN(C)c1cc2c(Nc3cccc(Br)c3)ncnc2cn1</td>\n",
       "      <td>0</td>\n",
       "      <td>0</td>\n",
       "      <td>0</td>\n",
       "      <td>0</td>\n",
       "      <td>0</td>\n",
       "      <td>0</td>\n",
       "    </tr>\n",
       "    <tr>\n",
       "      <th>4</th>\n",
       "      <td>CHEMBL35820</td>\n",
       "      <td>CCOc1cc2ncnc(Nc3cccc(Br)c3)c2cc1OCC</td>\n",
       "      <td>0</td>\n",
       "      <td>0</td>\n",
       "      <td>0</td>\n",
       "      <td>0</td>\n",
       "      <td>0</td>\n",
       "      <td>0</td>\n",
       "    </tr>\n",
       "  </tbody>\n",
       "</table>\n",
       "</div>"
      ],
      "text/plain": [
       "  Molecule ChEMBL ID                                             Smiles  \\\n",
       "0      CHEMBL2321905  COC(=O)c1cc(-c2ccc(NC(=O)c3cc(NC(=O)CCCOc4cc5c...   \n",
       "1      CHEMBL2324630  COC(=O)c1cc(-c2ccc(NC(=O)c3nc(NC(=O)CCCOc4cc5c...   \n",
       "2        CHEMBL63786                  Brc1cccc(Nc2ncnc3cc4ccccc4cc23)c1   \n",
       "3        CHEMBL53711                 CN(C)c1cc2c(Nc3cccc(Br)c3)ncnc2cn1   \n",
       "4        CHEMBL35820                CCOc1cc2ncnc(Nc3cccc(Br)c3)c2cc1OCC   \n",
       "\n",
       "   CHEMBL1957  CHEMBL4026  CHEMBL209  CHEMBL203  CHEMBL2842  CHEMBL614725  \n",
       "0           0           0          0          0           0             0  \n",
       "1           0           0          0          0           0             0  \n",
       "2           0           0          0          0           0             0  \n",
       "3           0           0          0          0           0             0  \n",
       "4           0           0          0          0           0             0  "
      ]
     },
     "execution_count": 16,
     "metadata": {},
     "output_type": "execute_result"
    }
   ],
   "source": [
    "transformed_data = new_data[[\"Molecule ChEMBL ID\", \"Smiles\"]]\n",
    "transformed_data = transformed_data.drop_duplicates(subset=[\"Molecule ChEMBL ID\", \"Smiles\"])\n",
    "for target in targets:\n",
    "    transformed_data[target] = 0\n",
    "transformed_data.head()"
   ]
  },
  {
   "cell_type": "code",
   "execution_count": 17,
   "metadata": {},
   "outputs": [
    {
     "data": {
      "text/plain": [
       "2    Brc1cccc(Nc2ncnc3cc4ccccc4cc23)c1\n",
       "Name: Smiles, dtype: object"
      ]
     },
     "execution_count": 17,
     "metadata": {},
     "output_type": "execute_result"
    }
   ],
   "source": [
    "transformed_data[transformed_data[\"Molecule ChEMBL ID\"] == \"CHEMBL63786\"][\"Smiles\"]"
   ]
  },
  {
   "cell_type": "code",
   "execution_count": 18,
   "metadata": {},
   "outputs": [
    {
     "data": {
      "text/plain": [
       "2    Brc1cccc(Nc2ncnc3cc4ccccc4cc23)c1\n",
       "Name: Smiles, dtype: object"
      ]
     },
     "execution_count": 18,
     "metadata": {},
     "output_type": "execute_result"
    }
   ],
   "source": [
    "data[data[\"Molecule ChEMBL ID\"] == \"CHEMBL63786\"][\"Smiles\"]"
   ]
  },
  {
   "cell_type": "code",
   "execution_count": 19,
   "metadata": {},
   "outputs": [
    {
     "name": "stdout",
     "output_type": "stream",
     "text": [
      "CHEMBL1957\n",
      "CHEMBL203\n",
      "CHEMBL2842\n"
     ]
    }
   ],
   "source": [
    "df = new_data[new_data[\"Molecule ChEMBL ID\"] == \"CHEMBL1684800\"]\n",
    "\n",
    "for index, row in df.iterrows():\n",
    "    print(row[\"Target ChEMBL ID\"])"
   ]
  },
  {
   "cell_type": "code",
   "execution_count": 20,
   "metadata": {},
   "outputs": [
    {
     "data": {
      "text/plain": [
       "Molecule ChEMBL ID     object\n",
       "Smiles                 object\n",
       "Standard Relation      object\n",
       "Standard Value        float64\n",
       "Standard Units         object\n",
       "Target ChEMBL ID       object\n",
       "Target Name            object\n",
       "Active                  int64\n",
       "dtype: object"
      ]
     },
     "execution_count": 20,
     "metadata": {},
     "output_type": "execute_result"
    }
   ],
   "source": [
    "new_data.dtypes"
   ]
  },
  {
   "cell_type": "code",
   "execution_count": 21,
   "metadata": {},
   "outputs": [],
   "source": [
    "def get_target_list():\n",
    "    target_list = {}\n",
    "    for t in targets:\n",
    "        target_list[t] = 0\n",
    "    return target_list"
   ]
  },
  {
   "cell_type": "code",
   "execution_count": 22,
   "metadata": {},
   "outputs": [],
   "source": [
    "def add_values(row):\n",
    "    mol = row[\"Molecule ChEMBL ID\"]\n",
    "    mol_data = new_data[new_data[\"Molecule ChEMBL ID\"] == mol]\n",
    "    for index, r in mol_data.iterrows():\n",
    "        row[r[\"Target ChEMBL ID\"]] = 1\n",
    "    return row"
   ]
  },
  {
   "cell_type": "code",
   "execution_count": 23,
   "metadata": {},
   "outputs": [],
   "source": [
    "transformed_data = transformed_data.apply(add_values, axis = 1)"
   ]
  },
  {
   "cell_type": "code",
   "execution_count": 24,
   "metadata": {
    "scrolled": true
   },
   "outputs": [
    {
     "data": {
      "text/html": [
       "<div>\n",
       "<style scoped>\n",
       "    .dataframe tbody tr th:only-of-type {\n",
       "        vertical-align: middle;\n",
       "    }\n",
       "\n",
       "    .dataframe tbody tr th {\n",
       "        vertical-align: top;\n",
       "    }\n",
       "\n",
       "    .dataframe thead th {\n",
       "        text-align: right;\n",
       "    }\n",
       "</style>\n",
       "<table border=\"1\" class=\"dataframe\">\n",
       "  <thead>\n",
       "    <tr style=\"text-align: right;\">\n",
       "      <th></th>\n",
       "      <th>Molecule ChEMBL ID</th>\n",
       "      <th>Smiles</th>\n",
       "      <th>CHEMBL1957</th>\n",
       "      <th>CHEMBL4026</th>\n",
       "      <th>CHEMBL209</th>\n",
       "      <th>CHEMBL203</th>\n",
       "      <th>CHEMBL2842</th>\n",
       "      <th>CHEMBL614725</th>\n",
       "    </tr>\n",
       "  </thead>\n",
       "  <tbody>\n",
       "    <tr>\n",
       "      <th>0</th>\n",
       "      <td>CHEMBL2321905</td>\n",
       "      <td>COC(=O)c1cc(-c2ccc(NC(=O)c3cc(NC(=O)CCCOc4cc5c...</td>\n",
       "      <td>0</td>\n",
       "      <td>0</td>\n",
       "      <td>0</td>\n",
       "      <td>0</td>\n",
       "      <td>0</td>\n",
       "      <td>1</td>\n",
       "    </tr>\n",
       "    <tr>\n",
       "      <th>1</th>\n",
       "      <td>CHEMBL2324630</td>\n",
       "      <td>COC(=O)c1cc(-c2ccc(NC(=O)c3nc(NC(=O)CCCOc4cc5c...</td>\n",
       "      <td>0</td>\n",
       "      <td>0</td>\n",
       "      <td>0</td>\n",
       "      <td>0</td>\n",
       "      <td>0</td>\n",
       "      <td>1</td>\n",
       "    </tr>\n",
       "    <tr>\n",
       "      <th>2</th>\n",
       "      <td>CHEMBL63786</td>\n",
       "      <td>Brc1cccc(Nc2ncnc3cc4ccccc4cc23)c1</td>\n",
       "      <td>0</td>\n",
       "      <td>0</td>\n",
       "      <td>0</td>\n",
       "      <td>1</td>\n",
       "      <td>0</td>\n",
       "      <td>0</td>\n",
       "    </tr>\n",
       "    <tr>\n",
       "      <th>3</th>\n",
       "      <td>CHEMBL53711</td>\n",
       "      <td>CN(C)c1cc2c(Nc3cccc(Br)c3)ncnc2cn1</td>\n",
       "      <td>0</td>\n",
       "      <td>0</td>\n",
       "      <td>0</td>\n",
       "      <td>1</td>\n",
       "      <td>0</td>\n",
       "      <td>0</td>\n",
       "    </tr>\n",
       "    <tr>\n",
       "      <th>4</th>\n",
       "      <td>CHEMBL35820</td>\n",
       "      <td>CCOc1cc2ncnc(Nc3cccc(Br)c3)c2cc1OCC</td>\n",
       "      <td>0</td>\n",
       "      <td>0</td>\n",
       "      <td>0</td>\n",
       "      <td>1</td>\n",
       "      <td>0</td>\n",
       "      <td>0</td>\n",
       "    </tr>\n",
       "  </tbody>\n",
       "</table>\n",
       "</div>"
      ],
      "text/plain": [
       "  Molecule ChEMBL ID                                             Smiles  \\\n",
       "0      CHEMBL2321905  COC(=O)c1cc(-c2ccc(NC(=O)c3cc(NC(=O)CCCOc4cc5c...   \n",
       "1      CHEMBL2324630  COC(=O)c1cc(-c2ccc(NC(=O)c3nc(NC(=O)CCCOc4cc5c...   \n",
       "2        CHEMBL63786                  Brc1cccc(Nc2ncnc3cc4ccccc4cc23)c1   \n",
       "3        CHEMBL53711                 CN(C)c1cc2c(Nc3cccc(Br)c3)ncnc2cn1   \n",
       "4        CHEMBL35820                CCOc1cc2ncnc(Nc3cccc(Br)c3)c2cc1OCC   \n",
       "\n",
       "   CHEMBL1957  CHEMBL4026  CHEMBL209  CHEMBL203  CHEMBL2842  CHEMBL614725  \n",
       "0           0           0          0          0           0             1  \n",
       "1           0           0          0          0           0             1  \n",
       "2           0           0          0          1           0             0  \n",
       "3           0           0          0          1           0             0  \n",
       "4           0           0          0          1           0             0  "
      ]
     },
     "execution_count": 24,
     "metadata": {},
     "output_type": "execute_result"
    }
   ],
   "source": [
    "transformed_data.head()"
   ]
  },
  {
   "cell_type": "code",
   "execution_count": 25,
   "metadata": {},
   "outputs": [],
   "source": [
    "set1 = set(new_data[new_data[\"Target ChEMBL ID\"] == \"CHEMBL614725\"][\"Molecule ChEMBL ID\"].tolist())"
   ]
  },
  {
   "cell_type": "code",
   "execution_count": 26,
   "metadata": {},
   "outputs": [],
   "source": [
    "set2 = set(transformed_data[transformed_data[\"CHEMBL614725\"] == 1][\"Molecule ChEMBL ID\"].tolist())"
   ]
  },
  {
   "cell_type": "code",
   "execution_count": 27,
   "metadata": {},
   "outputs": [
    {
     "data": {
      "text/plain": [
       "True"
      ]
     },
     "execution_count": 27,
     "metadata": {},
     "output_type": "execute_result"
    }
   ],
   "source": [
    "set1 == set2"
   ]
  },
  {
   "cell_type": "code",
   "execution_count": 28,
   "metadata": {},
   "outputs": [
    {
     "data": {
      "text/html": [
       "<div>\n",
       "<style scoped>\n",
       "    .dataframe tbody tr th:only-of-type {\n",
       "        vertical-align: middle;\n",
       "    }\n",
       "\n",
       "    .dataframe tbody tr th {\n",
       "        vertical-align: top;\n",
       "    }\n",
       "\n",
       "    .dataframe thead th {\n",
       "        text-align: right;\n",
       "    }\n",
       "</style>\n",
       "<table border=\"1\" class=\"dataframe\">\n",
       "  <thead>\n",
       "    <tr style=\"text-align: right;\">\n",
       "      <th></th>\n",
       "      <th>Smiles</th>\n",
       "      <th>CHEMBL1957</th>\n",
       "      <th>CHEMBL4026</th>\n",
       "      <th>CHEMBL209</th>\n",
       "      <th>CHEMBL203</th>\n",
       "      <th>CHEMBL2842</th>\n",
       "      <th>CHEMBL614725</th>\n",
       "    </tr>\n",
       "  </thead>\n",
       "  <tbody>\n",
       "    <tr>\n",
       "      <th>0</th>\n",
       "      <td>COC(=O)c1cc(-c2ccc(NC(=O)c3cc(NC(=O)CCCOc4cc5c...</td>\n",
       "      <td>0</td>\n",
       "      <td>0</td>\n",
       "      <td>0</td>\n",
       "      <td>0</td>\n",
       "      <td>0</td>\n",
       "      <td>1</td>\n",
       "    </tr>\n",
       "    <tr>\n",
       "      <th>1</th>\n",
       "      <td>COC(=O)c1cc(-c2ccc(NC(=O)c3nc(NC(=O)CCCOc4cc5c...</td>\n",
       "      <td>0</td>\n",
       "      <td>0</td>\n",
       "      <td>0</td>\n",
       "      <td>0</td>\n",
       "      <td>0</td>\n",
       "      <td>1</td>\n",
       "    </tr>\n",
       "    <tr>\n",
       "      <th>2</th>\n",
       "      <td>Brc1cccc(Nc2ncnc3cc4ccccc4cc23)c1</td>\n",
       "      <td>0</td>\n",
       "      <td>0</td>\n",
       "      <td>0</td>\n",
       "      <td>1</td>\n",
       "      <td>0</td>\n",
       "      <td>0</td>\n",
       "    </tr>\n",
       "    <tr>\n",
       "      <th>3</th>\n",
       "      <td>CN(C)c1cc2c(Nc3cccc(Br)c3)ncnc2cn1</td>\n",
       "      <td>0</td>\n",
       "      <td>0</td>\n",
       "      <td>0</td>\n",
       "      <td>1</td>\n",
       "      <td>0</td>\n",
       "      <td>0</td>\n",
       "    </tr>\n",
       "    <tr>\n",
       "      <th>4</th>\n",
       "      <td>CCOc1cc2ncnc(Nc3cccc(Br)c3)c2cc1OCC</td>\n",
       "      <td>0</td>\n",
       "      <td>0</td>\n",
       "      <td>0</td>\n",
       "      <td>1</td>\n",
       "      <td>0</td>\n",
       "      <td>0</td>\n",
       "    </tr>\n",
       "    <tr>\n",
       "      <th>...</th>\n",
       "      <td>...</td>\n",
       "      <td>...</td>\n",
       "      <td>...</td>\n",
       "      <td>...</td>\n",
       "      <td>...</td>\n",
       "      <td>...</td>\n",
       "      <td>...</td>\n",
       "    </tr>\n",
       "    <tr>\n",
       "      <th>18044</th>\n",
       "      <td>O=C(/C=C/c1ccc(O)c(O)c1)c1ccc(O[C@@H]2O[C@H](C...</td>\n",
       "      <td>0</td>\n",
       "      <td>0</td>\n",
       "      <td>0</td>\n",
       "      <td>1</td>\n",
       "      <td>0</td>\n",
       "      <td>0</td>\n",
       "    </tr>\n",
       "    <tr>\n",
       "      <th>18045</th>\n",
       "      <td>COc1cccc(C(=O)c2sc(Nc3ccc(N4CCN(C(C)C)CC4)cc3)...</td>\n",
       "      <td>1</td>\n",
       "      <td>0</td>\n",
       "      <td>0</td>\n",
       "      <td>0</td>\n",
       "      <td>0</td>\n",
       "      <td>0</td>\n",
       "    </tr>\n",
       "    <tr>\n",
       "      <th>18046</th>\n",
       "      <td>CN1CCN(c2ccc(Nc3nc(N)c(C(=O)c4ccc5c(c4)OCCO5)s...</td>\n",
       "      <td>1</td>\n",
       "      <td>0</td>\n",
       "      <td>0</td>\n",
       "      <td>0</td>\n",
       "      <td>0</td>\n",
       "      <td>0</td>\n",
       "    </tr>\n",
       "    <tr>\n",
       "      <th>18047</th>\n",
       "      <td>CN(C)C(=N)NC(=N)N</td>\n",
       "      <td>0</td>\n",
       "      <td>0</td>\n",
       "      <td>0</td>\n",
       "      <td>0</td>\n",
       "      <td>0</td>\n",
       "      <td>1</td>\n",
       "    </tr>\n",
       "    <tr>\n",
       "      <th>18048</th>\n",
       "      <td>O=C(CCc1ccc(O)cc1)c1c(O)cc(O)cc1O</td>\n",
       "      <td>0</td>\n",
       "      <td>0</td>\n",
       "      <td>0</td>\n",
       "      <td>1</td>\n",
       "      <td>0</td>\n",
       "      <td>0</td>\n",
       "    </tr>\n",
       "  </tbody>\n",
       "</table>\n",
       "<p>17230 rows × 7 columns</p>\n",
       "</div>"
      ],
      "text/plain": [
       "                                                  Smiles  CHEMBL1957  \\\n",
       "0      COC(=O)c1cc(-c2ccc(NC(=O)c3cc(NC(=O)CCCOc4cc5c...           0   \n",
       "1      COC(=O)c1cc(-c2ccc(NC(=O)c3nc(NC(=O)CCCOc4cc5c...           0   \n",
       "2                      Brc1cccc(Nc2ncnc3cc4ccccc4cc23)c1           0   \n",
       "3                     CN(C)c1cc2c(Nc3cccc(Br)c3)ncnc2cn1           0   \n",
       "4                    CCOc1cc2ncnc(Nc3cccc(Br)c3)c2cc1OCC           0   \n",
       "...                                                  ...         ...   \n",
       "18044  O=C(/C=C/c1ccc(O)c(O)c1)c1ccc(O[C@@H]2O[C@H](C...           0   \n",
       "18045  COc1cccc(C(=O)c2sc(Nc3ccc(N4CCN(C(C)C)CC4)cc3)...           1   \n",
       "18046  CN1CCN(c2ccc(Nc3nc(N)c(C(=O)c4ccc5c(c4)OCCO5)s...           1   \n",
       "18047                                  CN(C)C(=N)NC(=N)N           0   \n",
       "18048                  O=C(CCc1ccc(O)cc1)c1c(O)cc(O)cc1O           0   \n",
       "\n",
       "       CHEMBL4026  CHEMBL209  CHEMBL203  CHEMBL2842  CHEMBL614725  \n",
       "0               0          0          0           0             1  \n",
       "1               0          0          0           0             1  \n",
       "2               0          0          1           0             0  \n",
       "3               0          0          1           0             0  \n",
       "4               0          0          1           0             0  \n",
       "...           ...        ...        ...         ...           ...  \n",
       "18044           0          0          1           0             0  \n",
       "18045           0          0          0           0             0  \n",
       "18046           0          0          0           0             0  \n",
       "18047           0          0          0           0             1  \n",
       "18048           0          0          1           0             0  \n",
       "\n",
       "[17230 rows x 7 columns]"
      ]
     },
     "execution_count": 28,
     "metadata": {},
     "output_type": "execute_result"
    }
   ],
   "source": [
    "transformed_data = transformed_data.drop(columns = [\"Molecule ChEMBL ID\"], axis = 1)\n",
    "transformed_data"
   ]
  },
  {
   "cell_type": "code",
   "execution_count": 29,
   "metadata": {},
   "outputs": [],
   "source": [
    "transformed_data.to_csv(\"Training-Data.csv\")"
   ]
  },
  {
   "cell_type": "code",
   "execution_count": null,
   "metadata": {},
   "outputs": [],
   "source": []
  }
 ],
 "metadata": {
  "kernelspec": {
   "display_name": "Python 3",
   "language": "python",
   "name": "python3"
  },
  "language_info": {
   "codemirror_mode": {
    "name": "ipython",
    "version": 3
   },
   "file_extension": ".py",
   "mimetype": "text/x-python",
   "name": "python",
   "nbconvert_exporter": "python",
   "pygments_lexer": "ipython3",
   "version": "3.7.6"
  }
 },
 "nbformat": 4,
 "nbformat_minor": 4
}
