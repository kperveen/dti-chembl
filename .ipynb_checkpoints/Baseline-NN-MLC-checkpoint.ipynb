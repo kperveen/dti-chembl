{
 "cells": [
  {
   "cell_type": "code",
   "execution_count": 1,
   "metadata": {},
   "outputs": [],
   "source": [
    "import pandas as pd\n",
    "import matplotlib.pyplot as plt\n",
    "import seaborn as sns\n",
    "from pandas.plotting import table\n",
    "from collections import Counter\n",
    "import numpy as np\n",
    "import scipy as sp\n",
    "from numpy import mean\n",
    "from numpy import std\n",
    "from sklearn.datasets import make_multilabel_classification\n",
    "from sklearn.model_selection import RepeatedKFold\n",
    "from keras.models import Sequential\n",
    "from keras.layers import Dense, Conv2D\n",
    "from sklearn.metrics import accuracy_score, confusion_matrix, recall_score, precision_score, multilabel_confusion_matrix, plot_confusion_matrix\n",
    "from sklearn.model_selection import train_test_split\n",
    "import tensorflow as tf \n",
    "from utilities import Util\n",
    "from sklearn.decomposition import TruncatedSVD\n",
    "from scipy.sparse import random as sparse_random"
   ]
  },
  {
   "cell_type": "code",
   "execution_count": 2,
   "metadata": {},
   "outputs": [],
   "source": [
    "df = pd.read_csv('smiles_converted.csv')\n",
    "df = df.rename(columns={'Name':'Molecule ChEMBL ID'})"
   ]
  },
  {
   "cell_type": "code",
   "execution_count": 3,
   "metadata": {},
   "outputs": [],
   "source": [
    "df2 = pd.read_csv('Training-Data.csv')"
   ]
  },
  {
   "cell_type": "code",
   "execution_count": 4,
   "metadata": {},
   "outputs": [
    {
     "data": {
      "text/html": [
       "<div>\n",
       "<style scoped>\n",
       "    .dataframe tbody tr th:only-of-type {\n",
       "        vertical-align: middle;\n",
       "    }\n",
       "\n",
       "    .dataframe tbody tr th {\n",
       "        vertical-align: top;\n",
       "    }\n",
       "\n",
       "    .dataframe thead th {\n",
       "        text-align: right;\n",
       "    }\n",
       "</style>\n",
       "<table border=\"1\" class=\"dataframe\">\n",
       "  <thead>\n",
       "    <tr style=\"text-align: right;\">\n",
       "      <th></th>\n",
       "      <th>Molecule ChEMBL ID</th>\n",
       "      <th>PubchemFP0</th>\n",
       "      <th>PubchemFP1</th>\n",
       "      <th>PubchemFP2</th>\n",
       "      <th>PubchemFP3</th>\n",
       "      <th>PubchemFP4</th>\n",
       "      <th>PubchemFP5</th>\n",
       "      <th>PubchemFP6</th>\n",
       "      <th>PubchemFP7</th>\n",
       "      <th>PubchemFP8</th>\n",
       "      <th>...</th>\n",
       "      <th>PubchemFP871</th>\n",
       "      <th>PubchemFP872</th>\n",
       "      <th>PubchemFP873</th>\n",
       "      <th>PubchemFP874</th>\n",
       "      <th>PubchemFP875</th>\n",
       "      <th>PubchemFP876</th>\n",
       "      <th>PubchemFP877</th>\n",
       "      <th>PubchemFP878</th>\n",
       "      <th>PubchemFP879</th>\n",
       "      <th>PubchemFP880</th>\n",
       "    </tr>\n",
       "  </thead>\n",
       "  <tbody>\n",
       "    <tr>\n",
       "      <th>0</th>\n",
       "      <td>CHEMBL63786</td>\n",
       "      <td>1</td>\n",
       "      <td>1</td>\n",
       "      <td>0</td>\n",
       "      <td>0</td>\n",
       "      <td>0</td>\n",
       "      <td>0</td>\n",
       "      <td>0</td>\n",
       "      <td>0</td>\n",
       "      <td>0</td>\n",
       "      <td>...</td>\n",
       "      <td>0</td>\n",
       "      <td>0</td>\n",
       "      <td>0</td>\n",
       "      <td>0</td>\n",
       "      <td>0</td>\n",
       "      <td>0</td>\n",
       "      <td>0</td>\n",
       "      <td>0</td>\n",
       "      <td>0</td>\n",
       "      <td>0</td>\n",
       "    </tr>\n",
       "    <tr>\n",
       "      <th>1</th>\n",
       "      <td>CHEMBL35820</td>\n",
       "      <td>1</td>\n",
       "      <td>1</td>\n",
       "      <td>1</td>\n",
       "      <td>0</td>\n",
       "      <td>0</td>\n",
       "      <td>0</td>\n",
       "      <td>0</td>\n",
       "      <td>0</td>\n",
       "      <td>0</td>\n",
       "      <td>...</td>\n",
       "      <td>0</td>\n",
       "      <td>0</td>\n",
       "      <td>0</td>\n",
       "      <td>0</td>\n",
       "      <td>0</td>\n",
       "      <td>0</td>\n",
       "      <td>0</td>\n",
       "      <td>0</td>\n",
       "      <td>0</td>\n",
       "      <td>0</td>\n",
       "    </tr>\n",
       "    <tr>\n",
       "      <th>2</th>\n",
       "      <td>CHEMBL53711</td>\n",
       "      <td>1</td>\n",
       "      <td>1</td>\n",
       "      <td>0</td>\n",
       "      <td>0</td>\n",
       "      <td>0</td>\n",
       "      <td>0</td>\n",
       "      <td>0</td>\n",
       "      <td>0</td>\n",
       "      <td>0</td>\n",
       "      <td>...</td>\n",
       "      <td>0</td>\n",
       "      <td>0</td>\n",
       "      <td>0</td>\n",
       "      <td>0</td>\n",
       "      <td>0</td>\n",
       "      <td>0</td>\n",
       "      <td>0</td>\n",
       "      <td>0</td>\n",
       "      <td>0</td>\n",
       "      <td>0</td>\n",
       "    </tr>\n",
       "    <tr>\n",
       "      <th>3</th>\n",
       "      <td>CHEMBL53753</td>\n",
       "      <td>1</td>\n",
       "      <td>1</td>\n",
       "      <td>0</td>\n",
       "      <td>0</td>\n",
       "      <td>0</td>\n",
       "      <td>0</td>\n",
       "      <td>0</td>\n",
       "      <td>0</td>\n",
       "      <td>0</td>\n",
       "      <td>...</td>\n",
       "      <td>0</td>\n",
       "      <td>0</td>\n",
       "      <td>0</td>\n",
       "      <td>0</td>\n",
       "      <td>0</td>\n",
       "      <td>0</td>\n",
       "      <td>0</td>\n",
       "      <td>0</td>\n",
       "      <td>0</td>\n",
       "      <td>0</td>\n",
       "    </tr>\n",
       "    <tr>\n",
       "      <th>4</th>\n",
       "      <td>CHEMBL66031</td>\n",
       "      <td>1</td>\n",
       "      <td>1</td>\n",
       "      <td>0</td>\n",
       "      <td>0</td>\n",
       "      <td>0</td>\n",
       "      <td>0</td>\n",
       "      <td>0</td>\n",
       "      <td>0</td>\n",
       "      <td>0</td>\n",
       "      <td>...</td>\n",
       "      <td>0</td>\n",
       "      <td>0</td>\n",
       "      <td>0</td>\n",
       "      <td>0</td>\n",
       "      <td>0</td>\n",
       "      <td>0</td>\n",
       "      <td>0</td>\n",
       "      <td>0</td>\n",
       "      <td>0</td>\n",
       "      <td>0</td>\n",
       "    </tr>\n",
       "  </tbody>\n",
       "</table>\n",
       "<p>5 rows × 882 columns</p>\n",
       "</div>"
      ],
      "text/plain": [
       "  Molecule ChEMBL ID  PubchemFP0  PubchemFP1  PubchemFP2  PubchemFP3  \\\n",
       "0        CHEMBL63786           1           1           0           0   \n",
       "1        CHEMBL35820           1           1           1           0   \n",
       "2        CHEMBL53711           1           1           0           0   \n",
       "3        CHEMBL53753           1           1           0           0   \n",
       "4        CHEMBL66031           1           1           0           0   \n",
       "\n",
       "   PubchemFP4  PubchemFP5  PubchemFP6  PubchemFP7  PubchemFP8  ...  \\\n",
       "0           0           0           0           0           0  ...   \n",
       "1           0           0           0           0           0  ...   \n",
       "2           0           0           0           0           0  ...   \n",
       "3           0           0           0           0           0  ...   \n",
       "4           0           0           0           0           0  ...   \n",
       "\n",
       "   PubchemFP871  PubchemFP872  PubchemFP873  PubchemFP874  PubchemFP875  \\\n",
       "0             0             0             0             0             0   \n",
       "1             0             0             0             0             0   \n",
       "2             0             0             0             0             0   \n",
       "3             0             0             0             0             0   \n",
       "4             0             0             0             0             0   \n",
       "\n",
       "   PubchemFP876  PubchemFP877  PubchemFP878  PubchemFP879  PubchemFP880  \n",
       "0             0             0             0             0             0  \n",
       "1             0             0             0             0             0  \n",
       "2             0             0             0             0             0  \n",
       "3             0             0             0             0             0  \n",
       "4             0             0             0             0             0  \n",
       "\n",
       "[5 rows x 882 columns]"
      ]
     },
     "execution_count": 4,
     "metadata": {},
     "output_type": "execute_result"
    }
   ],
   "source": [
    "df.head()"
   ]
  },
  {
   "cell_type": "markdown",
   "metadata": {},
   "source": [
    "#### Check  Sparsity"
   ]
  },
  {
   "cell_type": "code",
   "execution_count": 5,
   "metadata": {},
   "outputs": [
    {
     "name": "stdout",
     "output_type": "stream",
     "text": [
      "Sparsity of fingerprints data is 0.7878854537511794\n"
     ]
    }
   ],
   "source": [
    "a = (df.to_numpy() == 0).mean()\n",
    "print(\"Sparsity of fingerprints data is {}\".format(a))"
   ]
  },
  {
   "cell_type": "code",
   "execution_count": 6,
   "metadata": {},
   "outputs": [
    {
     "data": {
      "text/plain": [
       "(5435, 6)"
      ]
     },
     "execution_count": 6,
     "metadata": {},
     "output_type": "execute_result"
    }
   ],
   "source": [
    "df2.shape"
   ]
  },
  {
   "cell_type": "code",
   "execution_count": 18,
   "metadata": {},
   "outputs": [],
   "source": [
    "new = pd.merge(df2, df, on='Molecule ChEMBL ID')"
   ]
  },
  {
   "cell_type": "code",
   "execution_count": 19,
   "metadata": {},
   "outputs": [],
   "source": [
    "new = new.drop(columns=['Smiles', \"Molecule ChEMBL ID\"])"
   ]
  },
  {
   "cell_type": "code",
   "execution_count": 20,
   "metadata": {},
   "outputs": [
    {
     "data": {
      "text/html": [
       "<div>\n",
       "<style scoped>\n",
       "    .dataframe tbody tr th:only-of-type {\n",
       "        vertical-align: middle;\n",
       "    }\n",
       "\n",
       "    .dataframe tbody tr th {\n",
       "        vertical-align: top;\n",
       "    }\n",
       "\n",
       "    .dataframe thead th {\n",
       "        text-align: right;\n",
       "    }\n",
       "</style>\n",
       "<table border=\"1\" class=\"dataframe\">\n",
       "  <thead>\n",
       "    <tr style=\"text-align: right;\">\n",
       "      <th></th>\n",
       "      <th>CHEMBL614725</th>\n",
       "      <th>CHEMBL1957</th>\n",
       "      <th>CHEMBL2842</th>\n",
       "      <th>CHEMBL203</th>\n",
       "      <th>PubchemFP0</th>\n",
       "      <th>PubchemFP1</th>\n",
       "      <th>PubchemFP2</th>\n",
       "      <th>PubchemFP3</th>\n",
       "      <th>PubchemFP4</th>\n",
       "      <th>PubchemFP5</th>\n",
       "      <th>...</th>\n",
       "      <th>PubchemFP871</th>\n",
       "      <th>PubchemFP872</th>\n",
       "      <th>PubchemFP873</th>\n",
       "      <th>PubchemFP874</th>\n",
       "      <th>PubchemFP875</th>\n",
       "      <th>PubchemFP876</th>\n",
       "      <th>PubchemFP877</th>\n",
       "      <th>PubchemFP878</th>\n",
       "      <th>PubchemFP879</th>\n",
       "      <th>PubchemFP880</th>\n",
       "    </tr>\n",
       "  </thead>\n",
       "  <tbody>\n",
       "    <tr>\n",
       "      <th>0</th>\n",
       "      <td>0</td>\n",
       "      <td>1</td>\n",
       "      <td>0</td>\n",
       "      <td>0</td>\n",
       "      <td>1</td>\n",
       "      <td>1</td>\n",
       "      <td>1</td>\n",
       "      <td>0</td>\n",
       "      <td>0</td>\n",
       "      <td>0</td>\n",
       "      <td>...</td>\n",
       "      <td>0</td>\n",
       "      <td>0</td>\n",
       "      <td>0</td>\n",
       "      <td>0</td>\n",
       "      <td>0</td>\n",
       "      <td>0</td>\n",
       "      <td>0</td>\n",
       "      <td>0</td>\n",
       "      <td>0</td>\n",
       "      <td>0</td>\n",
       "    </tr>\n",
       "    <tr>\n",
       "      <th>1</th>\n",
       "      <td>0</td>\n",
       "      <td>1</td>\n",
       "      <td>0</td>\n",
       "      <td>0</td>\n",
       "      <td>1</td>\n",
       "      <td>1</td>\n",
       "      <td>1</td>\n",
       "      <td>1</td>\n",
       "      <td>0</td>\n",
       "      <td>0</td>\n",
       "      <td>...</td>\n",
       "      <td>0</td>\n",
       "      <td>0</td>\n",
       "      <td>0</td>\n",
       "      <td>0</td>\n",
       "      <td>0</td>\n",
       "      <td>0</td>\n",
       "      <td>0</td>\n",
       "      <td>0</td>\n",
       "      <td>0</td>\n",
       "      <td>0</td>\n",
       "    </tr>\n",
       "    <tr>\n",
       "      <th>2</th>\n",
       "      <td>0</td>\n",
       "      <td>1</td>\n",
       "      <td>0</td>\n",
       "      <td>0</td>\n",
       "      <td>1</td>\n",
       "      <td>1</td>\n",
       "      <td>1</td>\n",
       "      <td>0</td>\n",
       "      <td>0</td>\n",
       "      <td>0</td>\n",
       "      <td>...</td>\n",
       "      <td>0</td>\n",
       "      <td>0</td>\n",
       "      <td>0</td>\n",
       "      <td>0</td>\n",
       "      <td>0</td>\n",
       "      <td>0</td>\n",
       "      <td>0</td>\n",
       "      <td>0</td>\n",
       "      <td>0</td>\n",
       "      <td>0</td>\n",
       "    </tr>\n",
       "    <tr>\n",
       "      <th>3</th>\n",
       "      <td>0</td>\n",
       "      <td>1</td>\n",
       "      <td>0</td>\n",
       "      <td>0</td>\n",
       "      <td>1</td>\n",
       "      <td>1</td>\n",
       "      <td>1</td>\n",
       "      <td>1</td>\n",
       "      <td>0</td>\n",
       "      <td>0</td>\n",
       "      <td>...</td>\n",
       "      <td>0</td>\n",
       "      <td>0</td>\n",
       "      <td>0</td>\n",
       "      <td>0</td>\n",
       "      <td>0</td>\n",
       "      <td>0</td>\n",
       "      <td>0</td>\n",
       "      <td>0</td>\n",
       "      <td>0</td>\n",
       "      <td>0</td>\n",
       "    </tr>\n",
       "    <tr>\n",
       "      <th>4</th>\n",
       "      <td>0</td>\n",
       "      <td>1</td>\n",
       "      <td>0</td>\n",
       "      <td>0</td>\n",
       "      <td>1</td>\n",
       "      <td>1</td>\n",
       "      <td>1</td>\n",
       "      <td>0</td>\n",
       "      <td>0</td>\n",
       "      <td>0</td>\n",
       "      <td>...</td>\n",
       "      <td>0</td>\n",
       "      <td>0</td>\n",
       "      <td>0</td>\n",
       "      <td>0</td>\n",
       "      <td>0</td>\n",
       "      <td>0</td>\n",
       "      <td>0</td>\n",
       "      <td>0</td>\n",
       "      <td>0</td>\n",
       "      <td>0</td>\n",
       "    </tr>\n",
       "  </tbody>\n",
       "</table>\n",
       "<p>5 rows × 885 columns</p>\n",
       "</div>"
      ],
      "text/plain": [
       "   CHEMBL614725  CHEMBL1957  CHEMBL2842  CHEMBL203  PubchemFP0  PubchemFP1  \\\n",
       "0             0           1           0          0           1           1   \n",
       "1             0           1           0          0           1           1   \n",
       "2             0           1           0          0           1           1   \n",
       "3             0           1           0          0           1           1   \n",
       "4             0           1           0          0           1           1   \n",
       "\n",
       "   PubchemFP2  PubchemFP3  PubchemFP4  PubchemFP5  ...  PubchemFP871  \\\n",
       "0           1           0           0           0  ...             0   \n",
       "1           1           1           0           0  ...             0   \n",
       "2           1           0           0           0  ...             0   \n",
       "3           1           1           0           0  ...             0   \n",
       "4           1           0           0           0  ...             0   \n",
       "\n",
       "   PubchemFP872  PubchemFP873  PubchemFP874  PubchemFP875  PubchemFP876  \\\n",
       "0             0             0             0             0             0   \n",
       "1             0             0             0             0             0   \n",
       "2             0             0             0             0             0   \n",
       "3             0             0             0             0             0   \n",
       "4             0             0             0             0             0   \n",
       "\n",
       "   PubchemFP877  PubchemFP878  PubchemFP879  PubchemFP880  \n",
       "0             0             0             0             0  \n",
       "1             0             0             0             0  \n",
       "2             0             0             0             0  \n",
       "3             0             0             0             0  \n",
       "4             0             0             0             0  \n",
       "\n",
       "[5 rows x 885 columns]"
      ]
     },
     "execution_count": 20,
     "metadata": {},
     "output_type": "execute_result"
    }
   ],
   "source": [
    "new.head()"
   ]
  },
  {
   "cell_type": "markdown",
   "metadata": {},
   "source": [
    "## Prepare the dataset"
   ]
  },
  {
   "cell_type": "code",
   "execution_count": 21,
   "metadata": {},
   "outputs": [],
   "source": [
    "util_fn = Util(new, {'CHEMBL614725', 'CHEMBL1957', 'CHEMBL2842', 'CHEMBL203'})"
   ]
  },
  {
   "cell_type": "code",
   "execution_count": 22,
   "metadata": {},
   "outputs": [
    {
     "name": "stdout",
     "output_type": "stream",
     "text": [
      "{'MIA PaCa-2': 670, 'IGF-1': 812, 'mTOR': 1109, 'EGFR-erbB1': 2671}\n"
     ]
    }
   ],
   "source": [
    "target_ids = ['CHEMBL614725', 'CHEMBL1957', 'CHEMBL2842', 'CHEMBL203']\n",
    "counts = {}\n",
    "\n",
    "for t in target_ids:\n",
    "    counts[util_fn.target_abbr_from_id(t)] = new[new[str(t)] == 1].shape[0]\n",
    "\n",
    "print(counts)"
   ]
  },
  {
   "cell_type": "code",
   "execution_count": 23,
   "metadata": {},
   "outputs": [
    {
     "data": {
      "image/png": "[encoded data removed]",
      "text/plain": [
       "<Figure size 432x288 with 1 Axes>"
      ]
     },
     "metadata": {
      "needs_background": "light"
     },
     "output_type": "display_data"
    }
   ],
   "source": [
    "fig = plt.figure(figsize=(6, 4))\n",
    "ax = fig.add_axes([0,0,1,1])\n",
    "x_axis = list(counts.keys())\n",
    "y_axis = list(counts.values())\n",
    "ax.bar(x_axis,y_axis, color='purple')\n",
    "for i in range(len(y_axis)):\n",
    "    plt.annotate(str(y_axis[i]), xy=(x_axis[i],y_axis[i]), ha='center', va='bottom')\n",
    "    plt.title(\"Active compounds against each target\")\n",
    "    plt.xlabel(\"Targets\")\n",
    "    plt.ylabel(\"values\")"
   ]
  },
  {
   "cell_type": "code",
   "execution_count": 24,
   "metadata": {},
   "outputs": [],
   "source": [
    "def get_dataset():\n",
    "    y = new[target_ids]\n",
    "    X = new.drop(columns=target_ids)\n",
    "    return X, y"
   ]
  },
  {
   "cell_type": "code",
   "execution_count": 25,
   "metadata": {},
   "outputs": [
    {
     "data": {
      "text/plain": [
       "881"
      ]
     },
     "execution_count": 25,
     "metadata": {},
     "output_type": "execute_result"
    }
   ],
   "source": [
    "# load dataset\n",
    "X, y = get_dataset()\n",
    "n_inputs, n_outputs = X.shape[1], y.shape[1]\n",
    "n_inputs"
   ]
  },
  {
   "cell_type": "markdown",
   "metadata": {},
   "source": [
    "## PCA "
   ]
  },
  {
   "cell_type": "code",
   "execution_count": 26,
   "metadata": {},
   "outputs": [],
   "source": [
    "def transform_data(X_arg, n):\n",
    "    print(\"transform_data is called\", n)\n",
    "    svd = TruncatedSVD(n_components=int(n - 1), n_iter=7, random_state=42)\n",
    "    tr_X = svd.fit(X_arg)\n",
    "    X_vals = tr_X.transform(X_arg)\n",
    "    \n",
    "    X_vals = pd.DataFrame(X_vals)\n",
    "    print(X_vals.shape)\n",
    "    return X_vals, n - 1"
   ]
  },
  {
   "cell_type": "code",
   "execution_count": 27,
   "metadata": {},
   "outputs": [
    {
     "name": "stdout",
     "output_type": "stream",
     "text": [
      "transform_data is called 881\n",
      "(5043, 880)\n"
     ]
    },
    {
     "data": {
      "text/plain": [
       "880"
      ]
     },
     "execution_count": 27,
     "metadata": {},
     "output_type": "execute_result"
    }
   ],
   "source": [
    "X_features, n_inputs_pca = transform_data(X, X.shape[1])\n",
    "n_inputs_pca"
   ]
  },
  {
   "cell_type": "code",
   "execution_count": 28,
   "metadata": {},
   "outputs": [
    {
     "name": "stdout",
     "output_type": "stream",
     "text": [
      "Sparsity of fingerprints data is 0.022319416653146577\n"
     ]
    }
   ],
   "source": [
    "# Sparsity after transformation\n",
    "\n",
    "a = (X_features.to_numpy() == 0).mean()\n",
    "print(\"Sparsity of fingerprints data is {}\".format(a))"
   ]
  },
  {
   "cell_type": "markdown",
   "metadata": {},
   "source": [
    "### Since after testing the results indicated no significant improvement by PCA, we will use the original dataset"
   ]
  },
  {
   "cell_type": "code",
   "execution_count": 29,
   "metadata": {},
   "outputs": [],
   "source": [
    "X_train, X_test, y_train, y_test = train_test_split(X, y, test_size=0.2)"
   ]
  },
  {
   "cell_type": "markdown",
   "metadata": {},
   "source": [
    "## Model"
   ]
  },
  {
   "cell_type": "code",
   "execution_count": 30,
   "metadata": {},
   "outputs": [],
   "source": [
    "def get_model_baseline(n_inputs, n_outputs ):\n",
    "    model = tf.keras.Sequential()\n",
    "    model.add(tf.keras.layers.Dense(20, input_dim=n_inputs,  kernel_initializer='he_uniform', activation='relu'))\n",
    "    model.add(tf.keras.layers.Dense(300, activation='relu'))\n",
    "    #model.add(tf.keras.layers.LSTM(300, activation='relu'))\n",
    "    model.add(tf.keras.layers.Dense(300, activation='relu'))\n",
    "    model.add(tf.keras.layers.Dense(n_outputs, activation='sigmoid'))\n",
    "    model.compile( loss='BinaryCrossentropy', optimizer='adam', metrics=['accuracy', 'AUC'])\n",
    "    return model"
   ]
  },
  {
   "cell_type": "code",
   "execution_count": 31,
   "metadata": {},
   "outputs": [
    {
     "data": {
      "text/plain": [
       "(4034, 881, 1)"
      ]
     },
     "execution_count": 31,
     "metadata": {},
     "output_type": "execute_result"
    }
   ],
   "source": [
    "from keras.layers import Dropout\n",
    "\n",
    "x_train, Y_train = np.array(X_train), np.array(y_train)\n",
    "\n",
    "#Reshape the data into 3-D array\n",
    "x_train = np.reshape(x_train, (x_train.shape[0],x_train.shape[1], 1))\n",
    "x_train.shape\n",
    "    "
   ]
  },
  {
   "cell_type": "code",
   "execution_count": 32,
   "metadata": {},
   "outputs": [],
   "source": [
    "#model = get_model_lstm()\n",
    "model = get_model_baseline(n_inputs, n_outputs )"
   ]
  },
  {
   "cell_type": "code",
   "execution_count": 33,
   "metadata": {},
   "outputs": [
    {
     "name": "stdout",
     "output_type": "stream",
     "text": [
      "Epoch 1/200\n",
      "127/127 [==============================] - 1s 2ms/step - loss: 0.4710 - accuracy: 0.5371 - auc: 0.7745\n",
      "Epoch 2/200\n",
      "127/127 [==============================] - 0s 2ms/step - loss: 0.2868 - accuracy: 0.7557 - auc: 0.9277\n",
      "Epoch 3/200\n",
      "127/127 [==============================] - 0s 2ms/step - loss: 0.2167 - accuracy: 0.8190 - auc: 0.9601\n",
      "Epoch 4/200\n",
      "127/127 [==============================] - 0s 2ms/step - loss: 0.2033 - accuracy: 0.8331 - auc: 0.9641\n",
      "Epoch 5/200\n",
      "127/127 [==============================] - 0s 2ms/step - loss: 0.1908 - accuracy: 0.8438 - auc: 0.9689\n",
      "Epoch 6/200\n",
      "127/127 [==============================] - 0s 2ms/step - loss: 0.1809 - accuracy: 0.8502 - auc: 0.9731\n",
      "Epoch 7/200\n",
      "127/127 [==============================] - 0s 3ms/step - loss: 0.1426 - accuracy: 0.8824 - auc: 0.9825\n",
      "Epoch 8/200\n",
      "127/127 [==============================] - 0s 2ms/step - loss: 0.1222 - accuracy: 0.9087 - auc: 0.9868\n",
      "Epoch 9/200\n",
      "127/127 [==============================] - 0s 2ms/step - loss: 0.1234 - accuracy: 0.8961 - auc: 0.9870\n",
      "Epoch 10/200\n",
      "127/127 [==============================] - 0s 2ms/step - loss: 0.1076 - accuracy: 0.9034 - auc: 0.9902\n",
      "Epoch 11/200\n",
      "127/127 [==============================] - 0s 3ms/step - loss: 0.1147 - accuracy: 0.9061 - auc: 0.9880\n",
      "Epoch 12/200\n",
      "127/127 [==============================] - 0s 3ms/step - loss: 0.0966 - accuracy: 0.9171 - auc: 0.9924\n",
      "Epoch 13/200\n",
      "127/127 [==============================] - 0s 2ms/step - loss: 0.0911 - accuracy: 0.9243 - auc: 0.9928\n",
      "Epoch 14/200\n",
      "127/127 [==============================] - 0s 3ms/step - loss: 0.0851 - accuracy: 0.9203 - auc: 0.9935\n",
      "Epoch 15/200\n",
      "127/127 [==============================] - 0s 3ms/step - loss: 0.1078 - accuracy: 0.9165 - auc: 0.9898\n",
      "Epoch 16/200\n",
      "127/127 [==============================] - 0s 3ms/step - loss: 0.0806 - accuracy: 0.9269 - auc: 0.9941\n",
      "Epoch 17/200\n",
      "127/127 [==============================] - 0s 3ms/step - loss: 0.0659 - accuracy: 0.9376 - auc: 0.9963\n",
      "Epoch 18/200\n",
      "127/127 [==============================] - 0s 3ms/step - loss: 0.0556 - accuracy: 0.9436 - auc: 0.9971\n",
      "Epoch 19/200\n",
      "127/127 [==============================] - 0s 2ms/step - loss: 0.0574 - accuracy: 0.9440 - auc: 0.9966\n",
      "Epoch 20/200\n",
      "127/127 [==============================] - 0s 3ms/step - loss: 0.0563 - accuracy: 0.9390 - auc: 0.9970\n",
      "Epoch 21/200\n",
      "127/127 [==============================] - 0s 3ms/step - loss: 0.0602 - accuracy: 0.9437 - auc: 0.9966\n",
      "Epoch 22/200\n",
      "127/127 [==============================] - 0s 3ms/step - loss: 0.0517 - accuracy: 0.9502 - auc: 0.9976\n",
      "Epoch 23/200\n",
      "127/127 [==============================] - 0s 3ms/step - loss: 0.0668 - accuracy: 0.9346 - auc: 0.9962\n",
      "Epoch 24/200\n",
      "127/127 [==============================] - 0s 3ms/step - loss: 0.0518 - accuracy: 0.9548 - auc: 0.9977\n",
      "Epoch 25/200\n",
      "127/127 [==============================] - 0s 3ms/step - loss: 0.0568 - accuracy: 0.9478 - auc: 0.9969\n",
      "Epoch 26/200\n",
      "127/127 [==============================] - 0s 3ms/step - loss: 0.0409 - accuracy: 0.9538 - auc: 0.9985\n",
      "Epoch 27/200\n",
      "127/127 [==============================] - 0s 3ms/step - loss: 0.0485 - accuracy: 0.9523 - auc: 0.9976\n",
      "Epoch 28/200\n",
      "127/127 [==============================] - 0s 4ms/step - loss: 0.0345 - accuracy: 0.9619 - auc: 0.9987\n",
      "Epoch 29/200\n",
      "127/127 [==============================] - 0s 3ms/step - loss: 0.0337 - accuracy: 0.9593 - auc: 0.9988\n",
      "Epoch 30/200\n",
      "127/127 [==============================] - 0s 3ms/step - loss: 0.0380 - accuracy: 0.9613 - auc: 0.9987\n",
      "Epoch 31/200\n",
      "127/127 [==============================] - 0s 3ms/step - loss: 0.0361 - accuracy: 0.9656 - auc: 0.9984\n",
      "Epoch 32/200\n",
      "127/127 [==============================] - 0s 3ms/step - loss: 0.0357 - accuracy: 0.9587 - auc: 0.9987\n",
      "Epoch 33/200\n",
      "127/127 [==============================] - 0s 3ms/step - loss: 0.0811 - accuracy: 0.9299 - auc: 0.9941\n",
      "Epoch 34/200\n",
      "127/127 [==============================] - 0s 3ms/step - loss: 0.0313 - accuracy: 0.9591 - auc: 0.9991\n",
      "Epoch 35/200\n",
      "127/127 [==============================] - 0s 3ms/step - loss: 0.0330 - accuracy: 0.9616 - auc: 0.9991\n",
      "Epoch 36/200\n",
      "127/127 [==============================] - 0s 3ms/step - loss: 0.0501 - accuracy: 0.9508 - auc: 0.9975\n",
      "Epoch 37/200\n",
      "127/127 [==============================] - 0s 3ms/step - loss: 0.0272 - accuracy: 0.9643 - auc: 0.9992\n",
      "Epoch 38/200\n",
      "127/127 [==============================] - 0s 3ms/step - loss: 0.0439 - accuracy: 0.9546 - auc: 0.9975\n",
      "Epoch 39/200\n",
      "127/127 [==============================] - 0s 3ms/step - loss: 0.0519 - accuracy: 0.9461 - auc: 0.9976\n",
      "Epoch 40/200\n",
      "127/127 [==============================] - 0s 3ms/step - loss: 0.0227 - accuracy: 0.9704 - auc: 0.9996\n",
      "Epoch 41/200\n",
      "127/127 [==============================] - 0s 3ms/step - loss: 0.0323 - accuracy: 0.9615 - auc: 0.9988\n",
      "Epoch 42/200\n",
      "127/127 [==============================] - 0s 2ms/step - loss: 0.0207 - accuracy: 0.9735 - auc: 0.9996\n",
      "Epoch 43/200\n",
      "127/127 [==============================] - 0s 3ms/step - loss: 0.0406 - accuracy: 0.9568 - auc: 0.9978\n",
      "Epoch 44/200\n",
      "127/127 [==============================] - 0s 2ms/step - loss: 0.0232 - accuracy: 0.9673 - auc: 0.9992\n",
      "Epoch 45/200\n",
      "127/127 [==============================] - 0s 3ms/step - loss: 0.0178 - accuracy: 0.9702 - auc: 0.9998\n",
      "Epoch 46/200\n",
      "127/127 [==============================] - 0s 4ms/step - loss: 0.0178 - accuracy: 0.9718 - auc: 0.9998\n",
      "Epoch 47/200\n",
      "127/127 [==============================] - 1s 5ms/step - loss: 0.0136 - accuracy: 0.9743 - auc: 0.9998\n",
      "Epoch 48/200\n",
      "127/127 [==============================] - 0s 3ms/step - loss: 0.0200 - accuracy: 0.9714 - auc: 0.9996\n",
      "Epoch 49/200\n",
      "127/127 [==============================] - 0s 3ms/step - loss: 0.0443 - accuracy: 0.9615 - auc: 0.9961\n",
      "Epoch 50/200\n",
      "127/127 [==============================] - 0s 3ms/step - loss: 0.0209 - accuracy: 0.9722 - auc: 0.9996\n",
      "Epoch 51/200\n",
      "127/127 [==============================] - 0s 4ms/step - loss: 0.0144 - accuracy: 0.9731 - auc: 0.9998\n",
      "Epoch 52/200\n",
      "127/127 [==============================] - 0s 3ms/step - loss: 0.0172 - accuracy: 0.9712 - auc: 0.9996\n",
      "Epoch 53/200\n",
      "127/127 [==============================] - 0s 2ms/step - loss: 0.0987 - accuracy: 0.9277 - auc: 0.9909\n",
      "Epoch 54/200\n",
      "127/127 [==============================] - 0s 2ms/step - loss: 0.0275 - accuracy: 0.9683 - auc: 0.9993\n",
      "Epoch 55/200\n",
      "127/127 [==============================] - 0s 2ms/step - loss: 0.0202 - accuracy: 0.9720 - auc: 0.9996\n",
      "Epoch 56/200\n",
      "127/127 [==============================] - 0s 4ms/step - loss: 0.0143 - accuracy: 0.9718 - auc: 0.9999\n",
      "Epoch 57/200\n",
      "127/127 [==============================] - 0s 2ms/step - loss: 0.0097 - accuracy: 0.9758 - auc: 0.9999\n",
      "Epoch 58/200\n",
      "127/127 [==============================] - 0s 3ms/step - loss: 0.0156 - accuracy: 0.9748 - auc: 0.9996\n",
      "Epoch 59/200\n",
      "127/127 [==============================] - 0s 3ms/step - loss: 0.0124 - accuracy: 0.9747 - auc: 0.9999\n",
      "Epoch 60/200\n",
      "127/127 [==============================] - 0s 2ms/step - loss: 0.0101 - accuracy: 0.9786 - auc: 0.9999\n",
      "Epoch 61/200\n",
      "127/127 [==============================] - 0s 4ms/step - loss: 0.0424 - accuracy: 0.9598 - auc: 0.9979\n",
      "Epoch 62/200\n",
      "127/127 [==============================] - 0s 2ms/step - loss: 0.0320 - accuracy: 0.9624 - auc: 0.9988\n",
      "Epoch 63/200\n",
      "127/127 [==============================] - 0s 3ms/step - loss: 0.0200 - accuracy: 0.9703 - auc: 0.9995\n",
      "Epoch 64/200\n",
      "127/127 [==============================] - 0s 2ms/step - loss: 0.0168 - accuracy: 0.9710 - auc: 0.9997\n",
      "Epoch 65/200\n",
      "127/127 [==============================] - 0s 2ms/step - loss: 0.0251 - accuracy: 0.9665 - auc: 0.9990\n",
      "Epoch 66/200\n",
      "127/127 [==============================] - 0s 3ms/step - loss: 0.0147 - accuracy: 0.9702 - auc: 0.9998\n",
      "Epoch 67/200\n",
      "127/127 [==============================] - 0s 2ms/step - loss: 0.0154 - accuracy: 0.9721 - auc: 0.9993\n",
      "Epoch 68/200\n",
      "127/127 [==============================] - 0s 3ms/step - loss: 0.0085 - accuracy: 0.9745 - auc: 1.0000\n",
      "Epoch 69/200\n",
      "127/127 [==============================] - 0s 3ms/step - loss: 0.0106 - accuracy: 0.9730 - auc: 0.9999\n",
      "Epoch 70/200\n",
      "127/127 [==============================] - 0s 2ms/step - loss: 0.0112 - accuracy: 0.9724 - auc: 0.9996\n",
      "Epoch 71/200\n"
     ]
    },
    {
     "name": "stdout",
     "output_type": "stream",
     "text": [
      "127/127 [==============================] - 1s 5ms/step - loss: 0.0140 - accuracy: 0.9676 - auc: 0.9997\n",
      "Epoch 72/200\n",
      "127/127 [==============================] - 0s 4ms/step - loss: 0.0120 - accuracy: 0.9709 - auc: 0.9994\n",
      "Epoch 73/200\n",
      "127/127 [==============================] - 0s 3ms/step - loss: 0.0080 - accuracy: 0.9742 - auc: 0.9999\n",
      "Epoch 74/200\n",
      "127/127 [==============================] - 0s 2ms/step - loss: 0.0166 - accuracy: 0.9681 - auc: 0.9991\n",
      "Epoch 75/200\n",
      "127/127 [==============================] - 0s 3ms/step - loss: 0.0424 - accuracy: 0.9637 - auc: 0.9975\n",
      "Epoch 76/200\n",
      "127/127 [==============================] - 0s 3ms/step - loss: 0.0090 - accuracy: 0.9743 - auc: 1.0000\n",
      "Epoch 77/200\n",
      "127/127 [==============================] - 0s 3ms/step - loss: 0.0065 - accuracy: 0.9779 - auc: 1.0000\n",
      "Epoch 78/200\n",
      "127/127 [==============================] - 1s 4ms/step - loss: 0.0045 - accuracy: 0.9716 - auc: 1.0000\n",
      "Epoch 79/200\n",
      "127/127 [==============================] - 0s 3ms/step - loss: 0.0192 - accuracy: 0.9714 - auc: 0.9995\n",
      "Epoch 80/200\n",
      "127/127 [==============================] - 0s 2ms/step - loss: 0.0146 - accuracy: 0.9717 - auc: 0.9994\n",
      "Epoch 81/200\n",
      "127/127 [==============================] - 0s 3ms/step - loss: 0.0536 - accuracy: 0.9540 - auc: 0.9965\n",
      "Epoch 82/200\n",
      "127/127 [==============================] - 0s 4ms/step - loss: 0.0173 - accuracy: 0.9684 - auc: 0.9997\n",
      "Epoch 83/200\n",
      "127/127 [==============================] - 0s 2ms/step - loss: 0.0083 - accuracy: 0.9804 - auc: 1.0000\n",
      "Epoch 84/200\n",
      "127/127 [==============================] - 0s 3ms/step - loss: 0.0075 - accuracy: 0.9738 - auc: 0.9999\n",
      "Epoch 85/200\n",
      "127/127 [==============================] - 0s 3ms/step - loss: 0.0313 - accuracy: 0.9575 - auc: 0.9977\n",
      "Epoch 86/200\n",
      "127/127 [==============================] - 0s 4ms/step - loss: 0.0085 - accuracy: 0.9646 - auc: 0.9999\n",
      "Epoch 87/200\n",
      "127/127 [==============================] - 0s 3ms/step - loss: 0.0045 - accuracy: 0.9747 - auc: 1.0000\n",
      "Epoch 88/200\n",
      "127/127 [==============================] - 0s 3ms/step - loss: 0.0043 - accuracy: 0.9729 - auc: 1.0000\n",
      "Epoch 89/200\n",
      "127/127 [==============================] - 0s 2ms/step - loss: 0.0140 - accuracy: 0.9723 - auc: 0.9992\n",
      "Epoch 90/200\n",
      "127/127 [==============================] - 0s 2ms/step - loss: 0.0142 - accuracy: 0.9717 - auc: 0.9996\n",
      "Epoch 91/200\n",
      "127/127 [==============================] - 0s 2ms/step - loss: 0.0071 - accuracy: 0.9681 - auc: 1.0000\n",
      "Epoch 92/200\n",
      "127/127 [==============================] - 0s 2ms/step - loss: 0.0223 - accuracy: 0.9697 - auc: 0.9983\n",
      "Epoch 93/200\n",
      "127/127 [==============================] - 0s 2ms/step - loss: 0.0089 - accuracy: 0.9773 - auc: 0.9998\n",
      "Epoch 94/200\n",
      "127/127 [==============================] - 0s 3ms/step - loss: 0.0167 - accuracy: 0.9648 - auc: 0.9997\n",
      "Epoch 95/200\n",
      "127/127 [==============================] - 0s 3ms/step - loss: 0.0098 - accuracy: 0.9735 - auc: 0.9999\n",
      "Epoch 96/200\n",
      "127/127 [==============================] - 0s 3ms/step - loss: 0.0397 - accuracy: 0.9579 - auc: 0.9969\n",
      "Epoch 97/200\n",
      "127/127 [==============================] - 0s 3ms/step - loss: 0.0120 - accuracy: 0.9725 - auc: 0.9999\n",
      "Epoch 98/200\n",
      "127/127 [==============================] - 0s 3ms/step - loss: 0.0080 - accuracy: 0.9710 - auc: 0.9998\n",
      "Epoch 99/200\n",
      "127/127 [==============================] - 0s 3ms/step - loss: 0.0055 - accuracy: 0.9728 - auc: 1.0000\n",
      "Epoch 100/200\n",
      "127/127 [==============================] - 0s 3ms/step - loss: 0.0035 - accuracy: 0.9745 - auc: 1.0000\n",
      "Epoch 101/200\n",
      "127/127 [==============================] - 0s 3ms/step - loss: 0.0067 - accuracy: 0.9756 - auc: 1.0000\n",
      "Epoch 102/200\n",
      "127/127 [==============================] - 0s 3ms/step - loss: 0.0062 - accuracy: 0.9679 - auc: 1.0000\n",
      "Epoch 103/200\n",
      "127/127 [==============================] - 0s 4ms/step - loss: 0.0235 - accuracy: 0.9692 - auc: 0.9982\n",
      "Epoch 104/200\n",
      "127/127 [==============================] - 0s 3ms/step - loss: 0.0214 - accuracy: 0.9695 - auc: 0.9990\n",
      "Epoch 105/200\n",
      "127/127 [==============================] - 0s 3ms/step - loss: 0.0069 - accuracy: 0.9737 - auc: 1.0000\n",
      "Epoch 106/200\n",
      "127/127 [==============================] - 0s 3ms/step - loss: 0.0030 - accuracy: 0.9721 - auc: 1.0000\n",
      "Epoch 107/200\n",
      "127/127 [==============================] - 0s 3ms/step - loss: 0.0039 - accuracy: 0.9673 - auc: 1.0000\n",
      "Epoch 108/200\n",
      "127/127 [==============================] - 0s 3ms/step - loss: 0.0027 - accuracy: 0.9733 - auc: 1.0000\n",
      "Epoch 109/200\n",
      "127/127 [==============================] - 1s 5ms/step - loss: 0.0068 - accuracy: 0.9729 - auc: 1.0000\n",
      "Epoch 110/200\n",
      "127/127 [==============================] - 1s 5ms/step - loss: 0.0296 - accuracy: 0.9632 - auc: 0.9980\n",
      "Epoch 111/200\n",
      "127/127 [==============================] - 1s 9ms/step - loss: 0.0090 - accuracy: 0.9749 - auc: 0.9999\n",
      "Epoch 112/200\n",
      "127/127 [==============================] - 1s 5ms/step - loss: 0.0078 - accuracy: 0.9713 - auc: 0.9998\n",
      "Epoch 113/200\n",
      "127/127 [==============================] - 1s 4ms/step - loss: 0.0452 - accuracy: 0.9509 - auc: 0.9964\n",
      "Epoch 114/200\n",
      "127/127 [==============================] - 0s 3ms/step - loss: 0.0121 - accuracy: 0.9721 - auc: 0.9997\n",
      "Epoch 115/200\n",
      "127/127 [==============================] - 0s 2ms/step - loss: 0.0056 - accuracy: 0.9709 - auc: 1.0000\n",
      "Epoch 116/200\n",
      "127/127 [==============================] - 0s 3ms/step - loss: 0.0027 - accuracy: 0.9707 - auc: 1.0000\n",
      "Epoch 117/200\n",
      "127/127 [==============================] - 0s 2ms/step - loss: 0.0033 - accuracy: 0.9726 - auc: 1.0000\n",
      "Epoch 118/200\n",
      "127/127 [==============================] - 0s 2ms/step - loss: 0.0054 - accuracy: 0.9695 - auc: 0.9998\n",
      "Epoch 119/200\n",
      "127/127 [==============================] - 0s 2ms/step - loss: 0.0067 - accuracy: 0.9756 - auc: 0.9998\n",
      "Epoch 120/200\n",
      "127/127 [==============================] - 0s 2ms/step - loss: 0.0312 - accuracy: 0.9621 - auc: 0.9977\n",
      "Epoch 121/200\n",
      "127/127 [==============================] - 0s 2ms/step - loss: 0.0054 - accuracy: 0.9678 - auc: 1.0000\n",
      "Epoch 122/200\n",
      "127/127 [==============================] - 0s 2ms/step - loss: 0.0039 - accuracy: 0.9763 - auc: 1.0000\n",
      "Epoch 123/200\n",
      "127/127 [==============================] - 0s 2ms/step - loss: 0.0072 - accuracy: 0.9673 - auc: 0.9998\n",
      "Epoch 124/200\n",
      "127/127 [==============================] - 0s 2ms/step - loss: 0.0103 - accuracy: 0.9670 - auc: 0.9999\n",
      "Epoch 125/200\n",
      "127/127 [==============================] - 0s 2ms/step - loss: 0.0181 - accuracy: 0.9699 - auc: 0.9993\n",
      "Epoch 126/200\n",
      "127/127 [==============================] - 0s 2ms/step - loss: 0.0029 - accuracy: 0.9728 - auc: 1.0000\n",
      "Epoch 127/200\n",
      "127/127 [==============================] - 0s 3ms/step - loss: 0.0031 - accuracy: 0.9689 - auc: 1.0000\n",
      "Epoch 128/200\n",
      "127/127 [==============================] - 0s 2ms/step - loss: 0.0031 - accuracy: 0.9746 - auc: 1.0000\n",
      "Epoch 129/200\n",
      "127/127 [==============================] - 0s 2ms/step - loss: 0.0053 - accuracy: 0.9726 - auc: 1.0000\n",
      "Epoch 130/200\n",
      "127/127 [==============================] - 0s 2ms/step - loss: 0.0463 - accuracy: 0.9526 - auc: 0.9965\n",
      "Epoch 131/200\n",
      "127/127 [==============================] - 0s 3ms/step - loss: 0.0076 - accuracy: 0.9706 - auc: 1.0000\n",
      "Epoch 132/200\n",
      "127/127 [==============================] - 0s 2ms/step - loss: 0.0043 - accuracy: 0.9729 - auc: 1.0000\n",
      "Epoch 133/200\n",
      "127/127 [==============================] - 0s 3ms/step - loss: 0.0018 - accuracy: 0.9721 - auc: 1.0000\n",
      "Epoch 134/200\n",
      "127/127 [==============================] - 0s 3ms/step - loss: 0.0018 - accuracy: 0.9728 - auc: 1.0000\n",
      "Epoch 135/200\n",
      "127/127 [==============================] - 0s 3ms/step - loss: 0.0017 - accuracy: 0.9746 - auc: 1.0000\n",
      "Epoch 136/200\n",
      "127/127 [==============================] - 0s 3ms/step - loss: 0.0048 - accuracy: 0.9763 - auc: 1.0000\n",
      "Epoch 137/200\n",
      "127/127 [==============================] - 1s 4ms/step - loss: 0.0040 - accuracy: 0.9737 - auc: 1.0000\n",
      "Epoch 138/200\n",
      "127/127 [==============================] - 0s 3ms/step - loss: 0.0501 - accuracy: 0.9586 - auc: 0.9963\n",
      "Epoch 139/200\n",
      "127/127 [==============================] - 0s 3ms/step - loss: 0.0071 - accuracy: 0.9765 - auc: 1.0000\n",
      "Epoch 140/200\n",
      "127/127 [==============================] - 0s 3ms/step - loss: 0.0038 - accuracy: 0.9725 - auc: 1.0000\n",
      "Epoch 141/200\n"
     ]
    },
    {
     "name": "stdout",
     "output_type": "stream",
     "text": [
      "127/127 [==============================] - 0s 3ms/step - loss: 0.0039 - accuracy: 0.9755 - auc: 1.0000\n",
      "Epoch 142/200\n",
      "127/127 [==============================] - 0s 3ms/step - loss: 0.0027 - accuracy: 0.9780 - auc: 1.0000\n",
      "Epoch 143/200\n",
      "127/127 [==============================] - 0s 4ms/step - loss: 0.0029 - accuracy: 0.9753 - auc: 1.0000\n",
      "Epoch 144/200\n",
      "127/127 [==============================] - 0s 3ms/step - loss: 0.0024 - accuracy: 0.9711 - auc: 1.0000\n",
      "Epoch 145/200\n",
      "127/127 [==============================] - 0s 2ms/step - loss: 0.0020 - accuracy: 0.9734 - auc: 1.0000\n",
      "Epoch 146/200\n",
      "127/127 [==============================] - 0s 3ms/step - loss: 0.0063 - accuracy: 0.9737 - auc: 0.9995\n",
      "Epoch 147/200\n",
      "127/127 [==============================] - 0s 3ms/step - loss: 0.0331 - accuracy: 0.9583 - auc: 0.9981\n",
      "Epoch 148/200\n",
      "127/127 [==============================] - 0s 3ms/step - loss: 0.0157 - accuracy: 0.9640 - auc: 0.9998\n",
      "Epoch 149/200\n",
      "127/127 [==============================] - 0s 3ms/step - loss: 0.0116 - accuracy: 0.9681 - auc: 0.9999\n",
      "Epoch 150/200\n",
      "127/127 [==============================] - 1s 4ms/step - loss: 0.0029 - accuracy: 0.9675 - auc: 1.0000\n",
      "Epoch 151/200\n",
      "127/127 [==============================] - 0s 3ms/step - loss: 0.0027 - accuracy: 0.9751 - auc: 1.0000\n",
      "Epoch 152/200\n",
      "127/127 [==============================] - 0s 3ms/step - loss: 0.0022 - accuracy: 0.9714 - auc: 1.0000\n",
      "Epoch 153/200\n",
      "127/127 [==============================] - 0s 3ms/step - loss: 0.0036 - accuracy: 0.9752 - auc: 1.0000\n",
      "Epoch 154/200\n",
      "127/127 [==============================] - 0s 3ms/step - loss: 0.0046 - accuracy: 0.9729 - auc: 1.0000\n",
      "Epoch 155/200\n",
      "127/127 [==============================] - 0s 3ms/step - loss: 0.0059 - accuracy: 0.9713 - auc: 1.0000\n",
      "Epoch 156/200\n",
      "127/127 [==============================] - 1s 5ms/step - loss: 0.0158 - accuracy: 0.9695 - auc: 0.9995\n",
      "Epoch 157/200\n",
      "127/127 [==============================] - 0s 3ms/step - loss: 0.0036 - accuracy: 0.9717 - auc: 1.0000\n",
      "Epoch 158/200\n",
      "127/127 [==============================] - 0s 3ms/step - loss: 0.0015 - accuracy: 0.9750 - auc: 1.0000\n",
      "Epoch 159/200\n",
      "127/127 [==============================] - 0s 3ms/step - loss: 0.0039 - accuracy: 0.9737 - auc: 0.9999\n",
      "Epoch 160/200\n",
      "127/127 [==============================] - 0s 3ms/step - loss: 0.0147 - accuracy: 0.9683 - auc: 0.9993\n",
      "Epoch 161/200\n",
      "127/127 [==============================] - 0s 3ms/step - loss: 0.0183 - accuracy: 0.9743 - auc: 0.9994\n",
      "Epoch 162/200\n",
      "127/127 [==============================] - 0s 3ms/step - loss: 0.0028 - accuracy: 0.9732 - auc: 1.0000\n",
      "Epoch 163/200\n",
      "127/127 [==============================] - 0s 3ms/step - loss: 0.0029 - accuracy: 0.9748 - auc: 1.0000\n",
      "Epoch 164/200\n",
      "127/127 [==============================] - 0s 2ms/step - loss: 0.0037 - accuracy: 0.9782 - auc: 1.0000\n",
      "Epoch 165/200\n",
      "127/127 [==============================] - 0s 2ms/step - loss: 0.0026 - accuracy: 0.9709 - auc: 1.0000\n",
      "Epoch 166/200\n",
      "127/127 [==============================] - 0s 3ms/step - loss: 0.0018 - accuracy: 0.9750 - auc: 1.0000\n",
      "Epoch 167/200\n",
      "127/127 [==============================] - 0s 3ms/step - loss: 0.0018 - accuracy: 0.9757 - auc: 1.0000\n",
      "Epoch 168/200\n",
      "127/127 [==============================] - 1s 7ms/step - loss: 0.0026 - accuracy: 0.9716 - auc: 1.0000\n",
      "Epoch 169/200\n",
      "127/127 [==============================] - 1s 9ms/step - loss: 0.0055 - accuracy: 0.9698 - auc: 1.0000\n",
      "Epoch 170/200\n",
      "127/127 [==============================] - 1s 5ms/step - loss: 0.0088 - accuracy: 0.9720 - auc: 0.9995\n",
      "Epoch 171/200\n",
      "127/127 [==============================] - 0s 4ms/step - loss: 0.0190 - accuracy: 0.9667 - auc: 0.9982\n",
      "Epoch 172/200\n",
      "127/127 [==============================] - 0s 3ms/step - loss: 0.0109 - accuracy: 0.9675 - auc: 0.9993\n",
      "Epoch 173/200\n",
      "127/127 [==============================] - 0s 3ms/step - loss: 0.0018 - accuracy: 0.9719 - auc: 1.0000\n",
      "Epoch 174/200\n",
      "127/127 [==============================] - 0s 4ms/step - loss: 0.0027 - accuracy: 0.9737 - auc: 1.0000\n",
      "Epoch 175/200\n",
      "127/127 [==============================] - 1s 6ms/step - loss: 0.0055 - accuracy: 0.9771 - auc: 0.9998\n",
      "Epoch 176/200\n",
      "127/127 [==============================] - 0s 4ms/step - loss: 0.0048 - accuracy: 0.9699 - auc: 0.9999\n",
      "Epoch 177/200\n",
      "127/127 [==============================] - 0s 4ms/step - loss: 0.0077 - accuracy: 0.9700 - auc: 0.9995\n",
      "Epoch 178/200\n",
      "127/127 [==============================] - 0s 3ms/step - loss: 0.0124 - accuracy: 0.9609 - auc: 0.9995\n",
      "Epoch 179/200\n",
      "127/127 [==============================] - 1s 6ms/step - loss: 0.0040 - accuracy: 0.9697 - auc: 1.0000\n",
      "Epoch 180/200\n",
      "127/127 [==============================] - 0s 3ms/step - loss: 0.0140 - accuracy: 0.9676 - auc: 0.9991\n",
      "Epoch 181/200\n",
      "127/127 [==============================] - 0s 3ms/step - loss: 0.0092 - accuracy: 0.9664 - auc: 0.9997\n",
      "Epoch 182/200\n",
      "127/127 [==============================] - 0s 3ms/step - loss: 0.0092 - accuracy: 0.9674 - auc: 0.9998\n",
      "Epoch 183/200\n",
      "127/127 [==============================] - 0s 3ms/step - loss: 0.0033 - accuracy: 0.9731 - auc: 1.0000\n",
      "Epoch 184/200\n",
      "127/127 [==============================] - 0s 3ms/step - loss: 0.0014 - accuracy: 0.9675 - auc: 1.0000\n",
      "Epoch 185/200\n",
      "127/127 [==============================] - 0s 3ms/step - loss: 0.0011 - accuracy: 0.9684 - auc: 1.0000\n",
      "Epoch 186/200\n",
      "127/127 [==============================] - 0s 3ms/step - loss: 5.9650e-04 - accuracy: 0.9722 - auc: 1.0000\n",
      "Epoch 187/200\n",
      "127/127 [==============================] - 0s 3ms/step - loss: 8.5969e-04 - accuracy: 0.9695 - auc: 1.0000\n",
      "Epoch 188/200\n",
      "127/127 [==============================] - 0s 3ms/step - loss: 0.0016 - accuracy: 0.9667 - auc: 1.0000\n",
      "Epoch 189/200\n",
      "127/127 [==============================] - 0s 3ms/step - loss: 0.0012 - accuracy: 0.9709 - auc: 1.0000\n",
      "Epoch 190/200\n",
      "127/127 [==============================] - 0s 3ms/step - loss: 0.0021 - accuracy: 0.9738 - auc: 0.9999\n",
      "Epoch 191/200\n",
      "127/127 [==============================] - 0s 3ms/step - loss: 0.0099 - accuracy: 0.9648 - auc: 0.9994\n",
      "Epoch 192/200\n",
      "127/127 [==============================] - 1s 4ms/step - loss: 0.0656 - accuracy: 0.9537 - auc: 0.9936\n",
      "Epoch 193/200\n",
      "127/127 [==============================] - 1s 4ms/step - loss: 0.0154 - accuracy: 0.9682 - auc: 0.9997\n",
      "Epoch 194/200\n",
      "127/127 [==============================] - 1s 4ms/step - loss: 0.0029 - accuracy: 0.9742 - auc: 1.0000\n",
      "Epoch 195/200\n",
      "127/127 [==============================] - 0s 4ms/step - loss: 0.0020 - accuracy: 0.9721 - auc: 1.0000\n",
      "Epoch 196/200\n",
      "127/127 [==============================] - 0s 4ms/step - loss: 0.0012 - accuracy: 0.9760 - auc: 1.0000\n",
      "Epoch 197/200\n",
      "127/127 [==============================] - 1s 4ms/step - loss: 0.0012 - accuracy: 0.9741 - auc: 1.0000\n",
      "Epoch 198/200\n",
      "127/127 [==============================] - 1s 6ms/step - loss: 7.5152e-04 - accuracy: 0.9758 - auc: 1.0000\n",
      "Epoch 199/200\n",
      "127/127 [==============================] - 1s 4ms/step - loss: 9.9697e-04 - accuracy: 0.9733 - auc: 1.0000\n",
      "Epoch 200/200\n",
      "127/127 [==============================] - 0s 3ms/step - loss: 0.0012 - accuracy: 0.9744 - auc: 1.0000\n"
     ]
    }
   ],
   "source": [
    "history = model.fit(X_train, y_train, epochs=200)"
   ]
  },
  {
   "cell_type": "code",
   "execution_count": 34,
   "metadata": {},
   "outputs": [
    {
     "data": {
      "image/png": "[encoded data removed]",
      "text/plain": [
       "<Figure size 432x288 with 1 Axes>"
      ]
     },
     "metadata": {
      "needs_background": "light"
     },
     "output_type": "display_data"
    }
   ],
   "source": [
    "# plt.title('Loss Keras Model')\n",
    "plt.plot(history.history['loss'], label='train')\n",
    "#plt.plot(history.history['val_loss'], label='test')\n",
    "plt.legend()\n",
    "plt.show()"
   ]
  },
  {
   "cell_type": "code",
   "execution_count": 35,
   "metadata": {},
   "outputs": [
    {
     "data": {
      "image/png": "[encoded data removed]",
      "text/plain": [
       "<Figure size 432x288 with 1 Axes>"
      ]
     },
     "metadata": {
      "needs_background": "light"
     },
     "output_type": "display_data"
    }
   ],
   "source": [
    "plt.title('Accuracy Keras Model')\n",
    "plt.plot(history.history['accuracy'], label='train')\n",
    "#plt.plot(history.history['val_accuracy'], label='test')\n",
    "plt.legend()\n",
    "plt.show()"
   ]
  },
  {
   "cell_type": "code",
   "execution_count": 36,
   "metadata": {},
   "outputs": [
    {
     "data": {
      "image/png": "[encoded data removed]",
      "text/plain": [
       "<Figure size 432x288 with 1 Axes>"
      ]
     },
     "metadata": {
      "needs_background": "light"
     },
     "output_type": "display_data"
    }
   ],
   "source": [
    "plt.title('AUC Keras Model')\n",
    "plt.plot(history.history['auc'], label='train')\n",
    "plt.legend()\n",
    "plt.show()"
   ]
  },
  {
   "cell_type": "code",
   "execution_count": 37,
   "metadata": {},
   "outputs": [],
   "source": [
    "x_test = np.array(X_test)\n",
    "\n",
    "#Reshape the data into 3-D array\n",
    "x_test = np.reshape(x_test, (x_test.shape[0],x_test.shape[1],1))\n"
   ]
  },
  {
   "cell_type": "code",
   "execution_count": 38,
   "metadata": {},
   "outputs": [
    {
     "data": {
      "text/plain": [
       "array([[0., 0., 1., 0.],\n",
       "       [0., 0., 0., 1.],\n",
       "       [0., 0., 0., 1.],\n",
       "       ...,\n",
       "       [0., 1., 0., 0.],\n",
       "       [0., 0., 0., 1.],\n",
       "       [0., 0., 0., 1.]], dtype=float32)"
      ]
     },
     "execution_count": 38,
     "metadata": {},
     "output_type": "execute_result"
    }
   ],
   "source": [
    "y_pred = model.predict(X_test)\n",
    "\n",
    "y_pred[y_pred > 0.5] = 1\n",
    "y_pred[y_pred <= 0.5] = 0\n",
    "y_pred"
   ]
  },
  {
   "cell_type": "code",
   "execution_count": 39,
   "metadata": {},
   "outputs": [
    {
     "data": {
      "text/plain": [
       "0.8810703666997026"
      ]
     },
     "execution_count": 39,
     "metadata": {},
     "output_type": "execute_result"
    }
   ],
   "source": [
    "accuracy_score_val = accuracy_score(y_test, y_pred)\n",
    "accuracy_score_val"
   ]
  },
  {
   "cell_type": "code",
   "execution_count": 40,
   "metadata": {},
   "outputs": [
    {
     "name": "stdout",
     "output_type": "stream",
     "text": [
      "Calculated Accuracy score: 0.8810703666997026, Precision: 0.9098671726755219, Recall: 0.9098671726755219, F1 measure: 0.9098671726755219 \n"
     ]
    }
   ],
   "source": [
    "accuracy_score_val = accuracy_score(y_test, y_pred)\n",
    "precision = precision_score(y_test, y_pred, average='micro')\n",
    "recall = recall_score(y_test, y_pred, average='micro')\n",
    "f1_measure = 2 * ((precision * recall) / (precision + recall))\n",
    "print('Calculated Accuracy score: {}, Precision: {}, Recall: {}, F1 measure: {} '.format(accuracy_score_val,\n",
    "                                                            precision, recall, f1_measure))"
   ]
  },
  {
   "cell_type": "code",
   "execution_count": 41,
   "metadata": {},
   "outputs": [],
   "source": [
    "from termcolor import colored"
   ]
  },
  {
   "cell_type": "code",
   "execution_count": 141,
   "metadata": {},
   "outputs": [],
   "source": [
    "def get_active_targets(compounds):\n",
    "    compounds_predicted = {}\n",
    "\n",
    "    molecule_ids = df2[df2[\"Smiles\"].isin(compounds)][\"Molecule ChEMBL ID\"].tolist()\n",
    "    #print(molecule_ids)\n",
    "    \n",
    "    print(compounds_predicted)\n",
    "    compounds = df2[df2[\"Smiles\"].isin(compounds)][\"Smiles\"].tolist()\n",
    "    j = 0\n",
    "    for c in compounds:\n",
    "        compounds_predicted[molecule_ids[j]] = { 'smile': c,'targets': [], 'prob': [] }\n",
    "        j += 1\n",
    "    #print(compounds)\n",
    "    finger_prints = df[df[\"Molecule ChEMBL ID\"].isin(molecule_ids)]\n",
    "    drop_columns =  [\"Molecule ChEMBL ID\"]\n",
    "    #finger_prints = finger_prints.drop(columns=drop_columns)\n",
    "    n_samples_test = len(finger_prints)\n",
    "    n_features = n_inputs\n",
    "    i = 0\n",
    "    for index, row in finger_prints.iterrows():\n",
    "        r = row.to_frame().T\n",
    "        m_id = r[\"Molecule ChEMBL ID\"].iloc[0]\n",
    "        new_data = r.drop(columns=drop_columns)\n",
    "        new_data = np.asarray(new_data).astype(np.int)\n",
    "        pred = model.predict(new_data)[0]\n",
    "        for j in range(0, len(pred)):\n",
    "            prob = pred[j]\n",
    "            t = util_fn.target_abbr_from_id(target_ids[j])\n",
    "            compounds_predicted[m_id]['targets'].append(t)\n",
    "            compounds_predicted[m_id]['prob'].append(prob)\n",
    "        i += 1\n",
    "    \n",
    "    return compounds_predicted"
   ]
  },
  {
   "cell_type": "code",
   "execution_count": 144,
   "metadata": {},
   "outputs": [
    {
     "name": "stdout",
     "output_type": "stream",
     "text": [
      "{}\n",
      "[6.8682882e-10 9.9073410e-01 9.9957776e-01 9.6336317e-01]\n",
      "[1.24064127e-06 1.08738466e-04 9.98297751e-01 9.99802470e-01]\n",
      "[9.7278672e-01 3.1462579e-07 9.9998820e-01 3.3836945e-06]\n",
      "\u001b[34mFollowing target probabilites are predicted for Compound: \n",
      " Nc1ccc(-c2ccc3ncc4c(=O)[nH]c(=O)n(-c5cccc(C(F)(F)F)c5)c4c3n2)cn1 \n",
      " \n",
      "\u001b[0m\n",
      "\u001b[31mTarget MIA PaCa-2, Probability 0% \n",
      " \n",
      "\u001b[0m\n",
      "\u001b[32mTarget IGF-1, Probability 99% \n",
      " \n",
      "\u001b[0m\n",
      "\u001b[32mTarget mTOR, Probability 100% \n",
      " \n",
      "\u001b[0m\n",
      "\u001b[32mTarget EGFR-erbB1, Probability 96% \n",
      " \n",
      "\u001b[0m\n",
      "\u001b[34mFollowing target probabilites are predicted for Compound: \n",
      " CS(=O)(=O)N1CCN(Cc2cc3nc(-c4cccc5[nH]ncc45)nc(N4CCOCC4)c3s2)CC1 \n",
      " \n",
      "\u001b[0m\n",
      "\u001b[32mTarget MIA PaCa-2, Probability 97% \n",
      " \n",
      "\u001b[0m\n",
      "\u001b[31mTarget IGF-1, Probability 0% \n",
      " \n",
      "\u001b[0m\n",
      "\u001b[32mTarget mTOR, Probability 100% \n",
      " \n",
      "\u001b[0m\n",
      "\u001b[31mTarget EGFR-erbB1, Probability 0% \n",
      " \n",
      "\u001b[0m\n",
      "\u001b[34mFollowing target probabilites are predicted for Compound: \n",
      " N#CCCCn1nc(-c2ccc(F)c(O)c2)c2c(N)ncnc21 \n",
      " \n",
      "\u001b[0m\n",
      "\u001b[31mTarget MIA PaCa-2, Probability 0% \n",
      " \n",
      "\u001b[0m\n",
      "\u001b[31mTarget IGF-1, Probability 0% \n",
      " \n",
      "\u001b[0m\n",
      "\u001b[32mTarget mTOR, Probability 100% \n",
      " \n",
      "\u001b[0m\n",
      "\u001b[32mTarget EGFR-erbB1, Probability 100% \n",
      " \n",
      "\u001b[0m\n"
     ]
    }
   ],
   "source": [
    "smiles = ['N#CCCCn1nc(-c2ccc(F)c(O)c2)c2c(N)ncnc21', \n",
    "          'CS(=O)(=O)N1CCN(Cc2cc3nc(-c4cccc5[nH]ncc45)nc(N4CCOCC4)c3s2)CC1',\n",
    "          'Nc1ccc(-c2ccc3ncc4c(=O)[nH]c(=O)n(-c5cccc(C(F)(F)F)c5)c4c3n2)cn1',\n",
    "          \n",
    "             ]\n",
    "finger_print = X_test.iloc[[0]]\n",
    "compounds = get_active_targets(smiles)\n",
    "for t in compounds:\n",
    "    print(colored(\"Following target probabilites are predicted for Compound: \\n {} \\n \\n\".format(compounds[t]['smile']), \n",
    "                  'blue'))\n",
    "    i = 0\n",
    "    for target in compounds[t]['targets']:\n",
    "        prob = compounds[t]['prob'][i]\n",
    "        if prob >= 0.5:\n",
    "            print(colored(\"Target {}, Probability {}% \\n \\n\".format( target, round(prob * 100)) , 'green'))\n",
    "        else:\n",
    "            print(colored(\"Target {}, Probability {}% \\n \\n\".format( target, round(prob * 100)) , 'red'))\n",
    "        i += 1"
   ]
  },
  {
   "cell_type": "code",
   "execution_count": 92,
   "metadata": {},
   "outputs": [
    {
     "data": {
      "text/html": [
       "<div>\n",
       "<style scoped>\n",
       "    .dataframe tbody tr th:only-of-type {\n",
       "        vertical-align: middle;\n",
       "    }\n",
       "\n",
       "    .dataframe tbody tr th {\n",
       "        vertical-align: top;\n",
       "    }\n",
       "\n",
       "    .dataframe thead th {\n",
       "        text-align: right;\n",
       "    }\n",
       "</style>\n",
       "<table border=\"1\" class=\"dataframe\">\n",
       "  <thead>\n",
       "    <tr style=\"text-align: right;\">\n",
       "      <th></th>\n",
       "      <th>Molecule ChEMBL ID</th>\n",
       "      <th>Smiles</th>\n",
       "      <th>CHEMBL614725</th>\n",
       "      <th>CHEMBL1957</th>\n",
       "      <th>CHEMBL2842</th>\n",
       "      <th>CHEMBL203</th>\n",
       "    </tr>\n",
       "  </thead>\n",
       "  <tbody>\n",
       "    <tr>\n",
       "      <th>493</th>\n",
       "      <td>CHEMBL3903725</td>\n",
       "      <td>Nc1ccc(-c2ccc3ncc4c(=O)[nH]c(=O)n(-c5cccc(C(F)...</td>\n",
       "      <td>0</td>\n",
       "      <td>1</td>\n",
       "      <td>1</td>\n",
       "      <td>1</td>\n",
       "    </tr>\n",
       "    <tr>\n",
       "      <th>1452</th>\n",
       "      <td>CHEMBL521851</td>\n",
       "      <td>CS(=O)(=O)N1CCN(Cc2cc3nc(-c4cccc5[nH]ncc45)nc(...</td>\n",
       "      <td>1</td>\n",
       "      <td>0</td>\n",
       "      <td>1</td>\n",
       "      <td>0</td>\n",
       "    </tr>\n",
       "    <tr>\n",
       "      <th>2157</th>\n",
       "      <td>CHEMBL1242469</td>\n",
       "      <td>N#CCCCn1nc(-c2ccc(F)c(O)c2)c2c(N)ncnc21</td>\n",
       "      <td>0</td>\n",
       "      <td>0</td>\n",
       "      <td>1</td>\n",
       "      <td>1</td>\n",
       "    </tr>\n",
       "  </tbody>\n",
       "</table>\n",
       "</div>"
      ],
      "text/plain": [
       "     Molecule ChEMBL ID                                             Smiles  \\\n",
       "493       CHEMBL3903725  Nc1ccc(-c2ccc3ncc4c(=O)[nH]c(=O)n(-c5cccc(C(F)...   \n",
       "1452       CHEMBL521851  CS(=O)(=O)N1CCN(Cc2cc3nc(-c4cccc5[nH]ncc45)nc(...   \n",
       "2157      CHEMBL1242469            N#CCCCn1nc(-c2ccc(F)c(O)c2)c2c(N)ncnc21   \n",
       "\n",
       "      CHEMBL614725  CHEMBL1957  CHEMBL2842  CHEMBL203  \n",
       "493              0           1           1          1  \n",
       "1452             1           0           1          0  \n",
       "2157             0           0           1          1  "
      ]
     },
     "execution_count": 92,
     "metadata": {},
     "output_type": "execute_result"
    }
   ],
   "source": [
    "df2[df2[\"Smiles\"].isin(smiles)]"
   ]
  },
  {
   "cell_type": "code",
   "execution_count": null,
   "metadata": {},
   "outputs": [],
   "source": [
    "import seaborn as sn\n"
   ]
  },
  {
   "cell_type": "code",
   "execution_count": null,
   "metadata": {},
   "outputs": [],
   "source": [
    "cm = multilabel_confusion_matrix(y_test, y_pred)\n",
    "cm"
   ]
  },
  {
   "cell_type": "code",
   "execution_count": null,
   "metadata": {},
   "outputs": [],
   "source": [
    "i = 0\n",
    "for t in cm:\n",
    "    sn.set(font_scale=1.4)#for label size\n",
    "    df_cm = pd.DataFrame(t, columns=[\"Positive\", \"Negative\"], index = [\"Positive\", \"Negative\"])\n",
    "    df_cm.index.name = 'Actual'\n",
    "    df_cm.columns.name = 'Predicted'\n",
    "    plt.figure(figsize = (10,7))\n",
    "    plt.title(\"Confusion Matrix for Target {}\".format(util_fn.target_abbr_from_id(target_ids[i])))\n",
    "    sn.heatmap(df_cm, cmap=\"Blues\", annot=True)\n",
    "    plt.show()\n",
    "    i +=1 "
   ]
  },
  {
   "cell_type": "code",
   "execution_count": null,
   "metadata": {},
   "outputs": [],
   "source": []
  },
  {
   "cell_type": "code",
   "execution_count": null,
   "metadata": {},
   "outputs": [],
   "source": []
  }
 ],
 "metadata": {
  "kernelspec": {
   "display_name": "Python 3",
   "language": "python",
   "name": "python3"
  },
  "language_info": {
   "codemirror_mode": {
    "name": "ipython",
    "version": 3
   },
   "file_extension": ".py",
   "mimetype": "text/x-python",
   "name": "python",
   "nbconvert_exporter": "python",
   "pygments_lexer": "ipython3",
   "version": "3.8.5"
  }
 },
 "nbformat": 4,
 "nbformat_minor": 5
}
