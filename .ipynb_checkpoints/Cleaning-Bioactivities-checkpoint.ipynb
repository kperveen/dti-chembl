{
 "cells": [
  {
   "cell_type": "code",
   "execution_count": 18,
   "metadata": {},
   "outputs": [],
   "source": [
    "import pandas as pd\n",
    "import matplotlib.pyplot as plt\n",
    "import seaborn as sns\n",
    "from pandas.plotting import table\n",
    "from collections import Counter\n",
    "import numpy as np\n",
    "import scipy as sp\n",
    "%matplotlib inline\n",
    "\n",
    "\n",
    "import importlib\n",
    "import utilities\n",
    "importlib.reload(utilities)\n",
    "from utilities import Util"
   ]
  },
  {
   "cell_type": "code",
   "execution_count": 10,
   "metadata": {},
   "outputs": [],
   "source": [
    "data = pd.read_csv(\"data_eda.csv\", usecols = [\"Molecule ChEMBL ID\", \"Smiles\", \"Standard Value\",\n",
    "                                                                \"Standard Units\", \"Target ChEMBL ID\", \n",
    "                                                                \"Standard Relation\", \"Target Name\"])"
   ]
  },
  {
   "cell_type": "code",
   "execution_count": 11,
   "metadata": {},
   "outputs": [
    {
     "data": {
      "text/html": [
       "<div>\n",
       "<style scoped>\n",
       "    .dataframe tbody tr th:only-of-type {\n",
       "        vertical-align: middle;\n",
       "    }\n",
       "\n",
       "    .dataframe tbody tr th {\n",
       "        vertical-align: top;\n",
       "    }\n",
       "\n",
       "    .dataframe thead th {\n",
       "        text-align: right;\n",
       "    }\n",
       "</style>\n",
       "<table border=\"1\" class=\"dataframe\">\n",
       "  <thead>\n",
       "    <tr style=\"text-align: right;\">\n",
       "      <th></th>\n",
       "      <th>Molecule ChEMBL ID</th>\n",
       "      <th>Smiles</th>\n",
       "      <th>Standard Relation</th>\n",
       "      <th>Standard Value</th>\n",
       "      <th>Standard Units</th>\n",
       "      <th>Target ChEMBL ID</th>\n",
       "      <th>Target Name</th>\n",
       "    </tr>\n",
       "  </thead>\n",
       "  <tbody>\n",
       "    <tr>\n",
       "      <th>0</th>\n",
       "      <td>CHEMBL1374198</td>\n",
       "      <td>CCC(C(=O)Nc1ccccc1)N1CCN(S(=O)(=O)c2ccc3c(c2)C...</td>\n",
       "      <td>'&gt;'</td>\n",
       "      <td>55690.00</td>\n",
       "      <td>nM</td>\n",
       "      <td>CHEMBL4026</td>\n",
       "      <td>Signal transducer and activator of transcripti...</td>\n",
       "    </tr>\n",
       "    <tr>\n",
       "      <th>1</th>\n",
       "      <td>CHEMBL4465103</td>\n",
       "      <td>C=CC(=O)Nc1cc(Nc2nccc(Nc3ccccc3P(C)(C)=O)n2)c(...</td>\n",
       "      <td>'='</td>\n",
       "      <td>149.00</td>\n",
       "      <td>nM</td>\n",
       "      <td>CHEMBL203</td>\n",
       "      <td>Epidermal growth factor receptor erbB1</td>\n",
       "    </tr>\n",
       "    <tr>\n",
       "      <th>2</th>\n",
       "      <td>CHEMBL3931669</td>\n",
       "      <td>CNc1nc2ccccc2n1-c1nc2c(c(C(C)(C)S(C)(=O)=O)n1)...</td>\n",
       "      <td>'='</td>\n",
       "      <td>588.00</td>\n",
       "      <td>nM</td>\n",
       "      <td>CHEMBL2842</td>\n",
       "      <td>Serine/threonine-protein kinase mTOR</td>\n",
       "    </tr>\n",
       "    <tr>\n",
       "      <th>3</th>\n",
       "      <td>CHEMBL3355875</td>\n",
       "      <td>COc1cc2ncnc(Nc3ccc(F)c(Cl)c3)c2cc1OCCCCn1ccnc1...</td>\n",
       "      <td>'='</td>\n",
       "      <td>0.47</td>\n",
       "      <td>nM</td>\n",
       "      <td>CHEMBL203</td>\n",
       "      <td>Epidermal growth factor receptor erbB1</td>\n",
       "    </tr>\n",
       "    <tr>\n",
       "      <th>4</th>\n",
       "      <td>CHEMBL4224812</td>\n",
       "      <td>C=CC(=O)Nc1cccc(NC(=O)N(C)c2ccnc(Nc3ccc(N4CCN(...</td>\n",
       "      <td>'&gt;'</td>\n",
       "      <td>1000.00</td>\n",
       "      <td>nM</td>\n",
       "      <td>CHEMBL203</td>\n",
       "      <td>Epidermal growth factor receptor erbB1</td>\n",
       "    </tr>\n",
       "  </tbody>\n",
       "</table>\n",
       "</div>"
      ],
      "text/plain": [
       "  Molecule ChEMBL ID                                             Smiles  \\\n",
       "0      CHEMBL1374198  CCC(C(=O)Nc1ccccc1)N1CCN(S(=O)(=O)c2ccc3c(c2)C...   \n",
       "1      CHEMBL4465103  C=CC(=O)Nc1cc(Nc2nccc(Nc3ccccc3P(C)(C)=O)n2)c(...   \n",
       "2      CHEMBL3931669  CNc1nc2ccccc2n1-c1nc2c(c(C(C)(C)S(C)(=O)=O)n1)...   \n",
       "3      CHEMBL3355875  COc1cc2ncnc(Nc3ccc(F)c(Cl)c3)c2cc1OCCCCn1ccnc1...   \n",
       "4      CHEMBL4224812  C=CC(=O)Nc1cccc(NC(=O)N(C)c2ccnc(Nc3ccc(N4CCN(...   \n",
       "\n",
       "  Standard Relation  Standard Value Standard Units Target ChEMBL ID  \\\n",
       "0               '>'        55690.00             nM       CHEMBL4026   \n",
       "1               '='          149.00             nM        CHEMBL203   \n",
       "2               '='          588.00             nM       CHEMBL2842   \n",
       "3               '='            0.47             nM        CHEMBL203   \n",
       "4               '>'         1000.00             nM        CHEMBL203   \n",
       "\n",
       "                                         Target Name  \n",
       "0  Signal transducer and activator of transcripti...  \n",
       "1             Epidermal growth factor receptor erbB1  \n",
       "2               Serine/threonine-protein kinase mTOR  \n",
       "3             Epidermal growth factor receptor erbB1  \n",
       "4             Epidermal growth factor receptor erbB1  "
      ]
     },
     "execution_count": 11,
     "metadata": {},
     "output_type": "execute_result"
    }
   ],
   "source": [
    "data.head()"
   ]
  },
  {
   "cell_type": "code",
   "execution_count": 12,
   "metadata": {},
   "outputs": [
    {
     "data": {
      "text/plain": [
       "(26841, 7)"
      ]
     },
     "execution_count": 12,
     "metadata": {},
     "output_type": "execute_result"
    }
   ],
   "source": [
    "data.shape"
   ]
  },
  {
   "cell_type": "markdown",
   "metadata": {},
   "source": [
    "### Drop NA rows"
   ]
  },
  {
   "cell_type": "code",
   "execution_count": 13,
   "metadata": {},
   "outputs": [],
   "source": [
    "data.dropna(inplace=True)"
   ]
  },
  {
   "cell_type": "code",
   "execution_count": 14,
   "metadata": {},
   "outputs": [
    {
     "name": "stdout",
     "output_type": "stream",
     "text": [
      "Columns which have empty values: \n",
      "\n",
      "Molecule ChEMBL ID    0\n",
      "Smiles                0\n",
      "Standard Relation     0\n",
      "Standard Value        0\n",
      "Standard Units        0\n",
      "Target ChEMBL ID      0\n",
      "Target Name           0\n",
      "dtype: int64 \n"
     ]
    }
   ],
   "source": [
    "# Na values\n",
    "print(\"Columns which have empty values: \\n\\n{} \".format(data.isna().sum()))"
   ]
  },
  {
   "cell_type": "code",
   "execution_count": 15,
   "metadata": {},
   "outputs": [
    {
     "data": {
      "text/plain": [
       "(26833, 7)"
      ]
     },
     "execution_count": 15,
     "metadata": {},
     "output_type": "execute_result"
    }
   ],
   "source": [
    "data.shape"
   ]
  },
  {
   "cell_type": "markdown",
   "metadata": {},
   "source": [
    "## Sort and remove duplicates"
   ]
  },
  {
   "cell_type": "code",
   "execution_count": 33,
   "metadata": {},
   "outputs": [],
   "source": [
    "# Sort the targets_data to get active results\n",
    "\n",
    "sorted_data = data.sort_values('Standard Value')"
   ]
  },
  {
   "cell_type": "code",
   "execution_count": 35,
   "metadata": {},
   "outputs": [
    {
     "data": {
      "text/html": [
       "<div>\n",
       "<style scoped>\n",
       "    .dataframe tbody tr th:only-of-type {\n",
       "        vertical-align: middle;\n",
       "    }\n",
       "\n",
       "    .dataframe tbody tr th {\n",
       "        vertical-align: top;\n",
       "    }\n",
       "\n",
       "    .dataframe thead th {\n",
       "        text-align: right;\n",
       "    }\n",
       "</style>\n",
       "<table border=\"1\" class=\"dataframe\">\n",
       "  <thead>\n",
       "    <tr style=\"text-align: right;\">\n",
       "      <th></th>\n",
       "      <th>Molecule ChEMBL ID</th>\n",
       "      <th>Smiles</th>\n",
       "      <th>Standard Relation</th>\n",
       "      <th>Standard Value</th>\n",
       "      <th>Standard Units</th>\n",
       "      <th>Target ChEMBL ID</th>\n",
       "      <th>Target Name</th>\n",
       "    </tr>\n",
       "  </thead>\n",
       "  <tbody>\n",
       "    <tr>\n",
       "      <th>7205</th>\n",
       "      <td>CHEMBL2321905</td>\n",
       "      <td>COC(=O)c1cc(-c2ccc(NC(=O)c3cc(NC(=O)CCCOc4cc5c...</td>\n",
       "      <td>'='</td>\n",
       "      <td>0.0013</td>\n",
       "      <td>nM</td>\n",
       "      <td>CHEMBL614725</td>\n",
       "      <td>MIA PaCa-2</td>\n",
       "    </tr>\n",
       "    <tr>\n",
       "      <th>14802</th>\n",
       "      <td>CHEMBL2324630</td>\n",
       "      <td>COC(=O)c1cc(-c2ccc(NC(=O)c3nc(NC(=O)CCCOc4cc5c...</td>\n",
       "      <td>'='</td>\n",
       "      <td>0.0021</td>\n",
       "      <td>nM</td>\n",
       "      <td>CHEMBL614725</td>\n",
       "      <td>MIA PaCa-2</td>\n",
       "    </tr>\n",
       "    <tr>\n",
       "      <th>1235</th>\n",
       "      <td>CHEMBL63786</td>\n",
       "      <td>Brc1cccc(Nc2ncnc3cc4ccccc4cc23)c1</td>\n",
       "      <td>'='</td>\n",
       "      <td>0.0030</td>\n",
       "      <td>nM</td>\n",
       "      <td>CHEMBL203</td>\n",
       "      <td>Epidermal growth factor receptor erbB1</td>\n",
       "    </tr>\n",
       "    <tr>\n",
       "      <th>3503</th>\n",
       "      <td>CHEMBL53711</td>\n",
       "      <td>CN(C)c1cc2c(Nc3cccc(Br)c3)ncnc2cn1</td>\n",
       "      <td>'='</td>\n",
       "      <td>0.0060</td>\n",
       "      <td>nM</td>\n",
       "      <td>CHEMBL203</td>\n",
       "      <td>Epidermal growth factor receptor erbB1</td>\n",
       "    </tr>\n",
       "    <tr>\n",
       "      <th>10367</th>\n",
       "      <td>CHEMBL35820</td>\n",
       "      <td>CCOc1cc2ncnc(Nc3cccc(Br)c3)c2cc1OCC</td>\n",
       "      <td>'='</td>\n",
       "      <td>0.0060</td>\n",
       "      <td>nM</td>\n",
       "      <td>CHEMBL203</td>\n",
       "      <td>Epidermal growth factor receptor erbB1</td>\n",
       "    </tr>\n",
       "  </tbody>\n",
       "</table>\n",
       "</div>"
      ],
      "text/plain": [
       "      Molecule ChEMBL ID                                             Smiles  \\\n",
       "7205       CHEMBL2321905  COC(=O)c1cc(-c2ccc(NC(=O)c3cc(NC(=O)CCCOc4cc5c...   \n",
       "14802      CHEMBL2324630  COC(=O)c1cc(-c2ccc(NC(=O)c3nc(NC(=O)CCCOc4cc5c...   \n",
       "1235         CHEMBL63786                  Brc1cccc(Nc2ncnc3cc4ccccc4cc23)c1   \n",
       "3503         CHEMBL53711                 CN(C)c1cc2c(Nc3cccc(Br)c3)ncnc2cn1   \n",
       "10367        CHEMBL35820                CCOc1cc2ncnc(Nc3cccc(Br)c3)c2cc1OCC   \n",
       "\n",
       "      Standard Relation  Standard Value Standard Units Target ChEMBL ID  \\\n",
       "7205                '='          0.0013             nM     CHEMBL614725   \n",
       "14802               '='          0.0021             nM     CHEMBL614725   \n",
       "1235                '='          0.0030             nM        CHEMBL203   \n",
       "3503                '='          0.0060             nM        CHEMBL203   \n",
       "10367               '='          0.0060             nM        CHEMBL203   \n",
       "\n",
       "                                  Target Name  \n",
       "7205                               MIA PaCa-2  \n",
       "14802                              MIA PaCa-2  \n",
       "1235   Epidermal growth factor receptor erbB1  \n",
       "3503   Epidermal growth factor receptor erbB1  \n",
       "10367  Epidermal growth factor receptor erbB1  "
      ]
     },
     "execution_count": 35,
     "metadata": {},
     "output_type": "execute_result"
    }
   ],
   "source": [
    "sorted_data = sorted_data.drop_duplicates(subset=['Molecule ChEMBL ID','Target ChEMBL ID'])\n",
    "sorted_data.head()"
   ]
  },
  {
   "cell_type": "code",
   "execution_count": 37,
   "metadata": {},
   "outputs": [
    {
     "data": {
      "text/html": [
       "<div>\n",
       "<style scoped>\n",
       "    .dataframe tbody tr th:only-of-type {\n",
       "        vertical-align: middle;\n",
       "    }\n",
       "\n",
       "    .dataframe tbody tr th {\n",
       "        vertical-align: top;\n",
       "    }\n",
       "\n",
       "    .dataframe thead th {\n",
       "        text-align: right;\n",
       "    }\n",
       "</style>\n",
       "<table border=\"1\" class=\"dataframe\">\n",
       "  <thead>\n",
       "    <tr style=\"text-align: right;\">\n",
       "      <th></th>\n",
       "      <th>Molecule ChEMBL ID</th>\n",
       "      <th>Smiles</th>\n",
       "      <th>Standard Relation</th>\n",
       "      <th>Standard Value</th>\n",
       "      <th>Standard Units</th>\n",
       "      <th>Target ChEMBL ID</th>\n",
       "      <th>Target Name</th>\n",
       "    </tr>\n",
       "  </thead>\n",
       "  <tbody>\n",
       "    <tr>\n",
       "      <th>12210</th>\n",
       "      <td>CHEMBL24828</td>\n",
       "      <td>COc1cc2c(Nc3ccc(Br)cc3F)ncnc2cc1OCC1CCN(C)CC1</td>\n",
       "      <td>'='</td>\n",
       "      <td>11.0</td>\n",
       "      <td>nM</td>\n",
       "      <td>CHEMBL203</td>\n",
       "      <td>Epidermal growth factor receptor erbB1</td>\n",
       "    </tr>\n",
       "  </tbody>\n",
       "</table>\n",
       "</div>"
      ],
      "text/plain": [
       "      Molecule ChEMBL ID                                         Smiles  \\\n",
       "12210        CHEMBL24828  COc1cc2c(Nc3ccc(Br)cc3F)ncnc2cc1OCC1CCN(C)CC1   \n",
       "\n",
       "      Standard Relation  Standard Value Standard Units Target ChEMBL ID  \\\n",
       "12210               '='            11.0             nM        CHEMBL203   \n",
       "\n",
       "                                  Target Name  \n",
       "12210  Epidermal growth factor receptor erbB1  "
      ]
     },
     "execution_count": 37,
     "metadata": {},
     "output_type": "execute_result"
    }
   ],
   "source": [
    "# Check if duplicates are removed\n",
    "sorted_data[(sorted_data[\"Target ChEMBL ID\"] == \"CHEMBL203\") & \n",
    "                    (sorted_data[\"Molecule ChEMBL ID\"] == \"CHEMBL24828\")]"
   ]
  },
  {
   "cell_type": "markdown",
   "metadata": {},
   "source": [
    "## Add active/inactive"
   ]
  },
  {
   "cell_type": "code",
   "execution_count": 38,
   "metadata": {},
   "outputs": [
    {
     "data": {
      "text/plain": [
       "{'CHEMBL1910',\n",
       " 'CHEMBL1955',\n",
       " 'CHEMBL1957',\n",
       " 'CHEMBL203',\n",
       " 'CHEMBL209',\n",
       " 'CHEMBL2189121',\n",
       " 'CHEMBL2842',\n",
       " 'CHEMBL3474',\n",
       " 'CHEMBL3580494',\n",
       " 'CHEMBL4026',\n",
       " 'CHEMBL614725'}"
      ]
     },
     "execution_count": 38,
     "metadata": {},
     "output_type": "execute_result"
    }
   ],
   "source": [
    "targets_ids = set(data[\"Target ChEMBL ID\"].tolist())\n",
    "targets_ids"
   ]
  },
  {
   "cell_type": "code",
   "execution_count": 39,
   "metadata": {},
   "outputs": [
    {
     "data": {
      "text/plain": [
       "{'CHEMBL4026': {'percentiles': [], 25: 0, 50: 0, 75: 0, 100: 0},\n",
       " 'CHEMBL3474': {'percentiles': [], 25: 0, 50: 0, 75: 0, 100: 0},\n",
       " 'CHEMBL1957': {'percentiles': [], 25: 0, 50: 0, 75: 0, 100: 0},\n",
       " 'CHEMBL614725': {'percentiles': [], 25: 0, 50: 0, 75: 0, 100: 0},\n",
       " 'CHEMBL3580494': {'percentiles': [], 25: 0, 50: 0, 75: 0, 100: 0},\n",
       " 'CHEMBL2189121': {'percentiles': [], 25: 0, 50: 0, 75: 0, 100: 0},\n",
       " 'CHEMBL2842': {'percentiles': [], 25: 0, 50: 0, 75: 0, 100: 0},\n",
       " 'CHEMBL1955': {'percentiles': [], 25: 0, 50: 0, 75: 0, 100: 0},\n",
       " 'CHEMBL1910': {'percentiles': [], 25: 0, 50: 0, 75: 0, 100: 0},\n",
       " 'CHEMBL203': {'percentiles': [], 25: 0, 50: 0, 75: 0, 100: 0},\n",
       " 'CHEMBL209': {'percentiles': [], 25: 0, 50: 0, 75: 0, 100: 0}}"
      ]
     },
     "execution_count": 39,
     "metadata": {},
     "output_type": "execute_result"
    }
   ],
   "source": [
    "util_fn = Util(sorted_data, targets_ids)\n",
    "util_fn.set_target_dict()"
   ]
  },
  {
   "cell_type": "code",
   "execution_count": 40,
   "metadata": {},
   "outputs": [
    {
     "data": {
      "text/plain": [
       "{'percentiles': [0.003, 27.0, 333.0, 6500.0, 25000000.0],\n",
       " 25: 2129,\n",
       " 50: 2102,\n",
       " 75: 2116,\n",
       " 100: 2114}"
      ]
     },
     "execution_count": 40,
     "metadata": {},
     "output_type": "execute_result"
    }
   ],
   "source": [
    "targets_dict = util_fn.set_percentile_count()\n",
    "targets_dict['CHEMBL203']"
   ]
  },
  {
   "cell_type": "code",
   "execution_count": 41,
   "metadata": {},
   "outputs": [
    {
     "data": {
      "image/png": "[encoded data removed]",
      "text/plain": [
       "<Figure size 432x288 with 1 Axes>"
      ]
     },
     "metadata": {
      "needs_background": "light"
     },
     "output_type": "display_data"
    },
    {
     "data": {
      "image/png": "[encoded data removed]",
      "text/plain": [
       "<Figure size 432x288 with 1 Axes>"
      ]
     },
     "metadata": {
      "needs_background": "light"
     },
     "output_type": "display_data"
    },
    {
     "data": {
      "image/png": "[encoded data removed]",
      "text/plain": [
       "<Figure size 432x288 with 1 Axes>"
      ]
     },
     "metadata": {
      "needs_background": "light"
     },
     "output_type": "display_data"
    },
    {
     "data": {
      "image/png": "[encoded data removed]",
      "text/plain": [
       "<Figure size 432x288 with 1 Axes>"
      ]
     },
     "metadata": {
      "needs_background": "light"
     },
     "output_type": "display_data"
    },
    {
     "data": {
      "image/png": "[encoded data removed]",
      "text/plain": [
       "<Figure size 432x288 with 1 Axes>"
      ]
     },
     "metadata": {
      "needs_background": "light"
     },
     "output_type": "display_data"
    },
    {
     "data": {
      "image/png": "[encoded data removed]",
      "text/plain": [
       "<Figure size 432x288 with 1 Axes>"
      ]
     },
     "metadata": {
      "needs_background": "light"
     },
     "output_type": "display_data"
    },
    {
     "data": {
      "image/png": "[encoded data removed]",
      "text/plain": [
       "<Figure size 432x288 with 1 Axes>"
      ]
     },
     "metadata": {
      "needs_background": "light"
     },
     "output_type": "display_data"
    },
    {
     "data": {
      "image/png": "[encoded data removed]",
      "text/plain": [
       "<Figure size 432x288 with 1 Axes>"
      ]
     },
     "metadata": {
      "needs_background": "light"
     },
     "output_type": "display_data"
    },
    {
     "data": {
      "image/png": "[encoded data removed]",
      "text/plain": [
       "<Figure size 432x288 with 1 Axes>"
      ]
     },
     "metadata": {
      "needs_background": "light"
     },
     "output_type": "display_data"
    },
    {
     "data": {
      "image/png": "[encoded data removed]",
      "text/plain": [
       "<Figure size 432x288 with 1 Axes>"
      ]
     },
     "metadata": {
      "needs_background": "light"
     },
     "output_type": "display_data"
    },
    {
     "data": {
      "image/png": "[encoded data removed]",
      "text/plain": [
       "<Figure size 432x288 with 1 Axes>"
      ]
     },
     "metadata": {
      "needs_background": "light"
     },
     "output_type": "display_data"
    }
   ],
   "source": [
    "# Data after removing duplicates\n",
    "for target in targets_dict:\n",
    "    fig = plt.figure(figsize=(6, 4))\n",
    "    ax = fig.add_axes([0,0,1,1])\n",
    "    percentiles = targets_dict[target][\"percentiles\"]\n",
    "    x_axis = ['25th ({})'.format(percentiles[1]), '50th ({})'.format(percentiles[2]), \n",
    "              '75th ({})'.format(percentiles[3]), '100th ({})'.format(percentiles[4])]\n",
    "    y_axis = [targets_dict[target][25],targets_dict[target][50],\n",
    "                targets_dict[target][75],targets_dict[target][100]]\n",
    "\n",
    "    \n",
    "    ax.bar(x_axis,y_axis, color='purple')\n",
    "    for i in range(len(y_axis)):\n",
    "        plt.annotate(str(y_axis[i]), xy=(x_axis[i],y_axis[i]), ha='center', va='bottom')\n",
    "\n",
    "    \n",
    "    plt.xlabel(\"Percentile and values\")\n",
    "    plt.ylabel(\"Count of values\")\n",
    "    plt.title(\"Plot for Target {} ({}) (after removing duplicates)\".format(util_fn.target_abbr_from_id(target), \n",
    "                                                                           target))\n",
    "    plt.show()"
   ]
  },
  {
   "cell_type": "code",
   "execution_count": 60,
   "metadata": {},
   "outputs": [
    {
     "data": {
      "text/plain": [
       "[('CHEMBL1957', 'IGF-1'),\n",
       " ('CHEMBL614725', 'MIA PaCa-2'),\n",
       " ('CHEMBL2842', 'mTOR'),\n",
       " ('CHEMBL203', 'EGFR-erbB1')]"
      ]
     },
     "execution_count": 60,
     "metadata": {},
     "output_type": "execute_result"
    }
   ],
   "source": [
    "targets_500_assays = []\n",
    "updated_tids = []\n",
    "for target in targets_dict:\n",
    "    count_25 = targets_dict[target][25]\n",
    "    count_100 = targets_dict[target][100]\n",
    "    total_count = count_25 + count_100\n",
    "    if (count_25 + count_100) >= 500:\n",
    "        targets_500_assays.append((target, util_fn.target_abbr_from_id(target)))\n",
    "        updated_tids.append(target)\n",
    "targets_500_assays"
   ]
  },
  {
   "cell_type": "markdown",
   "metadata": {},
   "source": [
    "### Filter data based on these targets"
   ]
  },
  {
   "cell_type": "code",
   "execution_count": 62,
   "metadata": {},
   "outputs": [
    {
     "data": {
      "text/plain": [
       "(17414, 7)"
      ]
     },
     "execution_count": 62,
     "metadata": {},
     "output_type": "execute_result"
    }
   ],
   "source": [
    "data_targets = sorted_data.loc[(sorted_data['Target ChEMBL ID'].isin(updated_tids)) ]\n",
    "data_targets.shape"
   ]
  },
  {
   "cell_type": "code",
   "execution_count": 70,
   "metadata": {},
   "outputs": [
    {
     "data": {
      "text/html": [
       "<div>\n",
       "<style scoped>\n",
       "    .dataframe tbody tr th:only-of-type {\n",
       "        vertical-align: middle;\n",
       "    }\n",
       "\n",
       "    .dataframe tbody tr th {\n",
       "        vertical-align: top;\n",
       "    }\n",
       "\n",
       "    .dataframe thead th {\n",
       "        text-align: right;\n",
       "    }\n",
       "</style>\n",
       "<table border=\"1\" class=\"dataframe\">\n",
       "  <thead>\n",
       "    <tr style=\"text-align: right;\">\n",
       "      <th></th>\n",
       "      <th>Molecule ChEMBL ID</th>\n",
       "      <th>Smiles</th>\n",
       "      <th>Standard Relation</th>\n",
       "      <th>Standard Value</th>\n",
       "      <th>Standard Units</th>\n",
       "      <th>Target ChEMBL ID</th>\n",
       "      <th>Target Name</th>\n",
       "    </tr>\n",
       "  </thead>\n",
       "  <tbody>\n",
       "    <tr>\n",
       "      <th>7205</th>\n",
       "      <td>CHEMBL2321905</td>\n",
       "      <td>COC(=O)c1cc(-c2ccc(NC(=O)c3cc(NC(=O)CCCOc4cc5c...</td>\n",
       "      <td>'='</td>\n",
       "      <td>1.300000e-03</td>\n",
       "      <td>nM</td>\n",
       "      <td>CHEMBL614725</td>\n",
       "      <td>MIA PaCa-2</td>\n",
       "    </tr>\n",
       "    <tr>\n",
       "      <th>14802</th>\n",
       "      <td>CHEMBL2324630</td>\n",
       "      <td>COC(=O)c1cc(-c2ccc(NC(=O)c3nc(NC(=O)CCCOc4cc5c...</td>\n",
       "      <td>'='</td>\n",
       "      <td>2.100000e-03</td>\n",
       "      <td>nM</td>\n",
       "      <td>CHEMBL614725</td>\n",
       "      <td>MIA PaCa-2</td>\n",
       "    </tr>\n",
       "    <tr>\n",
       "      <th>1235</th>\n",
       "      <td>CHEMBL63786</td>\n",
       "      <td>Brc1cccc(Nc2ncnc3cc4ccccc4cc23)c1</td>\n",
       "      <td>'='</td>\n",
       "      <td>3.000000e-03</td>\n",
       "      <td>nM</td>\n",
       "      <td>CHEMBL203</td>\n",
       "      <td>Epidermal growth factor receptor erbB1</td>\n",
       "    </tr>\n",
       "    <tr>\n",
       "      <th>3503</th>\n",
       "      <td>CHEMBL53711</td>\n",
       "      <td>CN(C)c1cc2c(Nc3cccc(Br)c3)ncnc2cn1</td>\n",
       "      <td>'='</td>\n",
       "      <td>6.000000e-03</td>\n",
       "      <td>nM</td>\n",
       "      <td>CHEMBL203</td>\n",
       "      <td>Epidermal growth factor receptor erbB1</td>\n",
       "    </tr>\n",
       "    <tr>\n",
       "      <th>10367</th>\n",
       "      <td>CHEMBL35820</td>\n",
       "      <td>CCOc1cc2ncnc(Nc3cccc(Br)c3)c2cc1OCC</td>\n",
       "      <td>'='</td>\n",
       "      <td>6.000000e-03</td>\n",
       "      <td>nM</td>\n",
       "      <td>CHEMBL203</td>\n",
       "      <td>Epidermal growth factor receptor erbB1</td>\n",
       "    </tr>\n",
       "    <tr>\n",
       "      <th>...</th>\n",
       "      <td>...</td>\n",
       "      <td>...</td>\n",
       "      <td>...</td>\n",
       "      <td>...</td>\n",
       "      <td>...</td>\n",
       "      <td>...</td>\n",
       "      <td>...</td>\n",
       "    </tr>\n",
       "    <tr>\n",
       "      <th>24910</th>\n",
       "      <td>CHEMBL1956069</td>\n",
       "      <td>COc1cccc(C(=O)c2sc(Nc3ccc(N4CCN(C(C)C)CC4)cc3)...</td>\n",
       "      <td>'='</td>\n",
       "      <td>2.000000e+07</td>\n",
       "      <td>nM</td>\n",
       "      <td>CHEMBL1957</td>\n",
       "      <td>Insulin-like growth factor I receptor</td>\n",
       "    </tr>\n",
       "    <tr>\n",
       "      <th>20086</th>\n",
       "      <td>CHEMBL1956070</td>\n",
       "      <td>CN1CCN(c2ccc(Nc3nc(N)c(C(=O)c4ccc5c(c4)OCCO5)s...</td>\n",
       "      <td>'='</td>\n",
       "      <td>2.200000e+07</td>\n",
       "      <td>nM</td>\n",
       "      <td>CHEMBL1957</td>\n",
       "      <td>Insulin-like growth factor I receptor</td>\n",
       "    </tr>\n",
       "    <tr>\n",
       "      <th>21689</th>\n",
       "      <td>CHEMBL1431</td>\n",
       "      <td>CN(C)C(=N)NC(=N)N</td>\n",
       "      <td>'='</td>\n",
       "      <td>2.226319e+07</td>\n",
       "      <td>nM</td>\n",
       "      <td>CHEMBL614725</td>\n",
       "      <td>MIA PaCa-2</td>\n",
       "    </tr>\n",
       "    <tr>\n",
       "      <th>16923</th>\n",
       "      <td>CHEMBL45068</td>\n",
       "      <td>O=C(CCc1ccc(O)cc1)c1c(O)cc(O)cc1O</td>\n",
       "      <td>'='</td>\n",
       "      <td>2.500000e+07</td>\n",
       "      <td>nM</td>\n",
       "      <td>CHEMBL203</td>\n",
       "      <td>Epidermal growth factor receptor erbB1</td>\n",
       "    </tr>\n",
       "    <tr>\n",
       "      <th>18289</th>\n",
       "      <td>CHEMBL6</td>\n",
       "      <td>COc1ccc2c(c1)c(CC(=O)O)c(C)n2C(=O)c1ccc(Cl)cc1</td>\n",
       "      <td>'&gt;'</td>\n",
       "      <td>1.000000e+08</td>\n",
       "      <td>nM</td>\n",
       "      <td>CHEMBL614725</td>\n",
       "      <td>MIA PaCa-2</td>\n",
       "    </tr>\n",
       "  </tbody>\n",
       "</table>\n",
       "<p>17414 rows × 7 columns</p>\n",
       "</div>"
      ],
      "text/plain": [
       "      Molecule ChEMBL ID                                             Smiles  \\\n",
       "7205       CHEMBL2321905  COC(=O)c1cc(-c2ccc(NC(=O)c3cc(NC(=O)CCCOc4cc5c...   \n",
       "14802      CHEMBL2324630  COC(=O)c1cc(-c2ccc(NC(=O)c3nc(NC(=O)CCCOc4cc5c...   \n",
       "1235         CHEMBL63786                  Brc1cccc(Nc2ncnc3cc4ccccc4cc23)c1   \n",
       "3503         CHEMBL53711                 CN(C)c1cc2c(Nc3cccc(Br)c3)ncnc2cn1   \n",
       "10367        CHEMBL35820                CCOc1cc2ncnc(Nc3cccc(Br)c3)c2cc1OCC   \n",
       "...                  ...                                                ...   \n",
       "24910      CHEMBL1956069  COc1cccc(C(=O)c2sc(Nc3ccc(N4CCN(C(C)C)CC4)cc3)...   \n",
       "20086      CHEMBL1956070  CN1CCN(c2ccc(Nc3nc(N)c(C(=O)c4ccc5c(c4)OCCO5)s...   \n",
       "21689         CHEMBL1431                                  CN(C)C(=N)NC(=N)N   \n",
       "16923        CHEMBL45068                  O=C(CCc1ccc(O)cc1)c1c(O)cc(O)cc1O   \n",
       "18289            CHEMBL6     COc1ccc2c(c1)c(CC(=O)O)c(C)n2C(=O)c1ccc(Cl)cc1   \n",
       "\n",
       "      Standard Relation  Standard Value Standard Units Target ChEMBL ID  \\\n",
       "7205                '='    1.300000e-03             nM     CHEMBL614725   \n",
       "14802               '='    2.100000e-03             nM     CHEMBL614725   \n",
       "1235                '='    3.000000e-03             nM        CHEMBL203   \n",
       "3503                '='    6.000000e-03             nM        CHEMBL203   \n",
       "10367               '='    6.000000e-03             nM        CHEMBL203   \n",
       "...                 ...             ...            ...              ...   \n",
       "24910               '='    2.000000e+07             nM       CHEMBL1957   \n",
       "20086               '='    2.200000e+07             nM       CHEMBL1957   \n",
       "21689               '='    2.226319e+07             nM     CHEMBL614725   \n",
       "16923               '='    2.500000e+07             nM        CHEMBL203   \n",
       "18289               '>'    1.000000e+08             nM     CHEMBL614725   \n",
       "\n",
       "                                  Target Name  \n",
       "7205                               MIA PaCa-2  \n",
       "14802                              MIA PaCa-2  \n",
       "1235   Epidermal growth factor receptor erbB1  \n",
       "3503   Epidermal growth factor receptor erbB1  \n",
       "10367  Epidermal growth factor receptor erbB1  \n",
       "...                                       ...  \n",
       "24910   Insulin-like growth factor I receptor  \n",
       "20086   Insulin-like growth factor I receptor  \n",
       "21689                              MIA PaCa-2  \n",
       "16923  Epidermal growth factor receptor erbB1  \n",
       "18289                              MIA PaCa-2  \n",
       "\n",
       "[17414 rows x 7 columns]"
      ]
     },
     "execution_count": 70,
     "metadata": {},
     "output_type": "execute_result"
    }
   ],
   "source": [
    "data_targets[(data_targets['Target ChEMBL ID'] == 'CHEMBL1957') & data_targets['Standard Value'] <= 18.0 ]"
   ]
  },
  {
   "cell_type": "markdown",
   "metadata": {},
   "source": [
    "### Filter based on Standard Value and add active/Inactive"
   ]
  },
  {
   "cell_type": "code",
   "execution_count": 87,
   "metadata": {},
   "outputs": [],
   "source": [
    "def add_active(row, ll, ul):\n",
    "    sv = row[\"Standard Value\"]\n",
    "    sr = row[\"Standard Relation\"]\n",
    "    if int(sv) <= ll and sr != '>':\n",
    "        return 1\n",
    "    else:\n",
    "        return 0"
   ]
  },
  {
   "cell_type": "code",
   "execution_count": 147,
   "metadata": {},
   "outputs": [],
   "source": [
    "def plot_active_inactive_stats(x, y, target):\n",
    "\n",
    "    x_pos = [i for i, _ in enumerate(x)]\n",
    "\n",
    "    plt.bar(x_pos, y, color='purple')\n",
    "    for i in range(len(y)):\n",
    "        plt.annotate(str(y[i]), xy=(x[i],y[i]), ha='center', va='bottom')\n",
    "    plt.xlabel(\"Active (1) and Inactive (0)\")\n",
    "    plt.ylabel(\"Count of values\")\n",
    "    plt.title(\"Plot for Active/Inactive {} ({})\".format(util_fn.target_abbr_from_id(target), \n",
    "                                                                           target))\n",
    "\n",
    "    plt.xticks(x_pos, x)\n",
    "\n",
    "    plt.show()\n",
    "\n"
   ]
  },
  {
   "cell_type": "code",
   "execution_count": 149,
   "metadata": {},
   "outputs": [
    {
     "data": {
      "image/png": "[encoded data removed]",
      "text/plain": [
       "<Figure size 432x288 with 1 Axes>"
      ]
     },
     "metadata": {
      "needs_background": "light"
     },
     "output_type": "display_data"
    },
    {
     "data": {
      "image/png": "[encoded data removed]",
      "text/plain": [
       "<Figure size 432x288 with 1 Axes>"
      ]
     },
     "metadata": {
      "needs_background": "light"
     },
     "output_type": "display_data"
    },
    {
     "data": {
      "image/png": "[encoded data removed]",
      "text/plain": [
       "<Figure size 432x288 with 1 Axes>"
      ]
     },
     "metadata": {
      "needs_background": "light"
     },
     "output_type": "display_data"
    },
    {
     "data": {
      "image/png": "[encoded data removed]",
      "text/plain": [
       "<Figure size 432x288 with 1 Axes>"
      ]
     },
     "metadata": {
      "needs_background": "light"
     },
     "output_type": "display_data"
    }
   ],
   "source": [
    "target_dfs = []\n",
    "target_act_inact_count = {}\n",
    "\n",
    "\n",
    "for target in updated_tids:\n",
    "    per_25 = float(targets_dict[target][\"percentiles\"][1])\n",
    "    per_75 = float(targets_dict[target][\"percentiles\"][3])\n",
    "    df = data_targets[(data_targets['Target ChEMBL ID'] == target)]\n",
    "    df = df[(df['Standard Value'] <= per_25) | (df['Standard Value'] >= per_75)]\n",
    "    df['Active'] = df.apply(add_active, args=(per_25,per_75), axis=1)\n",
    "    #target_act_inact_count[target]['active_count'] = len(df[df['Active'] == 1])\n",
    "    \n",
    "    x_vals = df['Active'].value_counts().index.tolist()\n",
    "    y_vals = df['Active'].value_counts().values.tolist()\n",
    "\n",
    "    plot_active_inactive_stats(x_vals, y_vals, target)\n",
    "    \n",
    "    target_dfs.append(df)\n",
    "    \n",
    "    \n",
    "cleaned_data = pd.concat(target_dfs)"
   ]
  },
  {
   "cell_type": "code",
   "execution_count": 150,
   "metadata": {},
   "outputs": [],
   "source": [
    "cleaned_data.to_csv(\"Cleaned.csv\")"
   ]
  },
  {
   "cell_type": "markdown",
   "metadata": {},
   "source": [
    "## Extra Things to consider"
   ]
  },
  {
   "cell_type": "code",
   "execution_count": 70,
   "metadata": {},
   "outputs": [
    {
     "name": "stdout",
     "output_type": "stream",
     "text": [
      "[15308, 2849, 496, 179, 49, 23, 18, 5, 3, 4, 3, 2, 3, 1, 1, 1, 2, 1, 1, 1, 1, 1, 1, 1, 1]\n",
      "[1, 2, 3, 4, 5, 6, 7, 8, 9, 10, 11, 12, 13, 15, 16, 17, 19, 24, 28, 29, 36, 37, 60, 82, 123]\n"
     ]
    }
   ],
   "source": [
    "interaction_count = group_data.value_counts().sort_index().index.tolist()\n",
    "interaction_vals = group_data.value_counts().sort_index().values.tolist()\n",
    "\n",
    "print(interaction_vals)\n",
    "print(interaction_count)"
   ]
  },
  {
   "cell_type": "code",
   "execution_count": 33,
   "metadata": {},
   "outputs": [
    {
     "name": "stdout",
     "output_type": "stream",
     "text": [
      "Targets with  1 interactions are \n",
      "\n",
      "['CHEMBL4026', 'CHEMBL209', 'CHEMBL2189121', 'CHEMBL614725', 'CHEMBL1957', 'CHEMBL3474', 'CHEMBL1955', 'CHEMBL3331', 'CHEMBL203', 'CHEMBL2842'] \n"
     ]
    }
   ],
   "source": [
    "target_mol_inter = group_data.to_frame()\n",
    "counter_values = target_mol_inter[target_mol_inter['COUNTER_INT'] == 1]\n",
    "list_interactions = list(set(counter_values.index)) \n",
    "a_list = [a_tuple[1:] for a_tuple in list_interactions]\n",
    "\n",
    "targets = []\n",
    "\n",
    "for t in set(a_list):\n",
    "    targets.append(t[0])\n",
    "\n",
    "print('Targets with  1 interactions are \\n\\n{} '.format(targets))"
   ]
  },
  {
   "cell_type": "code",
   "execution_count": 71,
   "metadata": {},
   "outputs": [
    {
     "data": {
      "text/plain": [
       "(24427, 8)"
      ]
     },
     "execution_count": 71,
     "metadata": {},
     "output_type": "execute_result"
    }
   ],
   "source": [
    "target_mol_data =  target_data[target_data['Target ChEMBL ID'].isin(targets)]\n",
    "target_mol_data.shape"
   ]
  },
  {
   "cell_type": "code",
   "execution_count": 208,
   "metadata": {},
   "outputs": [],
   "source": [
    "target_mol_data.to_csv(\"Cleaned-data.csv\")"
   ]
  },
  {
   "cell_type": "code",
   "execution_count": 39,
   "metadata": {},
   "outputs": [
    {
     "data": {
      "text/html": [
       "<div>\n",
       "<style scoped>\n",
       "    .dataframe tbody tr th:only-of-type {\n",
       "        vertical-align: middle;\n",
       "    }\n",
       "\n",
       "    .dataframe tbody tr th {\n",
       "        vertical-align: top;\n",
       "    }\n",
       "\n",
       "    .dataframe thead th {\n",
       "        text-align: right;\n",
       "    }\n",
       "</style>\n",
       "<table border=\"1\" class=\"dataframe\">\n",
       "  <thead>\n",
       "    <tr style=\"text-align: right;\">\n",
       "      <th></th>\n",
       "      <th>Molecule ChEMBL ID</th>\n",
       "      <th>Smiles</th>\n",
       "      <th>Standard Relation</th>\n",
       "      <th>Standard Value</th>\n",
       "      <th>Standard Units</th>\n",
       "      <th>Target ChEMBL ID</th>\n",
       "      <th>Target Name</th>\n",
       "      <th>COUNTER_INT</th>\n",
       "    </tr>\n",
       "  </thead>\n",
       "  <tbody>\n",
       "    <tr>\n",
       "      <th>10</th>\n",
       "      <td>CHEMBL24828</td>\n",
       "      <td>COc1cc2c(Nc3ccc(Br)cc3F)ncnc2cc1OCC1CCN(C)CC1</td>\n",
       "      <td>'&gt;'</td>\n",
       "      <td>10000.0</td>\n",
       "      <td>nM</td>\n",
       "      <td>CHEMBL203</td>\n",
       "      <td>Epidermal growth factor receptor erbB1</td>\n",
       "      <td>1</td>\n",
       "    </tr>\n",
       "    <tr>\n",
       "      <th>1238</th>\n",
       "      <td>CHEMBL24828</td>\n",
       "      <td>COc1cc2c(Nc3ccc(Br)cc3F)ncnc2cc1OCC1CCN(C)CC1</td>\n",
       "      <td>'='</td>\n",
       "      <td>112.4</td>\n",
       "      <td>nM</td>\n",
       "      <td>CHEMBL203</td>\n",
       "      <td>Epidermal growth factor receptor erbB1</td>\n",
       "      <td>1</td>\n",
       "    </tr>\n",
       "    <tr>\n",
       "      <th>3318</th>\n",
       "      <td>CHEMBL24828</td>\n",
       "      <td>COc1cc2c(Nc3ccc(Br)cc3F)ncnc2cc1OCC1CCN(C)CC1</td>\n",
       "      <td>'='</td>\n",
       "      <td>16.0</td>\n",
       "      <td>nM</td>\n",
       "      <td>CHEMBL203</td>\n",
       "      <td>Epidermal growth factor receptor erbB1</td>\n",
       "      <td>1</td>\n",
       "    </tr>\n",
       "    <tr>\n",
       "      <th>3908</th>\n",
       "      <td>CHEMBL24828</td>\n",
       "      <td>COc1cc2c(Nc3ccc(Br)cc3F)ncnc2cc1OCC1CCN(C)CC1</td>\n",
       "      <td>'='</td>\n",
       "      <td>190.0</td>\n",
       "      <td>nM</td>\n",
       "      <td>CHEMBL203</td>\n",
       "      <td>Epidermal growth factor receptor erbB1</td>\n",
       "      <td>1</td>\n",
       "    </tr>\n",
       "    <tr>\n",
       "      <th>6087</th>\n",
       "      <td>CHEMBL24828</td>\n",
       "      <td>COc1cc2c(Nc3ccc(Br)cc3F)ncnc2cc1OCC1CCN(C)CC1</td>\n",
       "      <td>'='</td>\n",
       "      <td>500.0</td>\n",
       "      <td>nM</td>\n",
       "      <td>CHEMBL203</td>\n",
       "      <td>Epidermal growth factor receptor erbB1</td>\n",
       "      <td>1</td>\n",
       "    </tr>\n",
       "    <tr>\n",
       "      <th>6688</th>\n",
       "      <td>CHEMBL24828</td>\n",
       "      <td>COc1cc2c(Nc3ccc(Br)cc3F)ncnc2cc1OCC1CCN(C)CC1</td>\n",
       "      <td>'='</td>\n",
       "      <td>500.0</td>\n",
       "      <td>nM</td>\n",
       "      <td>CHEMBL203</td>\n",
       "      <td>Epidermal growth factor receptor erbB1</td>\n",
       "      <td>1</td>\n",
       "    </tr>\n",
       "    <tr>\n",
       "      <th>8529</th>\n",
       "      <td>CHEMBL24828</td>\n",
       "      <td>COc1cc2c(Nc3ccc(Br)cc3F)ncnc2cc1OCC1CCN(C)CC1</td>\n",
       "      <td>'='</td>\n",
       "      <td>100.0</td>\n",
       "      <td>nM</td>\n",
       "      <td>CHEMBL203</td>\n",
       "      <td>Epidermal growth factor receptor erbB1</td>\n",
       "      <td>1</td>\n",
       "    </tr>\n",
       "    <tr>\n",
       "      <th>13493</th>\n",
       "      <td>CHEMBL24828</td>\n",
       "      <td>COc1cc2c(Nc3ccc(Br)cc3F)ncnc2cc1OCC1CCN(C)CC1</td>\n",
       "      <td>'='</td>\n",
       "      <td>800.0</td>\n",
       "      <td>nM</td>\n",
       "      <td>CHEMBL203</td>\n",
       "      <td>Epidermal growth factor receptor erbB1</td>\n",
       "      <td>1</td>\n",
       "    </tr>\n",
       "    <tr>\n",
       "      <th>14171</th>\n",
       "      <td>CHEMBL24828</td>\n",
       "      <td>COc1cc2c(Nc3ccc(Br)cc3F)ncnc2cc1OCC1CCN(C)CC1</td>\n",
       "      <td>'='</td>\n",
       "      <td>800.0</td>\n",
       "      <td>nM</td>\n",
       "      <td>CHEMBL203</td>\n",
       "      <td>Epidermal growth factor receptor erbB1</td>\n",
       "      <td>1</td>\n",
       "    </tr>\n",
       "    <tr>\n",
       "      <th>15379</th>\n",
       "      <td>CHEMBL24828</td>\n",
       "      <td>COc1cc2c(Nc3ccc(Br)cc3F)ncnc2cc1OCC1CCN(C)CC1</td>\n",
       "      <td>'='</td>\n",
       "      <td>200.0</td>\n",
       "      <td>nM</td>\n",
       "      <td>CHEMBL203</td>\n",
       "      <td>Epidermal growth factor receptor erbB1</td>\n",
       "      <td>1</td>\n",
       "    </tr>\n",
       "    <tr>\n",
       "      <th>21894</th>\n",
       "      <td>CHEMBL24828</td>\n",
       "      <td>COc1cc2c(Nc3ccc(Br)cc3F)ncnc2cc1OCC1CCN(C)CC1</td>\n",
       "      <td>'='</td>\n",
       "      <td>11.0</td>\n",
       "      <td>nM</td>\n",
       "      <td>CHEMBL203</td>\n",
       "      <td>Epidermal growth factor receptor erbB1</td>\n",
       "      <td>1</td>\n",
       "    </tr>\n",
       "    <tr>\n",
       "      <th>23091</th>\n",
       "      <td>CHEMBL24828</td>\n",
       "      <td>COc1cc2c(Nc3ccc(Br)cc3F)ncnc2cc1OCC1CCN(C)CC1</td>\n",
       "      <td>'='</td>\n",
       "      <td>500.0</td>\n",
       "      <td>nM</td>\n",
       "      <td>CHEMBL203</td>\n",
       "      <td>Epidermal growth factor receptor erbB1</td>\n",
       "      <td>1</td>\n",
       "    </tr>\n",
       "  </tbody>\n",
       "</table>\n",
       "</div>"
      ],
      "text/plain": [
       "      Molecule ChEMBL ID                                         Smiles  \\\n",
       "10           CHEMBL24828  COc1cc2c(Nc3ccc(Br)cc3F)ncnc2cc1OCC1CCN(C)CC1   \n",
       "1238         CHEMBL24828  COc1cc2c(Nc3ccc(Br)cc3F)ncnc2cc1OCC1CCN(C)CC1   \n",
       "3318         CHEMBL24828  COc1cc2c(Nc3ccc(Br)cc3F)ncnc2cc1OCC1CCN(C)CC1   \n",
       "3908         CHEMBL24828  COc1cc2c(Nc3ccc(Br)cc3F)ncnc2cc1OCC1CCN(C)CC1   \n",
       "6087         CHEMBL24828  COc1cc2c(Nc3ccc(Br)cc3F)ncnc2cc1OCC1CCN(C)CC1   \n",
       "6688         CHEMBL24828  COc1cc2c(Nc3ccc(Br)cc3F)ncnc2cc1OCC1CCN(C)CC1   \n",
       "8529         CHEMBL24828  COc1cc2c(Nc3ccc(Br)cc3F)ncnc2cc1OCC1CCN(C)CC1   \n",
       "13493        CHEMBL24828  COc1cc2c(Nc3ccc(Br)cc3F)ncnc2cc1OCC1CCN(C)CC1   \n",
       "14171        CHEMBL24828  COc1cc2c(Nc3ccc(Br)cc3F)ncnc2cc1OCC1CCN(C)CC1   \n",
       "15379        CHEMBL24828  COc1cc2c(Nc3ccc(Br)cc3F)ncnc2cc1OCC1CCN(C)CC1   \n",
       "21894        CHEMBL24828  COc1cc2c(Nc3ccc(Br)cc3F)ncnc2cc1OCC1CCN(C)CC1   \n",
       "23091        CHEMBL24828  COc1cc2c(Nc3ccc(Br)cc3F)ncnc2cc1OCC1CCN(C)CC1   \n",
       "\n",
       "      Standard Relation  Standard Value Standard Units Target ChEMBL ID  \\\n",
       "10                  '>'         10000.0             nM        CHEMBL203   \n",
       "1238                '='           112.4             nM        CHEMBL203   \n",
       "3318                '='            16.0             nM        CHEMBL203   \n",
       "3908                '='           190.0             nM        CHEMBL203   \n",
       "6087                '='           500.0             nM        CHEMBL203   \n",
       "6688                '='           500.0             nM        CHEMBL203   \n",
       "8529                '='           100.0             nM        CHEMBL203   \n",
       "13493               '='           800.0             nM        CHEMBL203   \n",
       "14171               '='           800.0             nM        CHEMBL203   \n",
       "15379               '='           200.0             nM        CHEMBL203   \n",
       "21894               '='            11.0             nM        CHEMBL203   \n",
       "23091               '='           500.0             nM        CHEMBL203   \n",
       "\n",
       "                                  Target Name  COUNTER_INT  \n",
       "10     Epidermal growth factor receptor erbB1            1  \n",
       "1238   Epidermal growth factor receptor erbB1            1  \n",
       "3318   Epidermal growth factor receptor erbB1            1  \n",
       "3908   Epidermal growth factor receptor erbB1            1  \n",
       "6087   Epidermal growth factor receptor erbB1            1  \n",
       "6688   Epidermal growth factor receptor erbB1            1  \n",
       "8529   Epidermal growth factor receptor erbB1            1  \n",
       "13493  Epidermal growth factor receptor erbB1            1  \n",
       "14171  Epidermal growth factor receptor erbB1            1  \n",
       "15379  Epidermal growth factor receptor erbB1            1  \n",
       "21894  Epidermal growth factor receptor erbB1            1  \n",
       "23091  Epidermal growth factor receptor erbB1            1  "
      ]
     },
     "execution_count": 39,
     "metadata": {},
     "output_type": "execute_result"
    }
   ],
   "source": [
    "target_mol_data[(target_mol_data[\"Target ChEMBL ID\"] == \"CHEMBL203\") & (target_mol_data[\"Molecule ChEMBL ID\"] == \"CHEMBL24828\")]"
   ]
  },
  {
   "cell_type": "code",
   "execution_count": null,
   "metadata": {},
   "outputs": [],
   "source": []
  }
 ],
 "metadata": {
  "kernelspec": {
   "display_name": "Python 3",
   "language": "python",
   "name": "python3"
  },
  "language_info": {
   "codemirror_mode": {
    "name": "ipython",
    "version": 3
   },
   "file_extension": ".py",
   "mimetype": "text/x-python",
   "name": "python",
   "nbconvert_exporter": "python",
   "pygments_lexer": "ipython3",
   "version": "3.7.9"
  }
 },
 "nbformat": 4,
 "nbformat_minor": 4
}
