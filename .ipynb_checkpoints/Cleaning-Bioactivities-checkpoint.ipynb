{
 "cells": [
  {
   "cell_type": "code",
   "execution_count": 87,
   "metadata": {},
   "outputs": [],
   "source": [
    "import pandas as pd\n",
    "import matplotlib.pyplot as plt\n",
    "import seaborn as sns\n",
    "from pandas.plotting import table\n",
    "from collections import Counter\n",
    "import numpy as np\n",
    "import scipy as sp\n",
    "%matplotlib inline"
   ]
  },
  {
   "cell_type": "code",
   "execution_count": 88,
   "metadata": {},
   "outputs": [],
   "source": [
    "data = pd.read_csv(\"data_eda.csv\", usecols = [\"Molecule ChEMBL ID\", \"Smiles\", \"Standard Value\", \n",
    "                                                                \"Standard Units\", \"Target ChEMBL ID\", \n",
    "                                                                \"Standard Relation\", \"Target Name\", \"COUNTER\"])"
   ]
  },
  {
   "cell_type": "code",
   "execution_count": 89,
   "metadata": {},
   "outputs": [
    {
     "data": {
      "text/html": [
       "<div>\n",
       "<style scoped>\n",
       "    .dataframe tbody tr th:only-of-type {\n",
       "        vertical-align: middle;\n",
       "    }\n",
       "\n",
       "    .dataframe tbody tr th {\n",
       "        vertical-align: top;\n",
       "    }\n",
       "\n",
       "    .dataframe thead th {\n",
       "        text-align: right;\n",
       "    }\n",
       "</style>\n",
       "<table border=\"1\" class=\"dataframe\">\n",
       "  <thead>\n",
       "    <tr style=\"text-align: right;\">\n",
       "      <th></th>\n",
       "      <th>Molecule ChEMBL ID</th>\n",
       "      <th>Smiles</th>\n",
       "      <th>Standard Relation</th>\n",
       "      <th>Standard Value</th>\n",
       "      <th>Standard Units</th>\n",
       "      <th>Target ChEMBL ID</th>\n",
       "      <th>Target Name</th>\n",
       "      <th>COUNTER</th>\n",
       "    </tr>\n",
       "  </thead>\n",
       "  <tbody>\n",
       "    <tr>\n",
       "      <th>0</th>\n",
       "      <td>CHEMBL77814</td>\n",
       "      <td>N#CC(C#N)=CNc1ccc(O)cc1</td>\n",
       "      <td>'='</td>\n",
       "      <td>350000.00</td>\n",
       "      <td>nM</td>\n",
       "      <td>CHEMBL203</td>\n",
       "      <td>Epidermal growth factor receptor erbB1</td>\n",
       "      <td>1</td>\n",
       "    </tr>\n",
       "    <tr>\n",
       "      <th>1</th>\n",
       "      <td>CHEMBL113356</td>\n",
       "      <td>Cn1c(=O)c(-c2c(Cl)cccc2Cl)cc2cnc(NCc3ccccc3)nc21</td>\n",
       "      <td>'&gt;'</td>\n",
       "      <td>50000.00</td>\n",
       "      <td>nM</td>\n",
       "      <td>CHEMBL203</td>\n",
       "      <td>Epidermal growth factor receptor erbB1</td>\n",
       "      <td>1</td>\n",
       "    </tr>\n",
       "    <tr>\n",
       "      <th>2</th>\n",
       "      <td>CHEMBL60200</td>\n",
       "      <td>Cc1ccc2c(c1)c(C(=O)Nc1ccccc1)c(SSc1c(C(=O)Nc3c...</td>\n",
       "      <td>'&gt;'</td>\n",
       "      <td>100000.00</td>\n",
       "      <td>nM</td>\n",
       "      <td>CHEMBL203</td>\n",
       "      <td>Epidermal growth factor receptor erbB1</td>\n",
       "      <td>1</td>\n",
       "    </tr>\n",
       "    <tr>\n",
       "      <th>3</th>\n",
       "      <td>CHEMBL540096</td>\n",
       "      <td>CCOC(=O)c1ccc(OC(=O)c2ccc(NC(=N)N)cc2)cc1.Cl</td>\n",
       "      <td>'='</td>\n",
       "      <td>1.60</td>\n",
       "      <td>nM</td>\n",
       "      <td>CHEMBL209</td>\n",
       "      <td>Trypsin I</td>\n",
       "      <td>1</td>\n",
       "    </tr>\n",
       "    <tr>\n",
       "      <th>4</th>\n",
       "      <td>CHEMBL53463</td>\n",
       "      <td>COc1cccc2c1C(=O)c1c(O)c3c(c(O)c1C2=O)C[C@@](O)...</td>\n",
       "      <td>'='</td>\n",
       "      <td>316.23</td>\n",
       "      <td>nM</td>\n",
       "      <td>CHEMBL614725</td>\n",
       "      <td>MIA PaCa-2</td>\n",
       "      <td>1</td>\n",
       "    </tr>\n",
       "  </tbody>\n",
       "</table>\n",
       "</div>"
      ],
      "text/plain": [
       "  Molecule ChEMBL ID                                             Smiles  \\\n",
       "0        CHEMBL77814                            N#CC(C#N)=CNc1ccc(O)cc1   \n",
       "1       CHEMBL113356   Cn1c(=O)c(-c2c(Cl)cccc2Cl)cc2cnc(NCc3ccccc3)nc21   \n",
       "2        CHEMBL60200  Cc1ccc2c(c1)c(C(=O)Nc1ccccc1)c(SSc1c(C(=O)Nc3c...   \n",
       "3       CHEMBL540096       CCOC(=O)c1ccc(OC(=O)c2ccc(NC(=N)N)cc2)cc1.Cl   \n",
       "4        CHEMBL53463  COc1cccc2c1C(=O)c1c(O)c3c(c(O)c1C2=O)C[C@@](O)...   \n",
       "\n",
       "  Standard Relation  Standard Value Standard Units Target ChEMBL ID  \\\n",
       "0               '='       350000.00             nM        CHEMBL203   \n",
       "1               '>'        50000.00             nM        CHEMBL203   \n",
       "2               '>'       100000.00             nM        CHEMBL203   \n",
       "3               '='            1.60             nM        CHEMBL209   \n",
       "4               '='          316.23             nM     CHEMBL614725   \n",
       "\n",
       "                              Target Name  COUNTER  \n",
       "0  Epidermal growth factor receptor erbB1        1  \n",
       "1  Epidermal growth factor receptor erbB1        1  \n",
       "2  Epidermal growth factor receptor erbB1        1  \n",
       "3                               Trypsin I        1  \n",
       "4                              MIA PaCa-2        1  "
      ]
     },
     "execution_count": 89,
     "metadata": {},
     "output_type": "execute_result"
    }
   ],
   "source": [
    "data.head()"
   ]
  },
  {
   "cell_type": "code",
   "execution_count": 90,
   "metadata": {},
   "outputs": [
    {
     "data": {
      "text/plain": [
       "(26266, 8)"
      ]
     },
     "execution_count": 90,
     "metadata": {},
     "output_type": "execute_result"
    }
   ],
   "source": [
    "data.shape"
   ]
  },
  {
   "cell_type": "markdown",
   "metadata": {},
   "source": [
    "### Drop NA rows"
   ]
  },
  {
   "cell_type": "code",
   "execution_count": 91,
   "metadata": {},
   "outputs": [],
   "source": [
    "data.dropna(inplace=True)"
   ]
  },
  {
   "cell_type": "code",
   "execution_count": 92,
   "metadata": {},
   "outputs": [
    {
     "name": "stdout",
     "output_type": "stream",
     "text": [
      "Columns which have empty values: \n",
      "\n",
      "Molecule ChEMBL ID    0\n",
      "Smiles                0\n",
      "Standard Relation     0\n",
      "Standard Value        0\n",
      "Standard Units        0\n",
      "Target ChEMBL ID      0\n",
      "Target Name           0\n",
      "COUNTER               0\n",
      "dtype: int64 \n"
     ]
    }
   ],
   "source": [
    "# Na values\n",
    "print(\"Columns which have empty values: \\n\\n{} \".format(data.isna().sum()))"
   ]
  },
  {
   "cell_type": "code",
   "execution_count": 93,
   "metadata": {},
   "outputs": [
    {
     "data": {
      "text/plain": [
       "(24763, 8)"
      ]
     },
     "execution_count": 93,
     "metadata": {},
     "output_type": "execute_result"
    }
   ],
   "source": [
    "data.shape"
   ]
  },
  {
   "cell_type": "markdown",
   "metadata": {},
   "source": [
    "## Clean by Standard Value and Standard Units"
   ]
  },
  {
   "cell_type": "code",
   "execution_count": 107,
   "metadata": {},
   "outputs": [],
   "source": [
    "def print_units(df):\n",
    "    # List Standard units used\n",
    "    sv_units = set(df[\"Standard Units\"].tolist())\n",
    "    print(\"All standard value units, {}\".format(str(sv_units)))\n",
    "\n"
   ]
  },
  {
   "cell_type": "code",
   "execution_count": 110,
   "metadata": {},
   "outputs": [
    {
     "name": "stdout",
     "output_type": "stream",
     "text": [
      "All standard value units, {'/uM', 'ug/g', 'ug.mL-1', 'nM', \"10'7nM\"}\n"
     ]
    }
   ],
   "source": [
    "print_units(data)"
   ]
  },
  {
   "cell_type": "code",
   "execution_count": 111,
   "metadata": {},
   "outputs": [
    {
     "name": "stdout",
     "output_type": "stream",
     "text": [
      "All standard value units, {'/uM', 'nM'}\n"
     ]
    }
   ],
   "source": [
    "sv_data =  data[data['Standard Units'].isin([\"/uM\", \"nM\"])]\n",
    "\n",
    "\n",
    "# Check units again\n",
    "print_units(sv_data)"
   ]
  },
  {
   "cell_type": "code",
   "execution_count": 112,
   "metadata": {},
   "outputs": [],
   "source": [
    "def convert_to_nm(r):\n",
    "    unit = r[\"Standard Units\"]\n",
    "    factor = conversion[unit]\n",
    "    r[\"Standard Value\"] = r[\"Standard Value\"] * factor\n",
    "    r[\"Standard Units\"] = \"nM\"\n",
    "\n",
    "    return r\n"
   ]
  },
  {
   "cell_type": "code",
   "execution_count": 113,
   "metadata": {},
   "outputs": [],
   "source": [
    "conversion = {\"/uM\": 1000, \"nM\": 1}\n",
    "sv_data = sv_data.apply(convert_to_nm, axis=1)"
   ]
  },
  {
   "cell_type": "code",
   "execution_count": 114,
   "metadata": {},
   "outputs": [
    {
     "name": "stdout",
     "output_type": "stream",
     "text": [
      "All standard value units, {'nM'}\n"
     ]
    }
   ],
   "source": [
    "print_units(sv_data)"
   ]
  },
  {
   "cell_type": "code",
   "execution_count": 115,
   "metadata": {},
   "outputs": [
    {
     "data": {
      "text/plain": [
       "(24559, 8)"
      ]
     },
     "execution_count": 115,
     "metadata": {},
     "output_type": "execute_result"
    }
   ],
   "source": [
    "sv_data.shape"
   ]
  },
  {
   "cell_type": "markdown",
   "metadata": {},
   "source": [
    "## Clean by Compounds"
   ]
  },
  {
   "cell_type": "code",
   "execution_count": 131,
   "metadata": {},
   "outputs": [
    {
     "data": {
      "text/plain": [
       "0          CHEMBL939\n",
       "1          CHEMBL553\n",
       "2      CHEMBL3353410\n",
       "3          CHEMBL554\n",
       "4       CHEMBL388978\n",
       "           ...      \n",
       "150     CHEMBL115440\n",
       "151     CHEMBL428647\n",
       "152      CHEMBL38927\n",
       "153     CHEMBL551264\n",
       "154     CHEMBL249295\n",
       "Name: unique_values, Length: 155, dtype: object"
      ]
     },
     "execution_count": 131,
     "metadata": {},
     "output_type": "execute_result"
    }
   ],
   "source": [
    "## Keep compounds with atleast 5 data points\n",
    "vc_mol = sv_data['Molecule ChEMBL ID'].value_counts().rename_axis('unique_values').reset_index(name='counts')\n",
    "\n",
    "vc_mol = vc_mol[vc_mol[\"counts\"] >= 5]\n",
    "compound_ids = vc_mol[\"unique_values\"]\n"
   ]
  },
  {
   "cell_type": "markdown",
   "metadata": {},
   "source": [
    "## Clean by Targets"
   ]
  },
  {
   "cell_type": "code",
   "execution_count": 121,
   "metadata": {},
   "outputs": [
    {
     "data": {
      "text/plain": [
       "CHEMBL203        11150\n",
       "CHEMBL2842        4516\n",
       "CHEMBL1957        4300\n",
       "CHEMBL614725      1898\n",
       "CHEMBL4026         918\n",
       "CHEMBL3474         588\n",
       "CHEMBL209          566\n",
       "CHEMBL1955         491\n",
       "CHEMBL2189121       93\n",
       "CHEMBL3331          30\n",
       "CHEMBL1910           9\n",
       "Name: Target ChEMBL ID, dtype: int64"
      ]
     },
     "execution_count": 121,
     "metadata": {},
     "output_type": "execute_result"
    }
   ],
   "source": [
    "vc_targets = sv_data['Target ChEMBL ID'].value_counts()\n",
    "target_count = vc_targets.to_frame()\n",
    "counter_values = target_mol_inter[target_mol_inter['COUNTER'] >= 7]"
   ]
  },
  {
   "cell_type": "code",
   "execution_count": 120,
   "metadata": {},
   "outputs": [
    {
     "data": {
      "text/plain": [
       "<matplotlib.axes._subplots.AxesSubplot at 0x1a2c769550>"
      ]
     },
     "execution_count": 120,
     "metadata": {},
     "output_type": "execute_result"
    },
    {
     "data": {
      "image/png": "[encoded data removed]",
      "text/plain": [
       "<Figure size 432x288 with 1 Axes>"
      ]
     },
     "metadata": {
      "needs_background": "light"
     },
     "output_type": "display_data"
    }
   ],
   "source": [
    "\n",
    "sv_data[sv_data[\"Standard Value\"] > 3000000][\"Standard Value\"].value_counts().sort_index().plot(kind='bar')"
   ]
  },
  {
   "cell_type": "code",
   "execution_count": null,
   "metadata": {},
   "outputs": [],
   "source": []
  },
  {
   "cell_type": "code",
   "execution_count": null,
   "metadata": {},
   "outputs": [],
   "source": []
  }
 ],
 "metadata": {
  "kernelspec": {
   "display_name": "Python 3",
   "language": "python",
   "name": "python3"
  },
  "language_info": {
   "codemirror_mode": {
    "name": "ipython",
    "version": 3
   },
   "file_extension": ".py",
   "mimetype": "text/x-python",
   "name": "python",
   "nbconvert_exporter": "python",
   "pygments_lexer": "ipython3",
   "version": "3.7.6"
  }
 },
 "nbformat": 4,
 "nbformat_minor": 4
}
