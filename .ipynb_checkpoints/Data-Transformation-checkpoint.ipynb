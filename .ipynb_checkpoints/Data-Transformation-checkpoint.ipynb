{
 "cells": [
  {
   "cell_type": "code",
   "execution_count": 3,
   "metadata": {},
   "outputs": [],
   "source": [
    "import pandas as pd\n",
    "import matplotlib.pyplot as plt\n",
    "import seaborn as sns\n",
    "from pandas.plotting import table\n",
    "from collections import Counter\n",
    "import numpy as np\n",
    "import scipy as sp\n",
    "%matplotlib inline"
   ]
  },
  {
   "cell_type": "code",
   "execution_count": 7,
   "metadata": {},
   "outputs": [],
   "source": [
    "data = pd.read_csv(\"Cleaned.csv\", usecols = [\"Molecule ChEMBL ID\", \"Smiles\", \"Standard Value\", \n",
    "                                                                \"Standard Units\", \"Target ChEMBL ID\", \n",
    "                                                                \"Standard Relation\", \"Target Name\", \"Active\"])"
   ]
  },
  {
   "cell_type": "code",
   "execution_count": 8,
   "metadata": {},
   "outputs": [
    {
     "data": {
      "text/plain": [
       "(8727, 8)"
      ]
     },
     "execution_count": 8,
     "metadata": {},
     "output_type": "execute_result"
    }
   ],
   "source": [
    "data.shape"
   ]
  },
  {
   "cell_type": "code",
   "execution_count": 9,
   "metadata": {},
   "outputs": [
    {
     "data": {
      "text/html": [
       "<div>\n",
       "<style scoped>\n",
       "    .dataframe tbody tr th:only-of-type {\n",
       "        vertical-align: middle;\n",
       "    }\n",
       "\n",
       "    .dataframe tbody tr th {\n",
       "        vertical-align: top;\n",
       "    }\n",
       "\n",
       "    .dataframe thead th {\n",
       "        text-align: right;\n",
       "    }\n",
       "</style>\n",
       "<table border=\"1\" class=\"dataframe\">\n",
       "  <thead>\n",
       "    <tr style=\"text-align: right;\">\n",
       "      <th></th>\n",
       "      <th>Molecule ChEMBL ID</th>\n",
       "      <th>Smiles</th>\n",
       "      <th>Standard Relation</th>\n",
       "      <th>Standard Value</th>\n",
       "      <th>Standard Units</th>\n",
       "      <th>Target ChEMBL ID</th>\n",
       "      <th>Target Name</th>\n",
       "      <th>Active</th>\n",
       "    </tr>\n",
       "  </thead>\n",
       "  <tbody>\n",
       "    <tr>\n",
       "      <th>0</th>\n",
       "      <td>CHEMBL3905758</td>\n",
       "      <td>CN1CCN(CCn2ccc(Nc3ncc4c(n3)-c3c(nn(C)c3-c3ccc(...</td>\n",
       "      <td>'='</td>\n",
       "      <td>0.05</td>\n",
       "      <td>nM</td>\n",
       "      <td>CHEMBL1957</td>\n",
       "      <td>Insulin-like growth factor I receptor</td>\n",
       "      <td>1</td>\n",
       "    </tr>\n",
       "    <tr>\n",
       "      <th>1</th>\n",
       "      <td>CHEMBL3950012</td>\n",
       "      <td>COc1cc(N2CCN(C(C)C)CC2)ccc1Nc1ncc2c(n1)-c1c(nn...</td>\n",
       "      <td>'='</td>\n",
       "      <td>0.05</td>\n",
       "      <td>nM</td>\n",
       "      <td>CHEMBL1957</td>\n",
       "      <td>Insulin-like growth factor I receptor</td>\n",
       "      <td>1</td>\n",
       "    </tr>\n",
       "    <tr>\n",
       "      <th>2</th>\n",
       "      <td>CHEMBL3928243</td>\n",
       "      <td>Cn1cc(-c2cccc(Cc3c4c(nn3C)CCc3cnc(Nc5ccn(CCCN6...</td>\n",
       "      <td>'='</td>\n",
       "      <td>0.08</td>\n",
       "      <td>nM</td>\n",
       "      <td>CHEMBL1957</td>\n",
       "      <td>Insulin-like growth factor I receptor</td>\n",
       "      <td>1</td>\n",
       "    </tr>\n",
       "    <tr>\n",
       "      <th>3</th>\n",
       "      <td>CHEMBL3955626</td>\n",
       "      <td>COc1cc(N2CCN(CCO)CC2)ccc1Nc1ncc2c(n1)-c1c(nn(C...</td>\n",
       "      <td>'='</td>\n",
       "      <td>0.08</td>\n",
       "      <td>nM</td>\n",
       "      <td>CHEMBL1957</td>\n",
       "      <td>Insulin-like growth factor I receptor</td>\n",
       "      <td>1</td>\n",
       "    </tr>\n",
       "    <tr>\n",
       "      <th>4</th>\n",
       "      <td>CHEMBL3979064</td>\n",
       "      <td>COc1cc(N2CCN(C3CCOCC3)CC2)ccc1Nc1ncc2c(n1)-c1c...</td>\n",
       "      <td>'='</td>\n",
       "      <td>0.08</td>\n",
       "      <td>nM</td>\n",
       "      <td>CHEMBL1957</td>\n",
       "      <td>Insulin-like growth factor I receptor</td>\n",
       "      <td>1</td>\n",
       "    </tr>\n",
       "  </tbody>\n",
       "</table>\n",
       "</div>"
      ],
      "text/plain": [
       "  Molecule ChEMBL ID                                             Smiles  \\\n",
       "0      CHEMBL3905758  CN1CCN(CCn2ccc(Nc3ncc4c(n3)-c3c(nn(C)c3-c3ccc(...   \n",
       "1      CHEMBL3950012  COc1cc(N2CCN(C(C)C)CC2)ccc1Nc1ncc2c(n1)-c1c(nn...   \n",
       "2      CHEMBL3928243  Cn1cc(-c2cccc(Cc3c4c(nn3C)CCc3cnc(Nc5ccn(CCCN6...   \n",
       "3      CHEMBL3955626  COc1cc(N2CCN(CCO)CC2)ccc1Nc1ncc2c(n1)-c1c(nn(C...   \n",
       "4      CHEMBL3979064  COc1cc(N2CCN(C3CCOCC3)CC2)ccc1Nc1ncc2c(n1)-c1c...   \n",
       "\n",
       "  Standard Relation  Standard Value Standard Units Target ChEMBL ID  \\\n",
       "0               '='            0.05             nM       CHEMBL1957   \n",
       "1               '='            0.05             nM       CHEMBL1957   \n",
       "2               '='            0.08             nM       CHEMBL1957   \n",
       "3               '='            0.08             nM       CHEMBL1957   \n",
       "4               '='            0.08             nM       CHEMBL1957   \n",
       "\n",
       "                             Target Name  Active  \n",
       "0  Insulin-like growth factor I receptor       1  \n",
       "1  Insulin-like growth factor I receptor       1  \n",
       "2  Insulin-like growth factor I receptor       1  \n",
       "3  Insulin-like growth factor I receptor       1  \n",
       "4  Insulin-like growth factor I receptor       1  "
      ]
     },
     "execution_count": 9,
     "metadata": {},
     "output_type": "execute_result"
    }
   ],
   "source": [
    "data.head()"
   ]
  },
  {
   "cell_type": "code",
   "execution_count": 10,
   "metadata": {},
   "outputs": [],
   "source": [
    "new_data = data"
   ]
  },
  {
   "cell_type": "code",
   "execution_count": 11,
   "metadata": {},
   "outputs": [
    {
     "data": {
      "text/html": [
       "<div>\n",
       "<style scoped>\n",
       "    .dataframe tbody tr th:only-of-type {\n",
       "        vertical-align: middle;\n",
       "    }\n",
       "\n",
       "    .dataframe tbody tr th {\n",
       "        vertical-align: top;\n",
       "    }\n",
       "\n",
       "    .dataframe thead th {\n",
       "        text-align: right;\n",
       "    }\n",
       "</style>\n",
       "<table border=\"1\" class=\"dataframe\">\n",
       "  <thead>\n",
       "    <tr style=\"text-align: right;\">\n",
       "      <th></th>\n",
       "      <th>Molecule ChEMBL ID</th>\n",
       "      <th>Smiles</th>\n",
       "      <th>Target ChEMBL ID</th>\n",
       "      <th>Active</th>\n",
       "    </tr>\n",
       "  </thead>\n",
       "  <tbody>\n",
       "    <tr>\n",
       "      <th>0</th>\n",
       "      <td>CHEMBL3905758</td>\n",
       "      <td>CN1CCN(CCn2ccc(Nc3ncc4c(n3)-c3c(nn(C)c3-c3ccc(...</td>\n",
       "      <td>CHEMBL1957</td>\n",
       "      <td>1</td>\n",
       "    </tr>\n",
       "    <tr>\n",
       "      <th>1</th>\n",
       "      <td>CHEMBL3950012</td>\n",
       "      <td>COc1cc(N2CCN(C(C)C)CC2)ccc1Nc1ncc2c(n1)-c1c(nn...</td>\n",
       "      <td>CHEMBL1957</td>\n",
       "      <td>1</td>\n",
       "    </tr>\n",
       "    <tr>\n",
       "      <th>2</th>\n",
       "      <td>CHEMBL3928243</td>\n",
       "      <td>Cn1cc(-c2cccc(Cc3c4c(nn3C)CCc3cnc(Nc5ccn(CCCN6...</td>\n",
       "      <td>CHEMBL1957</td>\n",
       "      <td>1</td>\n",
       "    </tr>\n",
       "    <tr>\n",
       "      <th>3</th>\n",
       "      <td>CHEMBL3955626</td>\n",
       "      <td>COc1cc(N2CCN(CCO)CC2)ccc1Nc1ncc2c(n1)-c1c(nn(C...</td>\n",
       "      <td>CHEMBL1957</td>\n",
       "      <td>1</td>\n",
       "    </tr>\n",
       "    <tr>\n",
       "      <th>4</th>\n",
       "      <td>CHEMBL3979064</td>\n",
       "      <td>COc1cc(N2CCN(C3CCOCC3)CC2)ccc1Nc1ncc2c(n1)-c1c...</td>\n",
       "      <td>CHEMBL1957</td>\n",
       "      <td>1</td>\n",
       "    </tr>\n",
       "    <tr>\n",
       "      <th>...</th>\n",
       "      <td>...</td>\n",
       "      <td>...</td>\n",
       "      <td>...</td>\n",
       "      <td>...</td>\n",
       "    </tr>\n",
       "    <tr>\n",
       "      <th>8722</th>\n",
       "      <td>CHEMBL66879</td>\n",
       "      <td>O=C(O)/C=C/c1ccc(O)cc1</td>\n",
       "      <td>CHEMBL203</td>\n",
       "      <td>0</td>\n",
       "    </tr>\n",
       "    <tr>\n",
       "      <th>8723</th>\n",
       "      <td>CHEMBL261238</td>\n",
       "      <td>CN(c1cccnc1)c1cc2c(Nc3ccc(F)c(Cl)c3)c(C#N)cnc2cn1</td>\n",
       "      <td>CHEMBL203</td>\n",
       "      <td>0</td>\n",
       "    </tr>\n",
       "    <tr>\n",
       "      <th>8724</th>\n",
       "      <td>CHEMBL76587</td>\n",
       "      <td>N#CC(C#N)Cc1ccc(O)cc1</td>\n",
       "      <td>CHEMBL203</td>\n",
       "      <td>0</td>\n",
       "    </tr>\n",
       "    <tr>\n",
       "      <th>8725</th>\n",
       "      <td>CHEMBL490510</td>\n",
       "      <td>O=C(/C=C/c1ccc(O)c(O)c1)c1ccc(O[C@@H]2O[C@H](C...</td>\n",
       "      <td>CHEMBL203</td>\n",
       "      <td>0</td>\n",
       "    </tr>\n",
       "    <tr>\n",
       "      <th>8726</th>\n",
       "      <td>CHEMBL45068</td>\n",
       "      <td>O=C(CCc1ccc(O)cc1)c1c(O)cc(O)cc1O</td>\n",
       "      <td>CHEMBL203</td>\n",
       "      <td>0</td>\n",
       "    </tr>\n",
       "  </tbody>\n",
       "</table>\n",
       "<p>8727 rows × 4 columns</p>\n",
       "</div>"
      ],
      "text/plain": [
       "     Molecule ChEMBL ID                                             Smiles  \\\n",
       "0         CHEMBL3905758  CN1CCN(CCn2ccc(Nc3ncc4c(n3)-c3c(nn(C)c3-c3ccc(...   \n",
       "1         CHEMBL3950012  COc1cc(N2CCN(C(C)C)CC2)ccc1Nc1ncc2c(n1)-c1c(nn...   \n",
       "2         CHEMBL3928243  Cn1cc(-c2cccc(Cc3c4c(nn3C)CCc3cnc(Nc5ccn(CCCN6...   \n",
       "3         CHEMBL3955626  COc1cc(N2CCN(CCO)CC2)ccc1Nc1ncc2c(n1)-c1c(nn(C...   \n",
       "4         CHEMBL3979064  COc1cc(N2CCN(C3CCOCC3)CC2)ccc1Nc1ncc2c(n1)-c1c...   \n",
       "...                 ...                                                ...   \n",
       "8722        CHEMBL66879                             O=C(O)/C=C/c1ccc(O)cc1   \n",
       "8723       CHEMBL261238  CN(c1cccnc1)c1cc2c(Nc3ccc(F)c(Cl)c3)c(C#N)cnc2cn1   \n",
       "8724        CHEMBL76587                              N#CC(C#N)Cc1ccc(O)cc1   \n",
       "8725       CHEMBL490510  O=C(/C=C/c1ccc(O)c(O)c1)c1ccc(O[C@@H]2O[C@H](C...   \n",
       "8726        CHEMBL45068                  O=C(CCc1ccc(O)cc1)c1c(O)cc(O)cc1O   \n",
       "\n",
       "     Target ChEMBL ID  Active  \n",
       "0          CHEMBL1957       1  \n",
       "1          CHEMBL1957       1  \n",
       "2          CHEMBL1957       1  \n",
       "3          CHEMBL1957       1  \n",
       "4          CHEMBL1957       1  \n",
       "...               ...     ...  \n",
       "8722        CHEMBL203       0  \n",
       "8723        CHEMBL203       0  \n",
       "8724        CHEMBL203       0  \n",
       "8725        CHEMBL203       0  \n",
       "8726        CHEMBL203       0  \n",
       "\n",
       "[8727 rows x 4 columns]"
      ]
     },
     "execution_count": 11,
     "metadata": {},
     "output_type": "execute_result"
    }
   ],
   "source": [
    "new_data.drop(columns=['Standard Relation', 'Standard Value', 'Standard Units', 'Target Name'])"
   ]
  },
  {
   "cell_type": "code",
   "execution_count": 12,
   "metadata": {},
   "outputs": [
    {
     "data": {
      "text/plain": [
       "CHEMBL4438748    3\n",
       "CHEMBL1834657    3\n",
       "CHEMBL1945559    3\n",
       "CHEMBL1421       3\n",
       "CHEMBL553        3\n",
       "                ..\n",
       "CHEMBL431977     1\n",
       "CHEMBL437879     1\n",
       "CHEMBL258940     1\n",
       "CHEMBL2165029    1\n",
       "CHEMBL1091883    1\n",
       "Name: Molecule ChEMBL ID, Length: 8429, dtype: int64"
      ]
     },
     "execution_count": 12,
     "metadata": {},
     "output_type": "execute_result"
    }
   ],
   "source": [
    "new_data[\"Molecule ChEMBL ID\"].value_counts()"
   ]
  },
  {
   "cell_type": "code",
   "execution_count": 13,
   "metadata": {},
   "outputs": [
    {
     "data": {
      "text/html": [
       "<div>\n",
       "<style scoped>\n",
       "    .dataframe tbody tr th:only-of-type {\n",
       "        vertical-align: middle;\n",
       "    }\n",
       "\n",
       "    .dataframe tbody tr th {\n",
       "        vertical-align: top;\n",
       "    }\n",
       "\n",
       "    .dataframe thead th {\n",
       "        text-align: right;\n",
       "    }\n",
       "</style>\n",
       "<table border=\"1\" class=\"dataframe\">\n",
       "  <thead>\n",
       "    <tr style=\"text-align: right;\">\n",
       "      <th></th>\n",
       "      <th>Molecule ChEMBL ID</th>\n",
       "      <th>Smiles</th>\n",
       "      <th>Standard Relation</th>\n",
       "      <th>Standard Value</th>\n",
       "      <th>Standard Units</th>\n",
       "      <th>Target ChEMBL ID</th>\n",
       "      <th>Target Name</th>\n",
       "      <th>Active</th>\n",
       "    </tr>\n",
       "  </thead>\n",
       "  <tbody>\n",
       "    <tr>\n",
       "      <th>1460</th>\n",
       "      <td>CHEMBL2321905</td>\n",
       "      <td>COC(=O)c1cc(-c2ccc(NC(=O)c3cc(NC(=O)CCCOc4cc5c...</td>\n",
       "      <td>'='</td>\n",
       "      <td>0.0013</td>\n",
       "      <td>nM</td>\n",
       "      <td>CHEMBL614725</td>\n",
       "      <td>MIA PaCa-2</td>\n",
       "      <td>1</td>\n",
       "    </tr>\n",
       "  </tbody>\n",
       "</table>\n",
       "</div>"
      ],
      "text/plain": [
       "     Molecule ChEMBL ID                                             Smiles  \\\n",
       "1460      CHEMBL2321905  COC(=O)c1cc(-c2ccc(NC(=O)c3cc(NC(=O)CCCOc4cc5c...   \n",
       "\n",
       "     Standard Relation  Standard Value Standard Units Target ChEMBL ID  \\\n",
       "1460               '='          0.0013             nM     CHEMBL614725   \n",
       "\n",
       "     Target Name  Active  \n",
       "1460  MIA PaCa-2       1  "
      ]
     },
     "execution_count": 13,
     "metadata": {},
     "output_type": "execute_result"
    }
   ],
   "source": [
    "new_data[new_data[\"Molecule ChEMBL ID\"] == \"CHEMBL2321905\"]"
   ]
  },
  {
   "cell_type": "code",
   "execution_count": 14,
   "metadata": {},
   "outputs": [
    {
     "data": {
      "text/plain": [
       "['CHEMBL2842', 'CHEMBL203', 'CHEMBL1957', 'CHEMBL614725']"
      ]
     },
     "execution_count": 14,
     "metadata": {},
     "output_type": "execute_result"
    }
   ],
   "source": [
    "target_ids = new_data[\"Target ChEMBL ID\"].tolist()\n",
    "targets = list(set(target_ids))\n",
    "targets"
   ]
  },
  {
   "cell_type": "code",
   "execution_count": 15,
   "metadata": {},
   "outputs": [
    {
     "data": {
      "text/plain": [
       "['Molecule_id',\n",
       " 'Smiles',\n",
       " 'CHEMBL2842',\n",
       " 'CHEMBL203',\n",
       " 'CHEMBL1957',\n",
       " 'CHEMBL614725']"
      ]
     },
     "execution_count": 15,
     "metadata": {},
     "output_type": "execute_result"
    }
   ],
   "source": [
    "columns = [\"Molecule_id\", \"Smiles\"]\n",
    "columns = columns + targets\n",
    "columns"
   ]
  },
  {
   "cell_type": "code",
   "execution_count": 16,
   "metadata": {},
   "outputs": [
    {
     "data": {
      "text/html": [
       "<div>\n",
       "<style scoped>\n",
       "    .dataframe tbody tr th:only-of-type {\n",
       "        vertical-align: middle;\n",
       "    }\n",
       "\n",
       "    .dataframe tbody tr th {\n",
       "        vertical-align: top;\n",
       "    }\n",
       "\n",
       "    .dataframe thead th {\n",
       "        text-align: right;\n",
       "    }\n",
       "</style>\n",
       "<table border=\"1\" class=\"dataframe\">\n",
       "  <thead>\n",
       "    <tr style=\"text-align: right;\">\n",
       "      <th></th>\n",
       "      <th>Molecule ChEMBL ID</th>\n",
       "      <th>Smiles</th>\n",
       "      <th>CHEMBL2842</th>\n",
       "      <th>CHEMBL203</th>\n",
       "      <th>CHEMBL1957</th>\n",
       "      <th>CHEMBL614725</th>\n",
       "    </tr>\n",
       "  </thead>\n",
       "  <tbody>\n",
       "    <tr>\n",
       "      <th>0</th>\n",
       "      <td>CHEMBL3905758</td>\n",
       "      <td>CN1CCN(CCn2ccc(Nc3ncc4c(n3)-c3c(nn(C)c3-c3ccc(...</td>\n",
       "      <td>0</td>\n",
       "      <td>0</td>\n",
       "      <td>0</td>\n",
       "      <td>0</td>\n",
       "    </tr>\n",
       "    <tr>\n",
       "      <th>1</th>\n",
       "      <td>CHEMBL3950012</td>\n",
       "      <td>COc1cc(N2CCN(C(C)C)CC2)ccc1Nc1ncc2c(n1)-c1c(nn...</td>\n",
       "      <td>0</td>\n",
       "      <td>0</td>\n",
       "      <td>0</td>\n",
       "      <td>0</td>\n",
       "    </tr>\n",
       "    <tr>\n",
       "      <th>2</th>\n",
       "      <td>CHEMBL3928243</td>\n",
       "      <td>Cn1cc(-c2cccc(Cc3c4c(nn3C)CCc3cnc(Nc5ccn(CCCN6...</td>\n",
       "      <td>0</td>\n",
       "      <td>0</td>\n",
       "      <td>0</td>\n",
       "      <td>0</td>\n",
       "    </tr>\n",
       "    <tr>\n",
       "      <th>3</th>\n",
       "      <td>CHEMBL3955626</td>\n",
       "      <td>COc1cc(N2CCN(CCO)CC2)ccc1Nc1ncc2c(n1)-c1c(nn(C...</td>\n",
       "      <td>0</td>\n",
       "      <td>0</td>\n",
       "      <td>0</td>\n",
       "      <td>0</td>\n",
       "    </tr>\n",
       "    <tr>\n",
       "      <th>4</th>\n",
       "      <td>CHEMBL3979064</td>\n",
       "      <td>COc1cc(N2CCN(C3CCOCC3)CC2)ccc1Nc1ncc2c(n1)-c1c...</td>\n",
       "      <td>0</td>\n",
       "      <td>0</td>\n",
       "      <td>0</td>\n",
       "      <td>0</td>\n",
       "    </tr>\n",
       "  </tbody>\n",
       "</table>\n",
       "</div>"
      ],
      "text/plain": [
       "  Molecule ChEMBL ID                                             Smiles  \\\n",
       "0      CHEMBL3905758  CN1CCN(CCn2ccc(Nc3ncc4c(n3)-c3c(nn(C)c3-c3ccc(...   \n",
       "1      CHEMBL3950012  COc1cc(N2CCN(C(C)C)CC2)ccc1Nc1ncc2c(n1)-c1c(nn...   \n",
       "2      CHEMBL3928243  Cn1cc(-c2cccc(Cc3c4c(nn3C)CCc3cnc(Nc5ccn(CCCN6...   \n",
       "3      CHEMBL3955626  COc1cc(N2CCN(CCO)CC2)ccc1Nc1ncc2c(n1)-c1c(nn(C...   \n",
       "4      CHEMBL3979064  COc1cc(N2CCN(C3CCOCC3)CC2)ccc1Nc1ncc2c(n1)-c1c...   \n",
       "\n",
       "   CHEMBL2842  CHEMBL203  CHEMBL1957  CHEMBL614725  \n",
       "0           0          0           0             0  \n",
       "1           0          0           0             0  \n",
       "2           0          0           0             0  \n",
       "3           0          0           0             0  \n",
       "4           0          0           0             0  "
      ]
     },
     "execution_count": 16,
     "metadata": {},
     "output_type": "execute_result"
    }
   ],
   "source": [
    "transformed_data = new_data[[\"Molecule ChEMBL ID\", \"Smiles\"]]\n",
    "transformed_data = transformed_data.drop_duplicates(subset=[\"Molecule ChEMBL ID\", \"Smiles\"])\n",
    "for target in targets:\n",
    "    transformed_data[target] = 0\n",
    "transformed_data.head()"
   ]
  },
  {
   "cell_type": "code",
   "execution_count": 17,
   "metadata": {},
   "outputs": [
    {
     "data": {
      "text/plain": [
       "4480    Brc1cccc(Nc2ncnc3cc4ccccc4cc23)c1\n",
       "Name: Smiles, dtype: object"
      ]
     },
     "execution_count": 17,
     "metadata": {},
     "output_type": "execute_result"
    }
   ],
   "source": [
    "transformed_data[transformed_data[\"Molecule ChEMBL ID\"] == \"CHEMBL63786\"][\"Smiles\"]"
   ]
  },
  {
   "cell_type": "code",
   "execution_count": 18,
   "metadata": {},
   "outputs": [
    {
     "data": {
      "text/plain": [
       "4480    Brc1cccc(Nc2ncnc3cc4ccccc4cc23)c1\n",
       "Name: Smiles, dtype: object"
      ]
     },
     "execution_count": 18,
     "metadata": {},
     "output_type": "execute_result"
    }
   ],
   "source": [
    "data[data[\"Molecule ChEMBL ID\"] == \"CHEMBL63786\"][\"Smiles\"]"
   ]
  },
  {
   "cell_type": "code",
   "execution_count": 19,
   "metadata": {},
   "outputs": [
    {
     "name": "stdout",
     "output_type": "stream",
     "text": [
      "CHEMBL2842\n"
     ]
    }
   ],
   "source": [
    "df = new_data[new_data[\"Molecule ChEMBL ID\"] == \"CHEMBL1684800\"]\n",
    "\n",
    "for index, row in df.iterrows():\n",
    "    print(row[\"Target ChEMBL ID\"])"
   ]
  },
  {
   "cell_type": "code",
   "execution_count": 20,
   "metadata": {},
   "outputs": [
    {
     "data": {
      "text/plain": [
       "Molecule ChEMBL ID     object\n",
       "Smiles                 object\n",
       "Standard Relation      object\n",
       "Standard Value        float64\n",
       "Standard Units         object\n",
       "Target ChEMBL ID       object\n",
       "Target Name            object\n",
       "Active                  int64\n",
       "dtype: object"
      ]
     },
     "execution_count": 20,
     "metadata": {},
     "output_type": "execute_result"
    }
   ],
   "source": [
    "new_data.dtypes"
   ]
  },
  {
   "cell_type": "code",
   "execution_count": 21,
   "metadata": {},
   "outputs": [],
   "source": [
    "def get_target_list():\n",
    "    target_list = {}\n",
    "    for t in targets:\n",
    "        target_list[t] = 0\n",
    "    return target_list"
   ]
  },
  {
   "cell_type": "code",
   "execution_count": 22,
   "metadata": {},
   "outputs": [],
   "source": [
    "def add_values(row):\n",
    "    mol = row[\"Molecule ChEMBL ID\"]\n",
    "    mol_data = new_data[new_data[\"Molecule ChEMBL ID\"] == mol]\n",
    "    for index, r in mol_data.iterrows():\n",
    "        row[r[\"Target ChEMBL ID\"]] = 1\n",
    "    return row"
   ]
  },
  {
   "cell_type": "code",
   "execution_count": 23,
   "metadata": {},
   "outputs": [],
   "source": [
    "transformed_data = transformed_data.apply(add_values, axis = 1)"
   ]
  },
  {
   "cell_type": "code",
   "execution_count": 24,
   "metadata": {
    "scrolled": true
   },
   "outputs": [
    {
     "data": {
      "text/html": [
       "<div>\n",
       "<style scoped>\n",
       "    .dataframe tbody tr th:only-of-type {\n",
       "        vertical-align: middle;\n",
       "    }\n",
       "\n",
       "    .dataframe tbody tr th {\n",
       "        vertical-align: top;\n",
       "    }\n",
       "\n",
       "    .dataframe thead th {\n",
       "        text-align: right;\n",
       "    }\n",
       "</style>\n",
       "<table border=\"1\" class=\"dataframe\">\n",
       "  <thead>\n",
       "    <tr style=\"text-align: right;\">\n",
       "      <th></th>\n",
       "      <th>Molecule ChEMBL ID</th>\n",
       "      <th>Smiles</th>\n",
       "      <th>CHEMBL2842</th>\n",
       "      <th>CHEMBL203</th>\n",
       "      <th>CHEMBL1957</th>\n",
       "      <th>CHEMBL614725</th>\n",
       "    </tr>\n",
       "  </thead>\n",
       "  <tbody>\n",
       "    <tr>\n",
       "      <th>0</th>\n",
       "      <td>CHEMBL3905758</td>\n",
       "      <td>CN1CCN(CCn2ccc(Nc3ncc4c(n3)-c3c(nn(C)c3-c3ccc(...</td>\n",
       "      <td>0</td>\n",
       "      <td>0</td>\n",
       "      <td>1</td>\n",
       "      <td>0</td>\n",
       "    </tr>\n",
       "    <tr>\n",
       "      <th>1</th>\n",
       "      <td>CHEMBL3950012</td>\n",
       "      <td>COc1cc(N2CCN(C(C)C)CC2)ccc1Nc1ncc2c(n1)-c1c(nn...</td>\n",
       "      <td>0</td>\n",
       "      <td>0</td>\n",
       "      <td>1</td>\n",
       "      <td>0</td>\n",
       "    </tr>\n",
       "    <tr>\n",
       "      <th>2</th>\n",
       "      <td>CHEMBL3928243</td>\n",
       "      <td>Cn1cc(-c2cccc(Cc3c4c(nn3C)CCc3cnc(Nc5ccn(CCCN6...</td>\n",
       "      <td>0</td>\n",
       "      <td>0</td>\n",
       "      <td>1</td>\n",
       "      <td>0</td>\n",
       "    </tr>\n",
       "    <tr>\n",
       "      <th>3</th>\n",
       "      <td>CHEMBL3955626</td>\n",
       "      <td>COc1cc(N2CCN(CCO)CC2)ccc1Nc1ncc2c(n1)-c1c(nn(C...</td>\n",
       "      <td>0</td>\n",
       "      <td>0</td>\n",
       "      <td>1</td>\n",
       "      <td>0</td>\n",
       "    </tr>\n",
       "    <tr>\n",
       "      <th>4</th>\n",
       "      <td>CHEMBL3979064</td>\n",
       "      <td>COc1cc(N2CCN(C3CCOCC3)CC2)ccc1Nc1ncc2c(n1)-c1c...</td>\n",
       "      <td>0</td>\n",
       "      <td>0</td>\n",
       "      <td>1</td>\n",
       "      <td>0</td>\n",
       "    </tr>\n",
       "  </tbody>\n",
       "</table>\n",
       "</div>"
      ],
      "text/plain": [
       "  Molecule ChEMBL ID                                             Smiles  \\\n",
       "0      CHEMBL3905758  CN1CCN(CCn2ccc(Nc3ncc4c(n3)-c3c(nn(C)c3-c3ccc(...   \n",
       "1      CHEMBL3950012  COc1cc(N2CCN(C(C)C)CC2)ccc1Nc1ncc2c(n1)-c1c(nn...   \n",
       "2      CHEMBL3928243  Cn1cc(-c2cccc(Cc3c4c(nn3C)CCc3cnc(Nc5ccn(CCCN6...   \n",
       "3      CHEMBL3955626  COc1cc(N2CCN(CCO)CC2)ccc1Nc1ncc2c(n1)-c1c(nn(C...   \n",
       "4      CHEMBL3979064  COc1cc(N2CCN(C3CCOCC3)CC2)ccc1Nc1ncc2c(n1)-c1c...   \n",
       "\n",
       "   CHEMBL2842  CHEMBL203  CHEMBL1957  CHEMBL614725  \n",
       "0           0          0           1             0  \n",
       "1           0          0           1             0  \n",
       "2           0          0           1             0  \n",
       "3           0          0           1             0  \n",
       "4           0          0           1             0  "
      ]
     },
     "execution_count": 24,
     "metadata": {},
     "output_type": "execute_result"
    }
   ],
   "source": [
    "transformed_data.head()"
   ]
  },
  {
   "cell_type": "code",
   "execution_count": 25,
   "metadata": {},
   "outputs": [],
   "source": [
    "set1 = set(new_data[new_data[\"Target ChEMBL ID\"] == \"CHEMBL614725\"][\"Molecule ChEMBL ID\"].tolist())"
   ]
  },
  {
   "cell_type": "code",
   "execution_count": 26,
   "metadata": {},
   "outputs": [],
   "source": [
    "set2 = set(transformed_data[transformed_data[\"CHEMBL614725\"] == 1][\"Molecule ChEMBL ID\"].tolist())"
   ]
  },
  {
   "cell_type": "code",
   "execution_count": 27,
   "metadata": {},
   "outputs": [
    {
     "data": {
      "text/plain": [
       "True"
      ]
     },
     "execution_count": 27,
     "metadata": {},
     "output_type": "execute_result"
    }
   ],
   "source": [
    "set1 == set2"
   ]
  },
  {
   "cell_type": "code",
   "execution_count": 28,
   "metadata": {},
   "outputs": [
    {
     "data": {
      "text/html": [
       "<div>\n",
       "<style scoped>\n",
       "    .dataframe tbody tr th:only-of-type {\n",
       "        vertical-align: middle;\n",
       "    }\n",
       "\n",
       "    .dataframe tbody tr th {\n",
       "        vertical-align: top;\n",
       "    }\n",
       "\n",
       "    .dataframe thead th {\n",
       "        text-align: right;\n",
       "    }\n",
       "</style>\n",
       "<table border=\"1\" class=\"dataframe\">\n",
       "  <thead>\n",
       "    <tr style=\"text-align: right;\">\n",
       "      <th></th>\n",
       "      <th>Smiles</th>\n",
       "      <th>CHEMBL2842</th>\n",
       "      <th>CHEMBL203</th>\n",
       "      <th>CHEMBL1957</th>\n",
       "      <th>CHEMBL614725</th>\n",
       "    </tr>\n",
       "  </thead>\n",
       "  <tbody>\n",
       "    <tr>\n",
       "      <th>0</th>\n",
       "      <td>CN1CCN(CCn2ccc(Nc3ncc4c(n3)-c3c(nn(C)c3-c3ccc(...</td>\n",
       "      <td>0</td>\n",
       "      <td>0</td>\n",
       "      <td>1</td>\n",
       "      <td>0</td>\n",
       "    </tr>\n",
       "    <tr>\n",
       "      <th>1</th>\n",
       "      <td>COc1cc(N2CCN(C(C)C)CC2)ccc1Nc1ncc2c(n1)-c1c(nn...</td>\n",
       "      <td>0</td>\n",
       "      <td>0</td>\n",
       "      <td>1</td>\n",
       "      <td>0</td>\n",
       "    </tr>\n",
       "    <tr>\n",
       "      <th>2</th>\n",
       "      <td>Cn1cc(-c2cccc(Cc3c4c(nn3C)CCc3cnc(Nc5ccn(CCCN6...</td>\n",
       "      <td>0</td>\n",
       "      <td>0</td>\n",
       "      <td>1</td>\n",
       "      <td>0</td>\n",
       "    </tr>\n",
       "    <tr>\n",
       "      <th>3</th>\n",
       "      <td>COc1cc(N2CCN(CCO)CC2)ccc1Nc1ncc2c(n1)-c1c(nn(C...</td>\n",
       "      <td>0</td>\n",
       "      <td>0</td>\n",
       "      <td>1</td>\n",
       "      <td>0</td>\n",
       "    </tr>\n",
       "    <tr>\n",
       "      <th>4</th>\n",
       "      <td>COc1cc(N2CCN(C3CCOCC3)CC2)ccc1Nc1ncc2c(n1)-c1c...</td>\n",
       "      <td>0</td>\n",
       "      <td>0</td>\n",
       "      <td>1</td>\n",
       "      <td>0</td>\n",
       "    </tr>\n",
       "    <tr>\n",
       "      <th>...</th>\n",
       "      <td>...</td>\n",
       "      <td>...</td>\n",
       "      <td>...</td>\n",
       "      <td>...</td>\n",
       "      <td>...</td>\n",
       "    </tr>\n",
       "    <tr>\n",
       "      <th>8722</th>\n",
       "      <td>O=C(O)/C=C/c1ccc(O)cc1</td>\n",
       "      <td>0</td>\n",
       "      <td>1</td>\n",
       "      <td>0</td>\n",
       "      <td>0</td>\n",
       "    </tr>\n",
       "    <tr>\n",
       "      <th>8723</th>\n",
       "      <td>CN(c1cccnc1)c1cc2c(Nc3ccc(F)c(Cl)c3)c(C#N)cnc2cn1</td>\n",
       "      <td>0</td>\n",
       "      <td>1</td>\n",
       "      <td>0</td>\n",
       "      <td>0</td>\n",
       "    </tr>\n",
       "    <tr>\n",
       "      <th>8724</th>\n",
       "      <td>N#CC(C#N)Cc1ccc(O)cc1</td>\n",
       "      <td>0</td>\n",
       "      <td>1</td>\n",
       "      <td>0</td>\n",
       "      <td>0</td>\n",
       "    </tr>\n",
       "    <tr>\n",
       "      <th>8725</th>\n",
       "      <td>O=C(/C=C/c1ccc(O)c(O)c1)c1ccc(O[C@@H]2O[C@H](C...</td>\n",
       "      <td>0</td>\n",
       "      <td>1</td>\n",
       "      <td>0</td>\n",
       "      <td>0</td>\n",
       "    </tr>\n",
       "    <tr>\n",
       "      <th>8726</th>\n",
       "      <td>O=C(CCc1ccc(O)cc1)c1c(O)cc(O)cc1O</td>\n",
       "      <td>0</td>\n",
       "      <td>1</td>\n",
       "      <td>0</td>\n",
       "      <td>0</td>\n",
       "    </tr>\n",
       "  </tbody>\n",
       "</table>\n",
       "<p>8429 rows × 5 columns</p>\n",
       "</div>"
      ],
      "text/plain": [
       "                                                 Smiles  CHEMBL2842  \\\n",
       "0     CN1CCN(CCn2ccc(Nc3ncc4c(n3)-c3c(nn(C)c3-c3ccc(...           0   \n",
       "1     COc1cc(N2CCN(C(C)C)CC2)ccc1Nc1ncc2c(n1)-c1c(nn...           0   \n",
       "2     Cn1cc(-c2cccc(Cc3c4c(nn3C)CCc3cnc(Nc5ccn(CCCN6...           0   \n",
       "3     COc1cc(N2CCN(CCO)CC2)ccc1Nc1ncc2c(n1)-c1c(nn(C...           0   \n",
       "4     COc1cc(N2CCN(C3CCOCC3)CC2)ccc1Nc1ncc2c(n1)-c1c...           0   \n",
       "...                                                 ...         ...   \n",
       "8722                             O=C(O)/C=C/c1ccc(O)cc1           0   \n",
       "8723  CN(c1cccnc1)c1cc2c(Nc3ccc(F)c(Cl)c3)c(C#N)cnc2cn1           0   \n",
       "8724                              N#CC(C#N)Cc1ccc(O)cc1           0   \n",
       "8725  O=C(/C=C/c1ccc(O)c(O)c1)c1ccc(O[C@@H]2O[C@H](C...           0   \n",
       "8726                  O=C(CCc1ccc(O)cc1)c1c(O)cc(O)cc1O           0   \n",
       "\n",
       "      CHEMBL203  CHEMBL1957  CHEMBL614725  \n",
       "0             0           1             0  \n",
       "1             0           1             0  \n",
       "2             0           1             0  \n",
       "3             0           1             0  \n",
       "4             0           1             0  \n",
       "...         ...         ...           ...  \n",
       "8722          1           0             0  \n",
       "8723          1           0             0  \n",
       "8724          1           0             0  \n",
       "8725          1           0             0  \n",
       "8726          1           0             0  \n",
       "\n",
       "[8429 rows x 5 columns]"
      ]
     },
     "execution_count": 28,
     "metadata": {},
     "output_type": "execute_result"
    }
   ],
   "source": [
    "transformed_data = transformed_data.drop(columns = [\"Molecule ChEMBL ID\"], axis = 1)\n",
    "transformed_data"
   ]
  },
  {
   "cell_type": "code",
   "execution_count": 29,
   "metadata": {},
   "outputs": [],
   "source": [
    "transformed_data.to_csv(\"Training-Data.csv\")"
   ]
  }
 ],
 "metadata": {
  "kernelspec": {
   "display_name": "Python 3",
   "language": "python",
   "name": "python3"
  },
  "language_info": {
   "codemirror_mode": {
    "name": "ipython",
    "version": 3
   },
   "file_extension": ".py",
   "mimetype": "text/x-python",
   "name": "python",
   "nbconvert_exporter": "python",
   "pygments_lexer": "ipython3",
   "version": "3.7.9"
  }
 },
 "nbformat": 4,
 "nbformat_minor": 4
}
